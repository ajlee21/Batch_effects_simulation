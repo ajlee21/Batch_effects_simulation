{
 "cells": [
  {
   "cell_type": "markdown",
   "metadata": {},
   "source": [
    "# Generate data and calculate similarity\n",
    "\n",
    "The goal of this notebook is to determine how much of the structure in the original dataset (single experiment) is retained after adding some number of experiments.\n",
    "\n",
    "The approach is to,\n",
    "1. Generates simulated data by sampling from a trained VAE model.  Simulate ```num_simulated_samples```\n",
    "2. Add number of experiments in ```lst_num_experiments```\n",
    "3. Calculate the similarity between the dataset with a single experiment and the dataset with some number of experiments added.  "
   ]
  },
  {
   "cell_type": "code",
   "execution_count": 12,
   "metadata": {},
   "outputs": [
    {
     "name": "stdout",
     "output_type": "stream",
     "text": [
      "The autoreload extension is already loaded. To reload it, use:\n",
      "  %reload_ext autoreload\n"
     ]
    },
    {
     "name": "stderr",
     "output_type": "stream",
     "text": [
      "[autoreload of functions.generate_data failed: Traceback (most recent call last):\n",
      "  File \"/home/alexandra/anaconda3/envs/batch_effects/lib/python3.5/site-packages/IPython/extensions/autoreload.py\", line 245, in check\n",
      "    superreload(m, reload, self.old_objects)\n",
      "  File \"/home/alexandra/anaconda3/envs/batch_effects/lib/python3.5/site-packages/IPython/extensions/autoreload.py\", line 368, in superreload\n",
      "    module = reload(module)\n",
      "  File \"/home/alexandra/anaconda3/envs/batch_effects/lib/python3.5/imp.py\", line 315, in reload\n",
      "    return importlib.reload(module)\n",
      "  File \"/home/alexandra/anaconda3/envs/batch_effects/lib/python3.5/importlib/__init__.py\", line 166, in reload\n",
      "    _bootstrap._exec(spec, module)\n",
      "  File \"<frozen importlib._bootstrap>\", line 626, in _exec\n",
      "  File \"<frozen importlib._bootstrap_external>\", line 693, in exec_module\n",
      "  File \"<frozen importlib._bootstrap_external>\", line 799, in get_code\n",
      "  File \"<frozen importlib._bootstrap_external>\", line 759, in source_to_code\n",
      "  File \"<frozen importlib._bootstrap>\", line 222, in _call_with_frames_removed\n",
      "  File \"../functions/generate_data.py\", line 41\n",
      "    sample_ids = list(selected_metadata['ml_data_source'])\n",
      "                                                         ^\n",
      "IndentationError: unindent does not match any outer indentation level\n",
      "]\n"
     ]
    }
   ],
   "source": [
    "%load_ext autoreload\n",
    "%autoreload 2\n",
    "\n",
    "import os\n",
    "import sys\n",
    "import glob\n",
    "import pandas as pd\n",
    "import numpy as np\n",
    "from plotnine import ggplot, ggtitle, xlab, ylab, geom_point, geom_line, aes, ggsave\n",
    "import warnings\n",
    "warnings.filterwarnings(action='ignore')\n",
    "\n",
    "sys.path.append(\"../\")\n",
    "from functions import generate_data\n",
    "from functions import similarity_metric\n",
    "\n",
    "from numpy.random import seed\n",
    "randomState = 123\n",
    "seed(randomState)"
   ]
  },
  {
   "cell_type": "code",
   "execution_count": 2,
   "metadata": {},
   "outputs": [],
   "source": [
    "# User parameters\n",
    "NN_architecture = 'NN_2500_30'\n",
    "analysis_name = 'analysis_0'\n",
    "num_simulated_samples = 6000\n",
    "lst_num_experiments = [1,2,5,10,20,50,100,500,1000,2000,3000,6000]\n",
    "use_pca = True\n",
    "num_PCs = 10"
   ]
  },
  {
   "cell_type": "code",
   "execution_count": 3,
   "metadata": {},
   "outputs": [],
   "source": [
    "# Input files\n",
    "base_dir = os.path.abspath(os.path.join(os.getcwd(),\"../..\"))    # base dir on repo\n",
    "local_dir = \"/home/alexandra/Documents/\"                         # base dir on local machine for data storage\n",
    "                                                                 # Save doesn't recognize ~\n",
    "\n",
    "normalized_data_file = os.path.join(\n",
    "    base_dir,\n",
    "    \"data\",\n",
    "    \"input\",\n",
    "    \"train_set_normalized.pcl\")"
   ]
  },
  {
   "cell_type": "code",
   "execution_count": 4,
   "metadata": {},
   "outputs": [],
   "source": [
    "# Output file\n",
    "svcca_file = os.path.join(\n",
    "    local_dir,\n",
    "    \"Data\",\n",
    "    \"Batch_effects\",\n",
    "    \"output\",\n",
    "    \"svcca.pdf\")"
   ]
  },
  {
   "cell_type": "markdown",
   "metadata": {},
   "source": [
    "### Generate simulated data"
   ]
  },
  {
   "cell_type": "code",
   "execution_count": 5,
   "metadata": {},
   "outputs": [
    {
     "name": "stdout",
     "output_type": "stream",
     "text": [
      "Directory already exists: \n",
      " /home/alexandra/Documents/Data/Batch_effects/simulated/analysis_0\n",
      "\n",
      "\n",
      "Normalized gene expression data contains 950 samples and 5549 genes\n",
      "Return: simulated gene expression data containing 6000 samples and 5549 genes\n"
     ]
    }
   ],
   "source": [
    "# Generate simulated data\n",
    "generate_data.simulate_data(normalized_data_file,\n",
    "                            NN_architecture,\n",
    "                            analysis_name,\n",
    "                            num_simulated_samples\n",
    "                           )"
   ]
  },
  {
   "cell_type": "code",
   "execution_count": 6,
   "metadata": {},
   "outputs": [],
   "source": [
    "# Simulated data file \n",
    "simulated_data_file = os.path.join(\n",
    "    local_dir,\n",
    "    \"Data\",\n",
    "    \"Batch_effects\",\n",
    "    \"simulated\",\n",
    "    analysis_name,\n",
    "    \"simulated_data.txt.xz\")"
   ]
  },
  {
   "cell_type": "markdown",
   "metadata": {},
   "source": [
    "### Generate permuted version of simulated data (negative control)"
   ]
  },
  {
   "cell_type": "code",
   "execution_count": 7,
   "metadata": {},
   "outputs": [],
   "source": [
    "# Permute simulated data to be used as a negative control\n",
    "generate_data.permute_data(simulated_data_file,\n",
    "                          local_dir,\n",
    "                          analysis_name)"
   ]
  },
  {
   "cell_type": "code",
   "execution_count": 8,
   "metadata": {},
   "outputs": [],
   "source": [
    "# Permuted simulated data file \n",
    "permuted_simulated_data_file = os.path.join(\n",
    "    local_dir,\n",
    "    \"Data\",\n",
    "    \"Batch_effects\",\n",
    "    \"simulated\",\n",
    "    analysis_name,\n",
    "    \"permuted_simulated_data.txt.xz\")"
   ]
  },
  {
   "cell_type": "markdown",
   "metadata": {},
   "source": [
    "### Add number of experiments to simulated data"
   ]
  },
  {
   "cell_type": "code",
   "execution_count": 9,
   "metadata": {},
   "outputs": [
    {
     "name": "stdout",
     "output_type": "stream",
     "text": [
      "Directory already exists: \n",
      " /home/alexandra/Documents/Data/Batch_effects/experiment_simulated/analysis_0\n",
      "\n",
      "\n",
      "Creating simulated data with 1 experiments..\n",
      "Creating simulated data with 2 experiments..\n",
      "Creating simulated data with 5 experiments..\n",
      "Creating simulated data with 10 experiments..\n",
      "Creating simulated data with 20 experiments..\n",
      "Creating simulated data with 50 experiments..\n",
      "Creating simulated data with 100 experiments..\n",
      "Creating simulated data with 500 experiments..\n",
      "Creating simulated data with 1000 experiments..\n",
      "Creating simulated data with 2000 experiments..\n",
      "Creating simulated data with 3000 experiments..\n",
      "Creating simulated data with 6000 experiments..\n"
     ]
    }
   ],
   "source": [
    "# Add batch effects\n",
    "generate_data.add_experiments(simulated_data_file,\n",
    "                               lst_num_experiments,\n",
    "                               local_dir,\n",
    "                               analysis_name)"
   ]
  },
  {
   "cell_type": "markdown",
   "metadata": {},
   "source": [
    "### Calculate similarity"
   ]
  },
  {
   "cell_type": "code",
   "execution_count": 10,
   "metadata": {},
   "outputs": [
    {
     "name": "stderr",
     "output_type": "stream",
     "text": [
      "[autoreload of functions.generate_data failed: Traceback (most recent call last):\n",
      "  File \"/home/alexandra/anaconda3/envs/batch_effects/lib/python3.5/site-packages/IPython/extensions/autoreload.py\", line 245, in check\n",
      "    superreload(m, reload, self.old_objects)\n",
      "  File \"/home/alexandra/anaconda3/envs/batch_effects/lib/python3.5/site-packages/IPython/extensions/autoreload.py\", line 368, in superreload\n",
      "    module = reload(module)\n",
      "  File \"/home/alexandra/anaconda3/envs/batch_effects/lib/python3.5/imp.py\", line 315, in reload\n",
      "    return importlib.reload(module)\n",
      "  File \"/home/alexandra/anaconda3/envs/batch_effects/lib/python3.5/importlib/__init__.py\", line 166, in reload\n",
      "    _bootstrap._exec(spec, module)\n",
      "  File \"<frozen importlib._bootstrap>\", line 626, in _exec\n",
      "  File \"<frozen importlib._bootstrap_external>\", line 693, in exec_module\n",
      "  File \"<frozen importlib._bootstrap_external>\", line 799, in get_code\n",
      "  File \"<frozen importlib._bootstrap_external>\", line 759, in source_to_code\n",
      "  File \"<frozen importlib._bootstrap>\", line 222, in _call_with_frames_removed\n",
      "  File \"../functions/generate_data.py\", line 41\n",
      "    sample_ids = list(selected_metadata['ml_data_source'])\n",
      "                                                         ^\n",
      "IndentationError: unindent does not match any outer indentation level\n",
      "]\n"
     ]
    },
    {
     "name": "stdout",
     "output_type": "stream",
     "text": [
      "Calculating SVCCA score for 1 experiment vs 1 experiments..\n",
      "Calculating SVCCA score for 1 experiment vs 2 experiments..\n",
      "Calculating SVCCA score for 1 experiment vs 5 experiments..\n",
      "Calculating SVCCA score for 1 experiment vs 10 experiments..\n",
      "Calculating SVCCA score for 1 experiment vs 20 experiments..\n",
      "Calculating SVCCA score for 1 experiment vs 50 experiments..\n",
      "Calculating SVCCA score for 1 experiment vs 100 experiments..\n",
      "Calculating SVCCA score for 1 experiment vs 500 experiments..\n",
      "Calculating SVCCA score for 1 experiment vs 1000 experiments..\n",
      "Calculating SVCCA score for 1 experiment vs 2000 experiments..\n",
      "Calculating SVCCA score for 1 experiment vs 3000 experiments..\n",
      "Calculating SVCCA score for 1 experiment vs 6000 experiments..\n"
     ]
    }
   ],
   "source": [
    "# Calculate similarity\n",
    "batch_scores, permuted_score = similarity_metric.sim_svcca(simulated_data_file,\n",
    "                                                           permuted_simulated_data_file,\n",
    "                                                           'Experiment',\n",
    "                                                           lst_num_experiments,\n",
    "                                                           use_pca,\n",
    "                                                           num_PCs,\n",
    "                                                           local_dir,\n",
    "                                                           analysis_name)"
   ]
  },
  {
   "cell_type": "code",
   "execution_count": 13,
   "metadata": {},
   "outputs": [
    {
     "data": {
      "text/html": [
       "<div>\n",
       "<style scoped>\n",
       "    .dataframe tbody tr th:only-of-type {\n",
       "        vertical-align: middle;\n",
       "    }\n",
       "\n",
       "    .dataframe tbody tr th {\n",
       "        vertical-align: top;\n",
       "    }\n",
       "\n",
       "    .dataframe thead th {\n",
       "        text-align: right;\n",
       "    }\n",
       "</style>\n",
       "<table border=\"1\" class=\"dataframe\">\n",
       "  <thead>\n",
       "    <tr style=\"text-align: right;\">\n",
       "      <th></th>\n",
       "      <th>score</th>\n",
       "    </tr>\n",
       "    <tr>\n",
       "      <th>number of experiments</th>\n",
       "      <th></th>\n",
       "    </tr>\n",
       "  </thead>\n",
       "  <tbody>\n",
       "    <tr>\n",
       "      <th>0.000000</th>\n",
       "      <td>0.999994</td>\n",
       "    </tr>\n",
       "    <tr>\n",
       "      <th>0.693147</th>\n",
       "      <td>0.900070</td>\n",
       "    </tr>\n",
       "    <tr>\n",
       "      <th>1.609438</th>\n",
       "      <td>0.607380</td>\n",
       "    </tr>\n",
       "    <tr>\n",
       "      <th>2.302585</th>\n",
       "      <td>0.132124</td>\n",
       "    </tr>\n",
       "    <tr>\n",
       "      <th>2.995732</th>\n",
       "      <td>0.039475</td>\n",
       "    </tr>\n",
       "    <tr>\n",
       "      <th>3.912023</th>\n",
       "      <td>0.152333</td>\n",
       "    </tr>\n",
       "    <tr>\n",
       "      <th>4.605170</th>\n",
       "      <td>0.237688</td>\n",
       "    </tr>\n",
       "    <tr>\n",
       "      <th>6.214608</th>\n",
       "      <td>0.708840</td>\n",
       "    </tr>\n",
       "    <tr>\n",
       "      <th>6.907755</th>\n",
       "      <td>0.934743</td>\n",
       "    </tr>\n",
       "    <tr>\n",
       "      <th>7.600902</th>\n",
       "      <td>0.965099</td>\n",
       "    </tr>\n",
       "    <tr>\n",
       "      <th>8.006368</th>\n",
       "      <td>0.971042</td>\n",
       "    </tr>\n",
       "    <tr>\n",
       "      <th>8.699515</th>\n",
       "      <td>0.975187</td>\n",
       "    </tr>\n",
       "  </tbody>\n",
       "</table>\n",
       "</div>"
      ],
      "text/plain": [
       "                          score\n",
       "number of experiments          \n",
       "0.000000               0.999994\n",
       "0.693147               0.900070\n",
       "1.609438               0.607380\n",
       "2.302585               0.132124\n",
       "2.995732               0.039475\n",
       "3.912023               0.152333\n",
       "4.605170               0.237688\n",
       "6.214608               0.708840\n",
       "6.907755               0.934743\n",
       "7.600902               0.965099\n",
       "8.006368               0.971042\n",
       "8.699515               0.975187"
      ]
     },
     "execution_count": 13,
     "metadata": {},
     "output_type": "execute_result"
    }
   ],
   "source": [
    "# log10 number of experiments\n",
    "lst_num_experiments = np.log(lst_num_experiments)\n",
    "\n",
    "# Convert similarity scores to pandas dataframe\n",
    "similarity_score_df = pd.DataFrame(data={'score': batch_scores},\n",
    "                                     index=lst_num_experiments,\n",
    "                                    columns=['score'])\n",
    "similarity_score_df.index.name = 'number of experiments'\n",
    "similarity_score_df"
   ]
  },
  {
   "cell_type": "code",
   "execution_count": 14,
   "metadata": {},
   "outputs": [
    {
     "data": {
      "text/plain": [
       "0.09679680751745974"
      ]
     },
     "execution_count": 14,
     "metadata": {},
     "output_type": "execute_result"
    }
   ],
   "source": [
    "permuted_score"
   ]
  },
  {
   "cell_type": "code",
   "execution_count": 15,
   "metadata": {
    "scrolled": false
   },
   "outputs": [
    {
     "data": {
      "image/png": "[encoded data removed]",
      "text/plain": [
       "<Figure size 640x480 with 1 Axes>"
      ]
     },
     "metadata": {},
     "output_type": "display_data"
    },
    {
     "name": "stdout",
     "output_type": "stream",
     "text": [
      "<ggplot: (-9223363282176364028)>\n"
     ]
    }
   ],
   "source": [
    "# Plot\n",
    "threshold = pd.DataFrame(\n",
    "    pd.np.tile(\n",
    "        permuted_score,\n",
    "        (len(lst_num_experiments), 1)),\n",
    "    index=lst_num_experiments,\n",
    "    columns=['score'])\n",
    "\n",
    "g = ggplot(similarity_score_df, aes(x=lst_num_experiments, y='score')) \\\n",
    "    + geom_line() \\\n",
    "    + geom_line(aes(x=lst_num_experiments, y='score'), threshold, linetype='dashed') \\\n",
    "    + xlab('Number of Experiments') \\\n",
    "    + ylab('Similarity score (SVCCA)') \\\n",
    "    + ggtitle('Similarity across varying numbers of experiments')\n",
    "\n",
    "print(g)\n",
    "ggsave(plot=g, filename=svcca_file, dpi=300)"
   ]
  }
 ],
 "metadata": {
  "kernelspec": {
   "display_name": "Python [conda env:batch_effects]",
   "language": "python",
   "name": "conda-env-batch_effects-py"
  },
  "language_info": {
   "codemirror_mode": {
    "name": "ipython",
    "version": 3
   },
   "file_extension": ".py",
   "mimetype": "text/x-python",
   "name": "python",
   "nbconvert_exporter": "python",
   "pygments_lexer": "ipython3",
   "version": "3.5.5"
  }
 },
 "nbformat": 4,
 "nbformat_minor": 2
}
