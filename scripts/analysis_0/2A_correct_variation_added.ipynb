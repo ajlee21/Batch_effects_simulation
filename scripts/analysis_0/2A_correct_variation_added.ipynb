{
 "cells": [
  {
   "cell_type": "markdown",
   "metadata": {},
   "source": [
    "# Correct for the technical variation added\n",
    "\n",
    "The goal of this notebook is to try to correct for the technical variation that was added by each experiment\n",
    "\n",
    "The approach is to,\n",
    "1. Import the simulated data representing varying experiments\n",
    "2. Use [removeBatchEffect](https://rdrr.io/bioc/limma/man/removeBatchEffect.html) package from the limma library in R.\n",
    "3. Calculate the similarity between the dataset with a single experiment and the dataset corrected for the variation introduced by having some number of experiments added."
   ]
  },
  {
   "cell_type": "code",
   "execution_count": 1,
   "metadata": {},
   "outputs": [
    {
     "name": "stderr",
     "output_type": "stream",
     "text": [
      "Using TensorFlow backend.\n"
     ]
    }
   ],
   "source": [
    "%load_ext autoreload\n",
    "%autoreload 2\n",
    "%load_ext rpy2.ipython\n",
    "\n",
    "import rpy2\n",
    "from rpy2.robjects.packages import importr\n",
    "from rpy2.robjects import pandas2ri\n",
    "limma = importr('limma')\n",
    "\n",
    "import os\n",
    "import sys\n",
    "import glob\n",
    "import pandas as pd\n",
    "import numpy as np\n",
    "from plotnine import ggplot, ggtitle, xlab, ylab, geom_point, geom_line, aes, ggsave\n",
    "import warnings\n",
    "warnings.filterwarnings(action='ignore')\n",
    "\n",
    "sys.path.append(\"../\")\n",
    "from functions import generate_data\n",
    "from functions import similarity_metric\n",
    "\n",
    "from numpy.random import seed\n",
    "randomState = 123\n",
    "seed(randomState)"
   ]
  },
  {
   "cell_type": "code",
   "execution_count": 2,
   "metadata": {},
   "outputs": [],
   "source": [
    "%%R\n",
    "# Run once to install needed R packages\n",
    "#install.packages(c(\"devtools\"))\n",
    "#source(\"http://www.bioconductor.org/biocLite.R\")\n",
    "#biocLite(c(\"limma\"))\n",
    "library(limma)"
   ]
  },
  {
   "cell_type": "code",
   "execution_count": 15,
   "metadata": {},
   "outputs": [],
   "source": [
    "# User parameters\n",
    "NN_architecture = 'NN_2500_30'\n",
    "analysis_name = 'analysis_0'\n",
    "num_simulated_samples = 6000\n",
    "lst_num_experiments = [1,2,5,10,20,50,100,500,1000,2000,3000,6000]\n",
    "use_pca = True\n",
    "num_PCs = 10"
   ]
  },
  {
   "cell_type": "code",
   "execution_count": 4,
   "metadata": {},
   "outputs": [],
   "source": [
    "# Input files\n",
    "base_dir = os.path.abspath(os.path.join(os.getcwd(),\"../..\"))    # base dir on repo\n",
    "local_dir = \"/home/alexandra/Documents/\"                         # base dir on local machine for data storage\n",
    "\n",
    "# Simulated data file \n",
    "simulated_data_file = os.path.join(\n",
    "    local_dir,\n",
    "    \"Data\",\n",
    "    \"Batch_effects\",\n",
    "    \"simulated\",\n",
    "    analysis_name,\n",
    "    \"simulated_data.txt.xz\")"
   ]
  },
  {
   "cell_type": "code",
   "execution_count": 5,
   "metadata": {},
   "outputs": [],
   "source": [
    "# Output file\n",
    "svcca_file = os.path.join(\n",
    "    local_dir,\n",
    "    \"Data\",\n",
    "    \"Batch_effects\",\n",
    "    \"output\",\n",
    "    \"svcca_correction.pdf\")"
   ]
  },
  {
   "cell_type": "markdown",
   "metadata": {},
   "source": [
    "### Correct for added variation"
   ]
  },
  {
   "cell_type": "code",
   "execution_count": 6,
   "metadata": {},
   "outputs": [
    {
     "name": "stdout",
     "output_type": "stream",
     "text": [
      "Correcting for 1 experiments..\n",
      "Correcting for 2 experiments..\n",
      "Correcting for 5 experiments..\n",
      "Correcting for 10 experiments..\n",
      "Correcting for 20 experiments..\n",
      "Correcting for 50 experiments..\n",
      "Correcting for 100 experiments..\n",
      "Correcting for 500 experiments..\n",
      "Correcting for 1000 experiments..\n",
      "Correcting for 2000 experiments..\n",
      "Correcting for 3000 experiments..\n",
      "Correcting for 6000 experiments..\n"
     ]
    }
   ],
   "source": [
    "for i in lst_num_experiments:\n",
    "    print('Correcting for {} experiments..'.format(i))\n",
    "\n",
    "    # Simulated data with experiments added\n",
    "    experiment_file = os.path.join(\n",
    "        local_dir,\n",
    "        \"Data\",\n",
    "        \"Batch_effects\",\n",
    "        \"experiment_simulated\",\n",
    "        analysis_name,\n",
    "        \"Experiment_\" + str(i) + \".txt.xz\")\n",
    "    \n",
    "    # Read in data\n",
    "    # data transposed to form gene x sample for R package\n",
    "    experiment_data = pd.read_table(\n",
    "        experiment_file,\n",
    "        header=0,\n",
    "        index_col=0,\n",
    "        sep='\\t').T\n",
    "    \n",
    "    # Experimental ids\n",
    "    experiment_map_file = os.path.join(\n",
    "        local_dir,\n",
    "        \"Data\",\n",
    "        \"Batch_effects\",\n",
    "        \"experiment_simulated\",\n",
    "        analysis_name,\n",
    "        \"Experiment_map_\" + str(i) + \".txt.xz\")\n",
    "    \n",
    "    # Read in map\n",
    "    experiment_map = pd.read_table(\n",
    "        experiment_map_file,\n",
    "        header=0,\n",
    "        index_col=0,\n",
    "        sep='\\t')['experiment']\n",
    "    \n",
    "    if i == 1:\n",
    "        corrected_experiment_data_df = experiment_data.copy()\n",
    "    \n",
    "    else:    \n",
    "        # Correct for technical variation\n",
    "        corrected_experiment_data = limma.removeBatchEffect(experiment_data, batch=experiment_map)\n",
    "\n",
    "        # Convert R object to pandas df\n",
    "        corrected_experiment_data_df = pandas2ri.ri2py_dataframe(corrected_experiment_data)\n",
    "    \n",
    "    # Write out corrected files\n",
    "    experiment_corrected_file = os.path.join(\n",
    "        local_dir,\n",
    "        \"Data\",\n",
    "        \"Batch_effects\",\n",
    "        \"experiment_simulated\",\n",
    "        analysis_name,\n",
    "        \"Experiment_corrected_\" + str(i) + \".txt.xz\")\n",
    "    \n",
    "    corrected_experiment_data_df.to_csv(\n",
    "        experiment_corrected_file, float_format='%.3f', sep='\\t', compression='xz')"
   ]
  },
  {
   "cell_type": "markdown",
   "metadata": {},
   "source": [
    "### Calculate similarity"
   ]
  },
  {
   "cell_type": "code",
   "execution_count": 7,
   "metadata": {},
   "outputs": [],
   "source": [
    "# Permuted simulated data file \n",
    "permuted_simulated_data_file = os.path.join(\n",
    "    local_dir,\n",
    "    \"Data\",\n",
    "    \"Batch_effects\",\n",
    "    \"simulated\",\n",
    "    analysis_name,\n",
    "    \"permuted_simulated_data.txt.xz\")"
   ]
  },
  {
   "cell_type": "code",
   "execution_count": 8,
   "metadata": {},
   "outputs": [
    {
     "name": "stdout",
     "output_type": "stream",
     "text": [
      "Calculating SVCCA score for 1 experiment vs 1 experiments..\n",
      "Calculating SVCCA score for 1 experiment vs 2 experiments..\n",
      "Calculating SVCCA score for 1 experiment vs 5 experiments..\n",
      "Calculating SVCCA score for 1 experiment vs 10 experiments..\n",
      "Calculating SVCCA score for 1 experiment vs 20 experiments..\n",
      "Calculating SVCCA score for 1 experiment vs 50 experiments..\n",
      "Calculating SVCCA score for 1 experiment vs 100 experiments..\n",
      "Calculating SVCCA score for 1 experiment vs 500 experiments..\n",
      "Calculating SVCCA score for 1 experiment vs 1000 experiments..\n",
      "Calculating SVCCA score for 1 experiment vs 2000 experiments..\n",
      "Calculating SVCCA score for 1 experiment vs 3000 experiments..\n",
      "Calculating SVCCA score for 1 experiment vs 6000 experiments..\n"
     ]
    }
   ],
   "source": [
    "# Calculate similarity\n",
    "batch_scores, permuted_score = similarity_metric.sim_svcca(simulated_data_file,\n",
    "                                                           permuted_simulated_data_file,\n",
    "                                                           \"Experiment_corrected\",\n",
    "                                                           lst_num_experiments,\n",
    "                                                           use_pca,\n",
    "                                                           num_PCs,\n",
    "                                                           local_dir,\n",
    "                                                           analysis_name)"
   ]
  },
  {
   "cell_type": "code",
   "execution_count": 16,
   "metadata": {},
   "outputs": [
    {
     "data": {
      "text/html": [
       "<div>\n",
       "<style scoped>\n",
       "    .dataframe tbody tr th:only-of-type {\n",
       "        vertical-align: middle;\n",
       "    }\n",
       "\n",
       "    .dataframe tbody tr th {\n",
       "        vertical-align: top;\n",
       "    }\n",
       "\n",
       "    .dataframe thead th {\n",
       "        text-align: right;\n",
       "    }\n",
       "</style>\n",
       "<table border=\"1\" class=\"dataframe\">\n",
       "  <thead>\n",
       "    <tr style=\"text-align: right;\">\n",
       "      <th></th>\n",
       "      <th>score</th>\n",
       "    </tr>\n",
       "    <tr>\n",
       "      <th>number of experiments</th>\n",
       "      <th></th>\n",
       "    </tr>\n",
       "  </thead>\n",
       "  <tbody>\n",
       "    <tr>\n",
       "      <th>1</th>\n",
       "      <td>0.999994</td>\n",
       "    </tr>\n",
       "    <tr>\n",
       "      <th>2</th>\n",
       "      <td>0.999940</td>\n",
       "    </tr>\n",
       "    <tr>\n",
       "      <th>5</th>\n",
       "      <td>0.999639</td>\n",
       "    </tr>\n",
       "    <tr>\n",
       "      <th>10</th>\n",
       "      <td>0.999199</td>\n",
       "    </tr>\n",
       "    <tr>\n",
       "      <th>20</th>\n",
       "      <td>0.998381</td>\n",
       "    </tr>\n",
       "    <tr>\n",
       "      <th>50</th>\n",
       "      <td>0.996112</td>\n",
       "    </tr>\n",
       "    <tr>\n",
       "      <th>100</th>\n",
       "      <td>0.991921</td>\n",
       "    </tr>\n",
       "    <tr>\n",
       "      <th>500</th>\n",
       "      <td>0.958655</td>\n",
       "    </tr>\n",
       "    <tr>\n",
       "      <th>1000</th>\n",
       "      <td>0.911533</td>\n",
       "    </tr>\n",
       "    <tr>\n",
       "      <th>2000</th>\n",
       "      <td>0.816812</td>\n",
       "    </tr>\n",
       "    <tr>\n",
       "      <th>3000</th>\n",
       "      <td>0.705970</td>\n",
       "    </tr>\n",
       "    <tr>\n",
       "      <th>6000</th>\n",
       "      <td>0.032900</td>\n",
       "    </tr>\n",
       "  </tbody>\n",
       "</table>\n",
       "</div>"
      ],
      "text/plain": [
       "                          score\n",
       "number of experiments          \n",
       "1                      0.999994\n",
       "2                      0.999940\n",
       "5                      0.999639\n",
       "10                     0.999199\n",
       "20                     0.998381\n",
       "50                     0.996112\n",
       "100                    0.991921\n",
       "500                    0.958655\n",
       "1000                   0.911533\n",
       "2000                   0.816812\n",
       "3000                   0.705970\n",
       "6000                   0.032900"
      ]
     },
     "execution_count": 16,
     "metadata": {},
     "output_type": "execute_result"
    }
   ],
   "source": [
    "# Convert similarity scores to pandas dataframe\n",
    "similarity_score_df = pd.DataFrame(data={'score': batch_scores},\n",
    "                                     index=lst_num_experiments,\n",
    "                                    columns=['score'])\n",
    "similarity_score_df.index.name = 'number of experiments'\n",
    "similarity_score_df"
   ]
  },
  {
   "cell_type": "code",
   "execution_count": 17,
   "metadata": {},
   "outputs": [
    {
     "name": "stdout",
     "output_type": "stream",
     "text": [
      "Similarity between input vs permuted data is 0.09679680751745974\n"
     ]
    }
   ],
   "source": [
    "print(\"Similarity between input vs permuted data is {}\".format(permuted_score))"
   ]
  },
  {
   "cell_type": "code",
   "execution_count": 18,
   "metadata": {},
   "outputs": [
    {
     "data": {
      "image/png": "[encoded data removed]",
      "text/plain": [
       "<Figure size 640x480 with 1 Axes>"
      ]
     },
     "metadata": {},
     "output_type": "display_data"
    },
    {
     "name": "stdout",
     "output_type": "stream",
     "text": [
      "<ggplot: (-9223363308911677636)>\n"
     ]
    }
   ],
   "source": [
    "# Plot\n",
    "threshold = pd.DataFrame(\n",
    "    pd.np.tile(\n",
    "        permuted_score,\n",
    "        (len(lst_num_experiments), 1)),\n",
    "    index=lst_num_experiments,\n",
    "    columns=['score'])\n",
    "\n",
    "g = ggplot(similarity_score_df, aes(x=lst_num_experiments, y='score')) \\\n",
    "    + geom_line() \\\n",
    "    + geom_line(aes(x=lst_num_experiments, y='score'), threshold, linetype='dashed') \\\n",
    "    + xlab('Number of Experiments') \\\n",
    "    + ylab('Similarity score (SVCCA)') \\\n",
    "    + ggtitle('Similarity across varying numbers of experiments')\n",
    "\n",
    "print(g)\n",
    "ggsave(plot=g, filename=svcca_file, dpi=300)"
   ]
  }
 ],
 "metadata": {
  "kernelspec": {
   "display_name": "Python [conda env:batch_effects]",
   "language": "python",
   "name": "conda-env-batch_effects-py"
  },
  "language_info": {
   "codemirror_mode": {
    "name": "ipython",
    "version": 3
   },
   "file_extension": ".py",
   "mimetype": "text/x-python",
   "name": "python",
   "nbconvert_exporter": "python",
   "pygments_lexer": "ipython3",
   "version": "3.5.5"
  }
 },
 "nbformat": 4,
 "nbformat_minor": 2
}
