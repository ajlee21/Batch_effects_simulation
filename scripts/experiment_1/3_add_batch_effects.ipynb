{
 "cells": [
  {
   "cell_type": "markdown",
   "metadata": {},
   "source": [
    "# Add batch effects\n",
    "\n",
    "Say we are interested in identifying genes that differentiate between disease vs normal states.  However our dataset includes samples from different tissues or time points and there are variations in gene expression that are due to these other conditions and do not have to do with disease state.  These non-relevant variations in the data are called *batch effects*.  \n",
    "\n",
    "We want to model these batch effects.  To do this we will:\n",
    "1. Partition our simulated data into n batches\n",
    "2. For each partition we will randomly shift the expression data.  We randomly generate a binary vector of length=number of genes (*offset vector*).  This vector will serve as the direction that we will shift to.  Then we also have a random scalar that will tell us how big of a step to take in our random direction (*stretch factor*).  We shift our partitioned data by: batch effect partition = partitioned data + stretch factor * offset vector\n",
    "3. Repeat this for each partition\n",
    "4. Append all batch effect partitions together\n"
   ]
  },
  {
   "cell_type": "code",
   "execution_count": 1,
   "metadata": {},
   "outputs": [],
   "source": [
    "%load_ext autoreload\n",
    "%autoreload 2\n",
    "\n",
    "import os\n",
    "import ast\n",
    "import pandas as pd\n",
    "import numpy as np\n",
    "import random\n",
    "import glob\n",
    "import umap\n",
    "import pickle\n",
    "import seaborn as sns\n",
    "import warnings\n",
    "warnings.filterwarnings(action='ignore')\n",
    "\n",
    "from sklearn.decomposition import PCA\n",
    "from numpy.random import seed\n",
    "randomState = 123\n",
    "seed(randomState)"
   ]
  },
  {
   "cell_type": "code",
   "execution_count": 2,
   "metadata": {},
   "outputs": [
    {
     "ename": "FileNotFoundError",
     "evalue": "[Errno 2] No such file or directory: 'config_exp_2.txt'",
     "output_type": "error",
     "traceback": [
      "\u001b[0;31m---------------------------------------------------------------------------\u001b[0m",
      "\u001b[0;31mFileNotFoundError\u001b[0m                         Traceback (most recent call last)",
      "\u001b[0;32m<ipython-input-2-062cb0b1f16c>\u001b[0m in \u001b[0;36m<module>\u001b[0;34m()\u001b[0m\n\u001b[1;32m      6\u001b[0m \u001b[0mstr_params\u001b[0m \u001b[0;34m=\u001b[0m \u001b[0;34m[\u001b[0m\u001b[0;34m\"analysis_name\"\u001b[0m\u001b[0;34m,\u001b[0m \u001b[0;34m\"NN_architecture\"\u001b[0m\u001b[0;34m]\u001b[0m\u001b[0;34m\u001b[0m\u001b[0m\n\u001b[1;32m      7\u001b[0m \u001b[0mlst_params\u001b[0m \u001b[0;34m=\u001b[0m \u001b[0;34m[\u001b[0m\u001b[0;34m\"num_batches\"\u001b[0m\u001b[0;34m]\u001b[0m\u001b[0;34m\u001b[0m\u001b[0m\n\u001b[0;32m----> 8\u001b[0;31m \u001b[0;32mwith\u001b[0m \u001b[0mopen\u001b[0m\u001b[0;34m(\u001b[0m\u001b[0mconfig_file\u001b[0m\u001b[0;34m)\u001b[0m \u001b[0;32mas\u001b[0m \u001b[0mf\u001b[0m\u001b[0;34m:\u001b[0m\u001b[0;34m\u001b[0m\u001b[0m\n\u001b[0m\u001b[1;32m      9\u001b[0m     \u001b[0;32mfor\u001b[0m \u001b[0mline\u001b[0m \u001b[0;32min\u001b[0m \u001b[0mf\u001b[0m\u001b[0;34m:\u001b[0m\u001b[0;34m\u001b[0m\u001b[0m\n\u001b[1;32m     10\u001b[0m         \u001b[0;34m(\u001b[0m\u001b[0mname\u001b[0m\u001b[0;34m,\u001b[0m \u001b[0mval\u001b[0m\u001b[0;34m)\u001b[0m \u001b[0;34m=\u001b[0m \u001b[0mline\u001b[0m\u001b[0;34m.\u001b[0m\u001b[0msplit\u001b[0m\u001b[0;34m(\u001b[0m\u001b[0;34m)\u001b[0m\u001b[0;34m\u001b[0m\u001b[0m\n",
      "\u001b[0;31mFileNotFoundError\u001b[0m: [Errno 2] No such file or directory: 'config_exp_2.txt'"
     ]
    }
   ],
   "source": [
    "# Load config file\n",
    "config_file = \"config_exp_1.txt\"\n",
    "\n",
    "d = {}\n",
    "float_params = [\"learning_rate\", \"kappa\", \"epsilon_std\"]\n",
    "str_params = [\"analysis_name\", \"NN_architecture\"]\n",
    "lst_params = [\"num_batches\"]\n",
    "with open(config_file) as f:\n",
    "    for line in f:\n",
    "        (name, val) = line.split()\n",
    "        if name in float_params:\n",
    "            d[name] = float(val)\n",
    "        elif name in str_params:\n",
    "            d[name] = str(val)\n",
    "        elif name in lst_params:\n",
    "            d[name] = ast.literal_eval(val)\n",
    "        else:\n",
    "            d[name] = int(val)"
   ]
  },
  {
   "cell_type": "code",
   "execution_count": null,
   "metadata": {},
   "outputs": [],
   "source": [
    "# Parameters\n",
    "analysis_name = d[\"analysis_name\"]\n",
    "NN_architecture = d[\"NN_architecture\"]\n",
    "num_PCs = d[\"num_PCs\"]\n",
    "num_batches = d[\"num_batches\"]"
   ]
  },
  {
   "cell_type": "code",
   "execution_count": null,
   "metadata": {},
   "outputs": [],
   "source": [
    "# Create directories\n",
    "base_dir = os.path.abspath(os.path.join(os.getcwd(),\"../..\"))\n",
    "\n",
    "new_dir = os.path.join(\n",
    "    base_dir,\n",
    "    \"data\",\n",
    "    \"batch_simulated\")\n",
    "\n",
    "analysis_dir = os.path.join(new_dir, analysis_name)\n",
    "\n",
    "if os.path.exists(analysis_dir):\n",
    "    print('directory already exists: {}'.format(analysis_dir))\n",
    "else:\n",
    "    print('creating new directory: {}'.format(analysis_dir))\n",
    "os.makedirs(analysis_dir, exist_ok=True)"
   ]
  },
  {
   "cell_type": "code",
   "execution_count": null,
   "metadata": {},
   "outputs": [],
   "source": [
    "# Load arguments\n",
    "simulated_data_file = os.path.join(\n",
    "    base_dir,\n",
    "    \"data\",\n",
    "    \"simulated\",\n",
    "    analysis_name,\n",
    "    \"simulated_data.txt.xz\")\n",
    "\n",
    "umap_model_file = umap_model_file = os.path.join(\n",
    "    base_dir,\n",
    "    \"models\",  \n",
    "    NN_architecture,\n",
    "    \"umap_model.pkl\")"
   ]
  },
  {
   "cell_type": "code",
   "execution_count": null,
   "metadata": {},
   "outputs": [],
   "source": [
    "# Read in UMAP model\n",
    "infile = open(umap_model_file, 'rb')\n",
    "umap_model = pickle.load(infile)\n",
    "infile.close()"
   ]
  },
  {
   "cell_type": "code",
   "execution_count": null,
   "metadata": {},
   "outputs": [],
   "source": [
    "# Read in data\n",
    "simulated_data = pd.read_table(\n",
    "    simulated_data_file,\n",
    "    header=0, \n",
    "    index_col=0,\n",
    "    compression='xz',\n",
    "    sep='\\t')\n",
    "\n",
    "simulated_data.head(10)"
   ]
  },
  {
   "cell_type": "code",
   "execution_count": null,
   "metadata": {},
   "outputs": [],
   "source": [
    "%%time\n",
    "# Add batch effects\n",
    "num_simulated_samples = simulated_data.shape[0]\n",
    "num_genes = simulated_data.shape[1]\n",
    "subset_genes_to_change = np.random.RandomState(randomState).choice([0, 1], size=(num_genes), p=[3./4, 1./4])\n",
    "    \n",
    "for i in num_batches:\n",
    "    print('Creating simulated data with {} batches..'.format(i))\n",
    "    \n",
    "    batch_file = os.path.join(\n",
    "            base_dir,\n",
    "            \"data\",\n",
    "            \"batch_simulated\",\n",
    "            analysis_name,\n",
    "            \"Batch_\"+str(i)+\".txt.xz\")\n",
    "    \n",
    "    num_samples_per_batch = int(num_simulated_samples/i)\n",
    "    \n",
    "    if i == 1:        \n",
    "        simulated_data.to_csv(batch_file, sep='\\t', compression='xz')\n",
    "        \n",
    "    else:  \n",
    "        batch_data_df = pd.DataFrame()\n",
    "        \n",
    "        simulated_data_draw = simulated_data\n",
    "        for j in range(i):            \n",
    "            # Randomly select samples\n",
    "            batch_df = simulated_data_draw.sample(n=num_samples_per_batch, frac=None, replace=False)\n",
    "            batch_df.columns = batch_df.columns.astype(str)\n",
    "            \n",
    "            # Update df to remove selected samples\n",
    "            sampled_ids = list(batch_df.index)\n",
    "            simulated_data_draw = simulated_data_draw.drop(sampled_ids)\n",
    "\n",
    "            # Add batch effect\n",
    "            \n",
    "            # Option 1: Add small amount to subset of genes\n",
    "            stretch_factor = np.random.uniform(0,0.5)\n",
    "            #stretch_factor = 0.0\n",
    "            subset_genes_to_change_tile = pd.DataFrame(\n",
    "                pd.np.tile(\n",
    "                    subset_genes_to_change,\n",
    "                    (num_samples_per_batch, 1)),\n",
    "                index=batch_df.index,\n",
    "                columns=simulated_data.columns)\n",
    "\n",
    "            offset_vector = pd.DataFrame(subset_genes_to_change_tile*stretch_factor)\n",
    "            offset_vector.columns = offset_vector.columns.astype(str)\n",
    "            \n",
    "            batch_df = batch_df + offset_vector\n",
    "            \n",
    "            # Option 2: Multiply all samples by small scale factor\n",
    "            #stretch_factor = np.random.uniform(1.0,1.5)\n",
    "            #batch_df = batch_df*stretch_factor\n",
    "\n",
    "            # if any exceed 1 then set to 1 since gene expression is normalized\n",
    "            batch_df[batch_df>=1.0] = 1.0\n",
    "\n",
    "            # Append batched together\n",
    "            batch_data_df = batch_data_df.append(batch_df)\n",
    "\n",
    "            # Select a new direction (i.e. a new subset of genes to change)\n",
    "            np.random.shuffle(subset_genes_to_change)\n",
    "            \n",
    "        # Save\n",
    "        batch_data_df.to_csv(batch_file, sep='\\t', compression='xz')"
   ]
  },
  {
   "cell_type": "markdown",
   "metadata": {},
   "source": [
    "## Plot batch data using UMAP"
   ]
  },
  {
   "cell_type": "code",
   "execution_count": null,
   "metadata": {
    "scrolled": true
   },
   "outputs": [],
   "source": [
    "\"\"\"\n",
    "# Plot generated data \n",
    "\n",
    "for i in num_batches:\n",
    "    batch_data_file = os.path.join(\n",
    "        base_dir,\n",
    "        \"data\",\n",
    "        \"batch_simulated\",\n",
    "        analysis_name,\n",
    "        \"Batch_\"+str(i)+\".txt\")\n",
    "    \n",
    "    batch_data = pd.read_table(\n",
    "        batch_data_file,\n",
    "        header=0,\n",
    "        sep='\\t',\n",
    "        index_col=0)\n",
    "    \n",
    "    # UMAP embedding of decoded batch data\n",
    "    batch_data_UMAPencoded = umap_model.transform(batch_data)\n",
    "    batch_data_UMAPencoded_df = pd.DataFrame(data=batch_data_UMAPencoded,\n",
    "                                             index=batch_data.index,\n",
    "                                             columns=['1','2'])\n",
    "    \n",
    "        \n",
    "    g = ggplot(aes(x='1',y='2'), data=batch_data_UMAPencoded_df) + \\\n",
    "                geom_point(alpha=0.5) + \\\n",
    "                scale_color_brewer(type='qual', palette='Set2') + \\\n",
    "                ggtitle(\"{} Batches\".format(i))\n",
    "    \n",
    "    print(g)\"\"\""
   ]
  },
  {
   "cell_type": "markdown",
   "metadata": {},
   "source": [
    "## Plot batch data using PCA"
   ]
  },
  {
   "cell_type": "code",
   "execution_count": null,
   "metadata": {
    "scrolled": true
   },
   "outputs": [],
   "source": [
    "\"\"\"\n",
    "# Plot generated data \n",
    "\n",
    "for i in num_batches:\n",
    "    batch_data_file = os.path.join(\n",
    "        base_dir,\n",
    "        \"data\",\n",
    "        \"batch_simulated\",\n",
    "        analysis_name,\n",
    "        \"Batch_\"+str(i)+\".txt\")\n",
    "    \n",
    "    batch_data = pd.read_table(\n",
    "        batch_data_file,\n",
    "        header=0,\n",
    "        sep='\\t',\n",
    "        index_col=0)\n",
    "    \n",
    "    # PCA projection    \n",
    "    pca = PCA(n_components=num_PCs)\n",
    "    batch_data_PCAencoded = pca.fit_transform(batch_data)\n",
    "    \n",
    "    # Encode data using PCA model    \n",
    "    batch_data_PCAencoded_df = pd.DataFrame(batch_data_PCAencoded,\n",
    "                                         index=batch_data.index\n",
    "                                         )\n",
    "    \n",
    "    g = sns.pairplot(batch_data_PCAencoded_df)\n",
    "    g.fig.suptitle(\"Batch {}\".format(i))\n",
    "       \n",
    "    # Select pairwise PC's to plot\n",
    "    pc1 = 0\n",
    "    pc2 = 2\n",
    "    \n",
    "    # Encode data using PCA model    \n",
    "    batch_data_PCAencoded_df = pd.DataFrame(batch_data_PCAencoded[:,[pc1,pc2]],\n",
    "                                         index=batch_data.index,\n",
    "                                         columns=['PC {}'.format(pc1), 'PC {}'.format(pc2)])\n",
    "    \n",
    "    g = ggplot(aes(x='PC {}'.format(pc1),y='PC {}'.format(pc2)), data=batch_data_PCAencoded_df)  + \\\n",
    "                geom_point(alpha=0.5) + \\\n",
    "                scale_color_brewer(type='qual', palette='Set2') + \\\n",
    "                ggtitle(\"{} Batches\".format(i))\n",
    "    print(g)\n",
    "\n",
    "\"\"\""
   ]
  }
 ],
 "metadata": {
  "kernelspec": {
   "display_name": "Python [conda env:batch_effects]",
   "language": "python",
   "name": "conda-env-batch_effects-py"
  },
  "language_info": {
   "codemirror_mode": {
    "name": "ipython",
    "version": 3
   },
   "file_extension": ".py",
   "mimetype": "text/x-python",
   "name": "python",
   "nbconvert_exporter": "python",
   "pygments_lexer": "ipython3",
   "version": "3.5.5"
  }
 },
 "nbformat": 4,
 "nbformat_minor": 2
}
