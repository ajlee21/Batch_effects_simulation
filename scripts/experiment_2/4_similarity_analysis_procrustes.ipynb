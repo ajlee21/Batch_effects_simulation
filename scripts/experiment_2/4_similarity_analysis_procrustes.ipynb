{
 "cells": [
  {
   "cell_type": "markdown",
   "metadata": {},
   "source": [
    "# Similarity analysis\n",
    "\n",
    "We want to determine if the different batch simulated data is able to capture the biological signal that is present in the original data:  How much of the real input data is captured in the simulated batch data?\n",
    "\n",
    "In other words, we want to ask: “do these datasets have similar patterns”?\n",
    "\n",
    "To do this we will use a [procrustes analysis](https://en.wikipedia.org/wiki/Procrustes_analysis).\n",
    "\n",
    "**How does it work?**\n",
    "Given data1 and data2, procrustes manipulates data1 to transform it into data2 through a series of rotations, shifts, scaling in order to minimize the sum of squares of the difference between the two points: $\\Sigma(data1 - data2)^2$."
   ]
  },
  {
   "cell_type": "code",
   "execution_count": 1,
   "metadata": {},
   "outputs": [],
   "source": [
    "%load_ext autoreload\n",
    "%autoreload 2\n",
    "\n",
    "import os\n",
    "import ast\n",
    "import pandas as pd\n",
    "import numpy as np\n",
    "import random\n",
    "import glob\n",
    "from plotnine import *\n",
    "from scipy.spatial import procrustes\n",
    "import warnings\n",
    "warnings.filterwarnings(action='ignore')"
   ]
  },
  {
   "cell_type": "code",
   "execution_count": 2,
   "metadata": {},
   "outputs": [],
   "source": [
    "# Load config file\n",
    "config_file = \"config_exp_2.txt\"\n",
    "\n",
    "d = {}\n",
    "float_params = [\"learning_rate\", \"kappa\", \"epsilon_std\"]\n",
    "str_params = [\"analysis_name\", \"NN_architecture\"]\n",
    "lst_params = [\"num_batches\"]\n",
    "with open(config_file) as f:\n",
    "    for line in f:\n",
    "        (name, val) = line.split()\n",
    "        if name in float_params:\n",
    "            d[name] = float(val)\n",
    "        elif name in str_params:\n",
    "            d[name] = str(val)\n",
    "        elif name in lst_params:\n",
    "            d[name] = ast.literal_eval(val)\n",
    "        else:\n",
    "            d[name] = int(val)"
   ]
  },
  {
   "cell_type": "code",
   "execution_count": 3,
   "metadata": {},
   "outputs": [],
   "source": [
    "# Parameters\n",
    "analysis_name = d[\"analysis_name\"]\n",
    "NN_architecture = d[\"NN_architecture\"]\n",
    "num_batches = d[\"num_batches\"]"
   ]
  },
  {
   "cell_type": "code",
   "execution_count": 4,
   "metadata": {},
   "outputs": [],
   "source": [
    "# Load data\n",
    "base_dir = os.path.abspath(os.path.join(os.getcwd(),\"../..\"))\n",
    "\n",
    "batch_dir = os.path.join(\n",
    "    base_dir,\n",
    "    \"data\",\n",
    "    \"batch_simulated\",\n",
    "    analysis_name)"
   ]
  },
  {
   "cell_type": "code",
   "execution_count": 5,
   "metadata": {},
   "outputs": [
    {
     "name": "stdout",
     "output_type": "stream",
     "text": [
      "Cacluating disparity of 1 batch vs 1 batches..\n",
      "Cacluating disparity of 1 batch vs 2 batches..\n",
      "Cacluating disparity of 1 batch vs 5 batches..\n",
      "Cacluating disparity of 1 batch vs 10 batches..\n",
      "Cacluating disparity of 1 batch vs 20 batches..\n",
      "Cacluating disparity of 1 batch vs 50 batches..\n",
      "Cacluating disparity of 1 batch vs 100 batches..\n",
      "Cacluating disparity of 1 batch vs 500 batches..\n",
      "Cacluating disparity of 1 batch vs 1000 batches..\n",
      "Cacluating disparity of 1 batch vs 2000 batches..\n",
      "Cacluating disparity of 1 batch vs 3000 batches..\n",
      "Cacluating disparity of 1 batch vs 6000 batches..\n",
      "CPU times: user 54min 4s, sys: 7min 29s, total: 1h 1min 33s\n",
      "Wall time: 16min 54s\n"
     ]
    }
   ],
   "source": [
    "%%time\n",
    "# Calculate disparity using Procrustes analysis\n",
    "output_list = []\n",
    "\n",
    "for i in num_batches:\n",
    "    print('Cacluating disparity of 1 batch vs {} batches..'.format(i))\n",
    "    \n",
    "    # Get batch 1 data\n",
    "    batch_1_file = os.path.join(\n",
    "        batch_dir,\n",
    "        \"Batch_1.txt.xz\")\n",
    "\n",
    "    batch_1 = pd.read_table(\n",
    "        batch_1_file,\n",
    "        header=0,\n",
    "        index_col=0,\n",
    "        sep='\\t')\n",
    "\n",
    "    # Simulated data with all samples in a single batch\n",
    "    original_data_df =  batch_1\n",
    "    \n",
    "    # Get data with additional batch effects added\n",
    "    batch_other_file = os.path.join(\n",
    "        batch_dir,\n",
    "        \"Batch_\"+str(i)+\".txt.xz\")\n",
    "\n",
    "    batch_other = pd.read_table(\n",
    "        batch_other_file,\n",
    "        header=0,\n",
    "        index_col=0,\n",
    "        sep='\\t')\n",
    "    \n",
    "    # Simulated data with i batch effects\n",
    "    batch_data_df =  batch_other\n",
    "    \n",
    "    # Procrustes\n",
    "    mtx1, mtx2, disparity = procrustes(original_data_df, batch_data_df)\n",
    "    \n",
    "    output_list.append(disparity)"
   ]
  },
  {
   "cell_type": "code",
   "execution_count": null,
   "metadata": {},
   "outputs": [],
   "source": [
    "# Permute simulated data\n",
    "shuffled_simulated_arr = []\n",
    "num_samples = batch_1.drop(['group']).shape[0]\n",
    "\n",
    "for i in range(num_samples):\n",
    "    row = list(batch_1.values[i])\n",
    "    shuffled_simulated_row = random.sample(row, len(row))\n",
    "    shuffled_simulated_arr.append(shuffled_simulated_row)\n",
    "\n",
    "shuffled_simulated_data = pd.DataFrame(shuffled_simulated_arr, \n",
    "                                       index=batch_1.index,\n",
    "                                       columns=batch_1.drop(['group']).columns)\n",
    "shuffled_simulated_data.head()"
   ]
  },
  {
   "cell_type": "code",
   "execution_count": null,
   "metadata": {},
   "outputs": [],
   "source": [
    "# Procrustes analysis of permuted dataset (Negative control)\n",
    "mtx1, mtx2, permuted_disparity = procrustes(original_data_df, shuffled_simulated_data)\n",
    "\n",
    "threshold = pd.DataFrame(\n",
    "    pd.np.tile(\n",
    "        permuted_disparity,\n",
    "        (len(num_batches), 1)),\n",
    "    index=num_batches,\n",
    "    columns=['disparity'])"
   ]
  },
  {
   "cell_type": "code",
   "execution_count": 7,
   "metadata": {},
   "outputs": [
    {
     "data": {
      "image/png": "[encoded data removed]",
      "text/plain": [
       "<Figure size 640x480 with 1 Axes>"
      ]
     },
     "metadata": {},
     "output_type": "display_data"
    },
    {
     "data": {
      "text/plain": [
       "<ggplot: (8745904028669)>"
      ]
     },
     "execution_count": 7,
     "metadata": {},
     "output_type": "execute_result"
    }
   ],
   "source": [
    "# Plot\n",
    "disparity_per_batch_effect = pd.DataFrame({'num_batch_effects':num_batches, \n",
    "                                     'disparity': output_list\n",
    "                                    })\n",
    "\n",
    "ggplot(disparity_per_batch_effect, aes(x='num_batch_effects', y='disparity')) \\\n",
    "    + geom_line() \\\n",
    "    + geom_line(aes(x=num_batches, y='disparity'), threshold, linetype='dashed') \\\n",
    "    + xlab('Number of Batch Effects') \\\n",
    "    + ylab('Disparity (mean squared difference)') \\\n",
    "    + ggtitle('Difference across increasing batch effects')"
   ]
  }
 ],
 "metadata": {
  "kernelspec": {
   "display_name": "Python [conda env:batch_effects]",
   "language": "python",
   "name": "conda-env-batch_effects-py"
  },
  "language_info": {
   "codemirror_mode": {
    "name": "ipython",
    "version": 3
   },
   "file_extension": ".py",
   "mimetype": "text/x-python",
   "name": "python",
   "nbconvert_exporter": "python",
   "pygments_lexer": "ipython3",
   "version": "3.5.5"
  }
 },
 "nbformat": 4,
 "nbformat_minor": 2
}
