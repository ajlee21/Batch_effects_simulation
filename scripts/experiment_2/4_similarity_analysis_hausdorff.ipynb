{
 "cells": [
  {
   "cell_type": "markdown",
   "metadata": {},
   "source": [
    "# Similarity analysis\n",
    "\n",
    "We want to determine if the different batch simulated data is able to capture the biological signal that is present in the original data:  How much of the real input data is captured in the simulated batch data?\n",
    "\n",
    "In other words, we want to ask: “do these datasets have similar patterns”?\n",
    "\n",
    "To do this we will use [Hausdorff distance](https://en.wikipedia.org/wiki/Hausdorff_distance).\n",
    "\n",
    "**How does it work?**\n",
    "Informally, two sets are close in the Hausdorff distance if every point of either set is close to some point of the other set.  In other words, it is the greatest of all the distances from a point in one set to the closest point in the other set"
   ]
  },
  {
   "cell_type": "code",
   "execution_count": 1,
   "metadata": {},
   "outputs": [],
   "source": [
    "%load_ext autoreload\n",
    "%autoreload 2\n",
    "\n",
    "import os\n",
    "import ast\n",
    "import pandas as pd\n",
    "import numpy as np\n",
    "import random\n",
    "import glob\n",
    "from plotnine import *\n",
    "from scipy.spatial.distance import directed_hausdorff\n",
    "import warnings\n",
    "warnings.filterwarnings(action='ignore')"
   ]
  },
  {
   "cell_type": "code",
   "execution_count": 2,
   "metadata": {},
   "outputs": [],
   "source": [
    "# Load config file\n",
    "config_file = \"config_exp_2.txt\"\n",
    "\n",
    "d = {}\n",
    "float_params = [\"learning_rate\", \"kappa\", \"epsilon_std\"]\n",
    "str_params = [\"analysis_name\", \"NN_architecture\"]\n",
    "lst_params = [\"num_batches\"]\n",
    "with open(config_file) as f:\n",
    "    for line in f:\n",
    "        (name, val) = line.split()\n",
    "        if name in float_params:\n",
    "            d[name] = float(val)\n",
    "        elif name in str_params:\n",
    "            d[name] = str(val)\n",
    "        elif name in lst_params:\n",
    "            d[name] = ast.literal_eval(val)\n",
    "        else:\n",
    "            d[name] = int(val)"
   ]
  },
  {
   "cell_type": "code",
   "execution_count": 3,
   "metadata": {},
   "outputs": [],
   "source": [
    "# Parameters\n",
    "analysis_name = d[\"analysis_name\"]\n",
    "NN_architecture = d[\"NN_architecture\"]\n",
    "num_batches = d[\"num_batches\"]"
   ]
  },
  {
   "cell_type": "code",
   "execution_count": 4,
   "metadata": {},
   "outputs": [],
   "source": [
    "# Load data\n",
    "base_dir = os.path.abspath(os.path.join(os.getcwd(),\"../..\"))\n",
    "\n",
    "batch_dir = os.path.join(\n",
    "    base_dir,\n",
    "    \"data\",\n",
    "    \"batch_simulated\",\n",
    "    analysis_name)"
   ]
  },
  {
   "cell_type": "code",
   "execution_count": 5,
   "metadata": {},
   "outputs": [
    {
     "name": "stdout",
     "output_type": "stream",
     "text": [
      "Calculating hausdorff distance between 1 batch vs 1 batches..\n",
      "Calculating hausdorff distance between 1 batch vs 2 batches..\n",
      "Calculating hausdorff distance between 1 batch vs 5 batches..\n",
      "Calculating hausdorff distance between 1 batch vs 10 batches..\n",
      "Calculating hausdorff distance between 1 batch vs 20 batches..\n",
      "Calculating hausdorff distance between 1 batch vs 50 batches..\n",
      "Calculating hausdorff distance between 1 batch vs 100 batches..\n",
      "Calculating hausdorff distance between 1 batch vs 500 batches..\n",
      "Calculating hausdorff distance between 1 batch vs 1000 batches..\n",
      "Calculating hausdorff distance between 1 batch vs 2000 batches..\n",
      "Calculating hausdorff distance between 1 batch vs 3000 batches..\n",
      "Calculating hausdorff distance between 1 batch vs 6000 batches..\n",
      "CPU times: user 13min 37s, sys: 9.37 s, total: 13min 46s\n",
      "Wall time: 13min 46s\n"
     ]
    }
   ],
   "source": [
    "%%time\n",
    "# Calculate dissimilarity using Hausdorff distance\n",
    "\n",
    "output_list = []\n",
    "\n",
    "for i in num_batches:\n",
    "    print('Calculating hausdorff distance between 1 batch vs {} batches..'.format(i))\n",
    "    \n",
    "    # Get batch 1 data\n",
    "    batch_1_file = os.path.join(\n",
    "        batch_dir,\n",
    "        \"Batch_1.txt.xz\")\n",
    "\n",
    "    batch_1 = pd.read_table(\n",
    "        batch_1_file,\n",
    "        header=0,\n",
    "        index_col=0,\n",
    "        sep='\\t')\n",
    "\n",
    "    # Simulated data with all samples in a single batch\n",
    "    original_data_df =  batch_1\n",
    "    \n",
    "    # Get data with additional batch effects added\n",
    "    batch_other_file = os.path.join(\n",
    "        batch_dir,\n",
    "        \"Batch_\"+str(i)+\".txt.xz\")\n",
    "\n",
    "    batch_other = pd.read_table(\n",
    "        batch_other_file,\n",
    "        header=0,\n",
    "        index_col=0,\n",
    "        sep='\\t')\n",
    "    \n",
    "    # Simulated data with i batch effects\n",
    "    batch_data_df =  batch_other\n",
    "    \n",
    "    # Calculate hausdorff distance\n",
    "    dist = max(directed_hausdorff(original_data_df, batch_data_df)[0],\n",
    "               directed_hausdorff(batch_data_df, original_data_df)[0])\n",
    "    \n",
    "    output_list.append(dist)"
   ]
  },
  {
   "cell_type": "code",
   "execution_count": null,
   "metadata": {},
   "outputs": [],
   "source": [
    "# Permute simulated data\n",
    "shuffled_simulated_arr = []\n",
    "num_samples = batch_1.drop(['group']).shape[0]\n",
    "\n",
    "for i in range(num_samples):\n",
    "    row = list(batch_1.values[i])\n",
    "    shuffled_simulated_row = random.sample(row, len(row))\n",
    "    shuffled_simulated_arr.append(shuffled_simulated_row)\n",
    "\n",
    "shuffled_simulated_data = pd.DataFrame(shuffled_simulated_arr, \n",
    "                                       index=batch_1.index,\n",
    "                                       columns=batch_1.drop(['group']).columns)\n",
    "shuffled_simulated_data.head()"
   ]
  },
  {
   "cell_type": "code",
   "execution_count": null,
   "metadata": {},
   "outputs": [],
   "source": [
    "# Hausdorff distance using permuted dataset (Negative control)\n",
    "permuted_dist = max(directed_hausdorff(original_data_df, shuffled_simulated_data)[0],\n",
    "           directed_hausdorff(batch_data_df, shuffled_simulated_data)[0])\n",
    "\n",
    "threshold = pd.DataFrame(\n",
    "    pd.np.tile(\n",
    "        permuted_dist,\n",
    "        (len(num_batches), 1)),\n",
    "    index=num_batches,\n",
    "    columns=['distance'])"
   ]
  },
  {
   "cell_type": "code",
   "execution_count": 7,
   "metadata": {},
   "outputs": [
    {
     "data": {
      "image/png": "[encoded data removed]",
      "text/plain": [
       "<Figure size 640x480 with 1 Axes>"
      ]
     },
     "metadata": {},
     "output_type": "display_data"
    },
    {
     "data": {
      "text/plain": [
       "<ggplot: (8742858826486)>"
      ]
     },
     "execution_count": 7,
     "metadata": {},
     "output_type": "execute_result"
    }
   ],
   "source": [
    "# Plot\n",
    "dist_per_batch_effect = pd.DataFrame({'num_batch_effects':num_batches, \n",
    "                                     'distance': output_list\n",
    "                                    })\n",
    "\n",
    "ggplot(dist_per_batch_effect, aes(x='num_batch_effects', y='distance')) \\\n",
    "    + geom_line() \\\n",
    "    + geom_line(aes(x=num_batches, y='distance'), threshold, linetype='dashed') \\\n",
    "    + xlab('Number of Batch Effects') \\\n",
    "    + ylab('Dissimilarity (Hausdorff distance)') \\\n",
    "    + ggtitle('Difference across increasing batch effects')"
   ]
  }
 ],
 "metadata": {
  "kernelspec": {
   "display_name": "Python [conda env:batch_effects]",
   "language": "python",
   "name": "conda-env-batch_effects-py"
  },
  "language_info": {
   "codemirror_mode": {
    "name": "ipython",
    "version": 3
   },
   "file_extension": ".py",
   "mimetype": "text/x-python",
   "name": "python",
   "nbconvert_exporter": "python",
   "pygments_lexer": "ipython3",
   "version": "3.5.5"
  }
 },
 "nbformat": 4,
 "nbformat_minor": 2
}
