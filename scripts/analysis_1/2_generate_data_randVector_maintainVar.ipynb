{
 "cells": [
  {
   "cell_type": "markdown",
   "metadata": {},
   "source": [
    "# Generate data and calculate similarity\n",
    "\n",
    "The goal of this notebook is to determine how much of the structure in the original dataset (single experiment) is retained after adding some number of experiments.\n",
    "\n",
    "For this simulation experiment we wanted to capture the individual experiment structure.\n",
    "In particular, we simulated data by (1) preserving the relationship between samples within an experiment but (2) shifting the samples in space.\n",
    "\n",
    "Criteria (1) will account for the type of experiment, such as treatment vs non-treatment.  Criteria (2) will reflect a different type of perturbation, like a different antibiotic.  \n",
    "\n",
    "The approach is to,\n",
    "1. Randomly sample an experiment from the Pseudomonas compendium\n",
    "2. Embed samples from the experiment into the trained latent space\n",
    "3. Randomly shift the samples to a new location in the latent space. This new location will be selected based on the distribution of samples in the latent space "
   ]
  },
  {
   "cell_type": "code",
   "execution_count": 1,
   "metadata": {},
   "outputs": [
    {
     "name": "stderr",
     "output_type": "stream",
     "text": [
      "Using TensorFlow backend.\n"
     ]
    }
   ],
   "source": [
    "%load_ext autoreload\n",
    "%autoreload 2\n",
    "\n",
    "import os\n",
    "import sys\n",
    "import glob\n",
    "import pandas as pd\n",
    "import numpy as np\n",
    "import random\n",
    "\n",
    "import warnings\n",
    "warnings.filterwarnings(action='ignore')\n",
    "\n",
    "sys.path.append(\"../\")\n",
    "from functions import generate_data\n",
    "\n",
    "from numpy.random import seed\n",
    "randomState = 123\n",
    "seed(randomState)"
   ]
  },
  {
   "cell_type": "code",
   "execution_count": 2,
   "metadata": {},
   "outputs": [],
   "source": [
    "# User parameters\n",
    "NN_architecture = 'NN_2500_30'\n",
    "analysis_name = 'analysis_1'\n",
    "num_simulated_experiments = 50"
   ]
  },
  {
   "cell_type": "code",
   "execution_count": 3,
   "metadata": {},
   "outputs": [],
   "source": [
    "# Input files\n",
    "\n",
    "# base dir on repo\n",
    "base_dir = os.path.abspath(os.path.join(os.getcwd(),\"../..\")) \n",
    "\n",
    "# base dir on local machine for data storage\n",
    "# os.makedirs doesn't recognize `~`\n",
    "local_dir = local_dir = os.path.abspath(os.path.join(os.getcwd(), \"../../../..\")) \n",
    "\n",
    "NN_dir = base_dir + \"/models/\" + NN_architecture\n",
    "\n",
    "normalized_data_file = os.path.join(\n",
    "    base_dir,\n",
    "    \"data\",\n",
    "    \"input\",\n",
    "    \"train_set_normalized.pcl\")"
   ]
  },
  {
   "cell_type": "markdown",
   "metadata": {},
   "source": [
    "### Load file with experiment ids"
   ]
  },
  {
   "cell_type": "code",
   "execution_count": 4,
   "metadata": {},
   "outputs": [],
   "source": [
    "experiment_ids_file = os.path.join(\n",
    "    base_dir,\n",
    "    \"data\",\n",
    "    \"metadata\",\n",
    "    \"experiment_ids.txt\")"
   ]
  },
  {
   "cell_type": "markdown",
   "metadata": {},
   "source": [
    "### Generate simulated data"
   ]
  },
  {
   "cell_type": "code",
   "execution_count": 5,
   "metadata": {
    "scrolled": true
   },
   "outputs": [
    {
     "name": "stdout",
     "output_type": "stream",
     "text": [
      "Directory already exists: \n",
      " /home/alexandra/Documents/Data/Batch_effects/simulated/analysis_1\n",
      "\n",
      "\n",
      "Normalized gene expression data contains 950 samples and 5549 genes\n",
      "E-MEXP-2606\n",
      "E-GEOD-15697\n",
      "E-GEOD-18594\n",
      "E-GEOD-13252\n",
      "E-GEOD-24038\n",
      "E-GEOD-9989\n",
      "E-GEOD-33241\n",
      "E-GEOD-26932\n",
      "E-GEOD-22665\n",
      "E-GEOD-6741\n",
      "E-GEOD-46603\n",
      "E-GEOD-24784\n",
      "E-GEOD-28953\n",
      "E-GEOD-33160\n",
      "E-MEXP-2812\n",
      "E-GEOD-7266\n",
      "E-GEOD-17179\n",
      "E-GEOD-2430\n",
      "E-GEOD-16970\n",
      "E-GEOD-45695\n",
      "E-GEOD-28953\n",
      "E-MTAB-1381\n",
      "E-GEOD-10362\n",
      "E-GEOD-46603\n",
      "E-GEOD-15697\n",
      "E-GEOD-9989\n",
      "E-GEOD-2430\n",
      "E-GEOD-16970\n",
      "E-GEOD-22999\n",
      "E-GEOD-45695\n",
      "E-GEOD-6741\n",
      "E-GEOD-7968\n",
      "E-GEOD-36647\n",
      "E-MEXP-1183\n",
      "E-GEOD-22665\n",
      "E-GEOD-28953\n",
      "E-GEOD-8083\n",
      "E-GEOD-32032\n",
      "E-GEOD-36753\n",
      "E-GEOD-28953\n",
      "E-MEXP-1183\n",
      "E-GEOD-35632\n",
      "E-GEOD-33244\n",
      "E-GEOD-7704\n",
      "E-GEOD-7704\n",
      "E-GEOD-24784\n",
      "E-GEOD-9592\n",
      "E-GEOD-9592\n",
      "E-GEOD-51076\n",
      "E-GEOD-24784\n",
      "Return: simulated gene expression data containing 353 samples and 5550 genes\n"
     ]
    }
   ],
   "source": [
    "# Generate simulated data\n",
    "generate_data.simulate_compendium(experiment_ids_file, \n",
    "                                  num_simulated_experiments,\n",
    "                                  normalized_data_file,\n",
    "                                  NN_architecture,\n",
    "                                  analysis_name\n",
    "                                 )"
   ]
  }
 ],
 "metadata": {
  "kernelspec": {
   "display_name": "Python [conda env:batch_effects]",
   "language": "python",
   "name": "conda-env-batch_effects-py"
  },
  "language_info": {
   "codemirror_mode": {
    "name": "ipython",
    "version": 3
   },
   "file_extension": ".py",
   "mimetype": "text/x-python",
   "name": "python",
   "nbconvert_exporter": "python",
   "pygments_lexer": "ipython3",
   "version": "3.5.5"
  }
 },
 "nbformat": 4,
 "nbformat_minor": 2
}
