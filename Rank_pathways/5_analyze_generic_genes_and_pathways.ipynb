{
 "cells": [
  {
   "cell_type": "markdown",
   "metadata": {},
   "source": [
    "# Analyze generic genes and pathways\n",
    "\n",
    "This notebook uses the DEG and GSEA statistics obtained from the previous notebooks [3_gene_DE_analysis](3_gene_DE_analysis.ipynb) and [4_pathway enrichment analysis](4_pathway_enrichment_analysis.ipynb) to: \n",
    "1. Determine if our simulation approach can identify a set of generic genes and pathways\n",
    "2. Compare our set of generic genes and pathways with what has been previously reported"
   ]
  },
  {
   "cell_type": "code",
   "execution_count": 1,
   "metadata": {},
   "outputs": [
    {
     "name": "stderr",
     "output_type": "stream",
     "text": [
      "/home/alexandra/anaconda3/envs/ranked_pathways/lib/python3.7/site-packages/matplotlib/__init__.py:886: MatplotlibDeprecationWarning: \n",
      "examples.directory is deprecated; in the future, examples will be found relative to the 'datapath' directory.\n",
      "  \"found relative to the 'datapath' directory.\".format(key))\n"
     ]
    }
   ],
   "source": [
    "%load_ext autoreload\n",
    "%load_ext rpy2.ipython\n",
    "%autoreload 2\n",
    "\n",
    "import os\n",
    "import sys\n",
    "import pickle\n",
    "import pandas as pd\n",
    "import numpy as np\n",
    "import random\n",
    "import warnings\n",
    "import rpy2.robjects\n",
    "import seaborn as sns\n",
    "from scipy import stats\n",
    "\n",
    "from plotnine import (ggplot,\n",
    "                      labs,   \n",
    "                      geom_point,\n",
    "                      aes, \n",
    "                      ggsave, \n",
    "                      theme_bw,\n",
    "                      theme,\n",
    "                      xlim,\n",
    "                      ylim,\n",
    "                      facet_wrap,\n",
    "                      scale_color_manual,\n",
    "                      guides, \n",
    "                      guide_legend,\n",
    "                      element_blank,\n",
    "                      element_text,\n",
    "                      element_rect,\n",
    "                      element_line,\n",
    "                      coords)\n",
    "\n",
    "def fxn():\n",
    "    warnings.warn(\"deprecated\", DeprecationWarning)\n",
    "\n",
    "with warnings.catch_warnings():\n",
    "    warnings.simplefilter(\"ignore\")\n",
    "    fxn()\n",
    "\n",
    "sys.path.append(\"../\")\n",
    "from functions import utils\n",
    "\n",
    "from numpy.random import seed\n",
    "randomState = 123\n",
    "seed(randomState)"
   ]
  },
  {
   "cell_type": "code",
   "execution_count": 2,
   "metadata": {},
   "outputs": [],
   "source": [
    "# Read in config variables\n",
    "base_dir = os.path.abspath(os.path.join(os.getcwd(),\"../\"))\n",
    "\n",
    "config_file = os.path.abspath(os.path.join(base_dir,\n",
    "                                           \"Rank_pathways\",\n",
    "                                           \"init_config.tsv\"))\n",
    "params = utils.read_config(config_file)"
   ]
  },
  {
   "cell_type": "code",
   "execution_count": 3,
   "metadata": {},
   "outputs": [],
   "source": [
    "# Load params\n",
    "local_dir = params[\"local_dir\"]\n",
    "col_to_rank = params['col_to_rank']"
   ]
  },
  {
   "cell_type": "code",
   "execution_count": 4,
   "metadata": {},
   "outputs": [],
   "source": [
    "# Input files\n",
    "gene_summary_file = os.path.join(\n",
    "    local_dir, \n",
    "    \"gene_summary_table_\"+col_to_rank+\".tsv\")\n",
    "\n",
    "pathway_summary_file = os.path.join(\n",
    "    local_dir, \n",
    "    \"pathway_summary_table_\"+col_to_rank+\".tsv\")"
   ]
  },
  {
   "cell_type": "markdown",
   "metadata": {},
   "source": [
    "## Generic genes\n",
    "Studies have found that there are some genes that are more likely to be differentially expressed even across a wide range of experimental designs. These *generic genes* are not necessarily specific to the biological process being studied but instead represents a more systematic change. We want to compare the ability to detect these generic genes using our method vs those found by Crow et. al."
   ]
  },
  {
   "cell_type": "markdown",
   "metadata": {},
   "source": [
    "### Map gene ids\n",
    "Our gene ids are ensembl while the published gene ids are using hgnc symbols. We need to map ensembl to hgnc ids in order to compare results."
   ]
  },
  {
   "cell_type": "code",
   "execution_count": 5,
   "metadata": {},
   "outputs": [],
   "source": [
    "#%%R\n",
    "#suppressWarnings(library(\"biomaRt\"))"
   ]
  },
  {
   "cell_type": "code",
   "execution_count": 6,
   "metadata": {},
   "outputs": [],
   "source": [
    "#%%R -i gene_summary_file -o gene_id_mapping\n",
    "# Convert gene ids from ensembl (ours) to entrez (DE_prior)\n",
    "\n",
    "#source('../functions/GSEA_analysis.R')\n",
    "\n",
    "#gene_id_mapping <- get_ensembl_symbol_mapping(gene_summary_file)"
   ]
  },
  {
   "cell_type": "code",
   "execution_count": 7,
   "metadata": {},
   "outputs": [],
   "source": [
    "# Set ensembl id as index\n",
    "#gene_id_mapping.set_index(\"ensembl_gene_id\", inplace=True)\n",
    "#print(gene_id_mapping.shape)\n",
    "#gene_id_mapping.head()"
   ]
  },
  {
   "cell_type": "code",
   "execution_count": 8,
   "metadata": {},
   "outputs": [],
   "source": [
    "# Save \n",
    "#gene_id_file = os.path.join(\n",
    "#    local_dir,\n",
    "#    \"ensembl_hgnc_mapping.tsv\")\n",
    "#gene_id_mapping.to_csv(gene_id_file, float_format='%.5f', sep='\\t')"
   ]
  },
  {
   "cell_type": "code",
   "execution_count": 9,
   "metadata": {},
   "outputs": [
    {
     "name": "stdout",
     "output_type": "stream",
     "text": [
      "(17810, 10)\n"
     ]
    },
    {
     "data": {
      "text/html": [
       "<div>\n",
       "<style scoped>\n",
       "    .dataframe tbody tr th:only-of-type {\n",
       "        vertical-align: middle;\n",
       "    }\n",
       "\n",
       "    .dataframe tbody tr th {\n",
       "        vertical-align: top;\n",
       "    }\n",
       "\n",
       "    .dataframe thead th {\n",
       "        text-align: right;\n",
       "    }\n",
       "</style>\n",
       "<table border=\"1\" class=\"dataframe\">\n",
       "  <thead>\n",
       "    <tr style=\"text-align: right;\">\n",
       "      <th></th>\n",
       "      <th>Gene ID</th>\n",
       "      <th>Adj P-value (Real)</th>\n",
       "      <th>Rank (Real)</th>\n",
       "      <th>Test statistic (Real)</th>\n",
       "      <th>Median adj p-value (simulated)</th>\n",
       "      <th>Rank (simulated)</th>\n",
       "      <th>Mean test statistic (simulated)</th>\n",
       "      <th>Std deviation (simulated)</th>\n",
       "      <th>Number of experiments (simulated)</th>\n",
       "      <th>Z score</th>\n",
       "    </tr>\n",
       "  </thead>\n",
       "  <tbody>\n",
       "    <tr>\n",
       "      <th>IGHG1</th>\n",
       "      <td>ENSG00000211896.7</td>\n",
       "      <td>0.03446</td>\n",
       "      <td>17809.0</td>\n",
       "      <td>4217.28509</td>\n",
       "      <td>0.00280</td>\n",
       "      <td>17796.0</td>\n",
       "      <td>241.24924</td>\n",
       "      <td>292.11299</td>\n",
       "      <td>25</td>\n",
       "      <td>13.61129</td>\n",
       "    </tr>\n",
       "    <tr>\n",
       "      <th>SCGB3A1</th>\n",
       "      <td>ENSG00000161055.3</td>\n",
       "      <td>0.10740</td>\n",
       "      <td>17807.0</td>\n",
       "      <td>2953.13558</td>\n",
       "      <td>0.04015</td>\n",
       "      <td>17678.0</td>\n",
       "      <td>85.64603</td>\n",
       "      <td>145.96075</td>\n",
       "      <td>25</td>\n",
       "      <td>19.64562</td>\n",
       "    </tr>\n",
       "    <tr>\n",
       "      <th>CEACAM6</th>\n",
       "      <td>ENSG00000086548.8</td>\n",
       "      <td>0.00175</td>\n",
       "      <td>17806.0</td>\n",
       "      <td>682.86373</td>\n",
       "      <td>0.00076</td>\n",
       "      <td>17768.0</td>\n",
       "      <td>81.22895</td>\n",
       "      <td>93.15353</td>\n",
       "      <td>25</td>\n",
       "      <td>6.45853</td>\n",
       "    </tr>\n",
       "    <tr>\n",
       "      <th>IGLL5</th>\n",
       "      <td>ENSG00000254709.7</td>\n",
       "      <td>0.01063</td>\n",
       "      <td>17804.0</td>\n",
       "      <td>605.22586</td>\n",
       "      <td>0.00484</td>\n",
       "      <td>17068.0</td>\n",
       "      <td>38.42943</td>\n",
       "      <td>88.16046</td>\n",
       "      <td>25</td>\n",
       "      <td>6.42915</td>\n",
       "    </tr>\n",
       "    <tr>\n",
       "      <th>COL1A1</th>\n",
       "      <td>ENSG00000108821.13</td>\n",
       "      <td>0.03039</td>\n",
       "      <td>17798.0</td>\n",
       "      <td>372.52724</td>\n",
       "      <td>0.00092</td>\n",
       "      <td>17586.0</td>\n",
       "      <td>-25.24062</td>\n",
       "      <td>45.49906</td>\n",
       "      <td>25</td>\n",
       "      <td>8.74233</td>\n",
       "    </tr>\n",
       "  </tbody>\n",
       "</table>\n",
       "</div>"
      ],
      "text/plain": [
       "                    Gene ID  Adj P-value (Real)  Rank (Real)  \\\n",
       "IGHG1     ENSG00000211896.7             0.03446      17809.0   \n",
       "SCGB3A1   ENSG00000161055.3             0.10740      17807.0   \n",
       "CEACAM6   ENSG00000086548.8             0.00175      17806.0   \n",
       "IGLL5     ENSG00000254709.7             0.01063      17804.0   \n",
       "COL1A1   ENSG00000108821.13             0.03039      17798.0   \n",
       "\n",
       "         Test statistic (Real)  Median adj p-value (simulated)  \\\n",
       "IGHG1               4217.28509                         0.00280   \n",
       "SCGB3A1             2953.13558                         0.04015   \n",
       "CEACAM6              682.86373                         0.00076   \n",
       "IGLL5                605.22586                         0.00484   \n",
       "COL1A1               372.52724                         0.00092   \n",
       "\n",
       "         Rank (simulated)  Mean test statistic (simulated)  \\\n",
       "IGHG1             17796.0                        241.24924   \n",
       "SCGB3A1           17678.0                         85.64603   \n",
       "CEACAM6           17768.0                         81.22895   \n",
       "IGLL5             17068.0                         38.42943   \n",
       "COL1A1            17586.0                        -25.24062   \n",
       "\n",
       "         Std deviation (simulated)  Number of experiments (simulated)  \\\n",
       "IGHG1                    292.11299                                 25   \n",
       "SCGB3A1                  145.96075                                 25   \n",
       "CEACAM6                   93.15353                                 25   \n",
       "IGLL5                     88.16046                                 25   \n",
       "COL1A1                    45.49906                                 25   \n",
       "\n",
       "          Z score  \n",
       "IGHG1    13.61129  \n",
       "SCGB3A1  19.64562  \n",
       "CEACAM6   6.45853  \n",
       "IGLL5     6.42915  \n",
       "COL1A1    8.74233  "
      ]
     },
     "execution_count": 9,
     "metadata": {},
     "output_type": "execute_result"
    }
   ],
   "source": [
    "# Read data\n",
    "gene_stats = pd.read_csv(\n",
    "    gene_summary_file,\n",
    "    header=0,\n",
    "    sep='\\t',\n",
    "    index_col=0)\n",
    "\n",
    "print(gene_stats.shape)\n",
    "sample_gene_id = gene_stats.index[0].split(\".\")[0]\n",
    "gene_stats.head()"
   ]
  },
  {
   "cell_type": "code",
   "execution_count": 10,
   "metadata": {},
   "outputs": [
    {
     "data": {
      "text/html": [
       "<div>\n",
       "<style scoped>\n",
       "    .dataframe tbody tr th:only-of-type {\n",
       "        vertical-align: middle;\n",
       "    }\n",
       "\n",
       "    .dataframe tbody tr th {\n",
       "        vertical-align: top;\n",
       "    }\n",
       "\n",
       "    .dataframe thead th {\n",
       "        text-align: right;\n",
       "    }\n",
       "</style>\n",
       "<table border=\"1\" class=\"dataframe\">\n",
       "  <thead>\n",
       "    <tr style=\"text-align: right;\">\n",
       "      <th></th>\n",
       "      <th>hgnc_symbol</th>\n",
       "    </tr>\n",
       "    <tr>\n",
       "      <th>ensembl_gene_id</th>\n",
       "      <th></th>\n",
       "    </tr>\n",
       "  </thead>\n",
       "  <tbody>\n",
       "    <tr>\n",
       "      <th>ENSG00000002330</th>\n",
       "      <td>BAD</td>\n",
       "    </tr>\n",
       "    <tr>\n",
       "      <th>ENSG00000003137</th>\n",
       "      <td>CYP26B1</td>\n",
       "    </tr>\n",
       "    <tr>\n",
       "      <th>ENSG00000003249</th>\n",
       "      <td>DBNDD1</td>\n",
       "    </tr>\n",
       "    <tr>\n",
       "      <th>ENSG00000004799</th>\n",
       "      <td>PDK4</td>\n",
       "    </tr>\n",
       "    <tr>\n",
       "      <th>ENSG00000006062</th>\n",
       "      <td>MAP3K14</td>\n",
       "    </tr>\n",
       "  </tbody>\n",
       "</table>\n",
       "</div>"
      ],
      "text/plain": [
       "                hgnc_symbol\n",
       "ensembl_gene_id            \n",
       "ENSG00000002330         BAD\n",
       "ENSG00000003137     CYP26B1\n",
       "ENSG00000003249      DBNDD1\n",
       "ENSG00000004799        PDK4\n",
       "ENSG00000006062     MAP3K14"
      ]
     },
     "execution_count": 10,
     "metadata": {},
     "output_type": "execute_result"
    }
   ],
   "source": [
    "# Read file mapping ensembl ids to hgnc symbols\n",
    "gene_id_file = os.path.join(\n",
    "    local_dir,\n",
    "    \"ensembl_hgnc_mapping.tsv\")\n",
    "\n",
    "gene_id_mapping = pd.read_csv(\n",
    "    gene_id_file,\n",
    "    header=0,\n",
    "    sep='\\t',\n",
    "    index_col=0)\n",
    "\n",
    "gene_id_mapping.set_index(\"ensembl_gene_id\", inplace=True)\n",
    "gene_id_mapping.head()"
   ]
  },
  {
   "cell_type": "code",
   "execution_count": 11,
   "metadata": {},
   "outputs": [],
   "source": [
    "# Replace ensembl ids with gene symbols\n",
    "# Only replace if ensembl ids exist\n",
    "if sample_gene_id in list(gene_id_mapping.index):\n",
    "    print(\"replacing ensembl ids\")\n",
    "    utils.replace_ensembl_ids(gene_summary_file,\n",
    "                              gene_id_mapping)"
   ]
  },
  {
   "cell_type": "markdown",
   "metadata": {},
   "source": [
    "### Our DEGs\n",
    "Genes are ranked by their adjusted p-value and the median rank reported across 25 simulated experiments is shown in column `Rank (simulated)`."
   ]
  },
  {
   "cell_type": "code",
   "execution_count": 12,
   "metadata": {},
   "outputs": [
    {
     "data": {
      "text/html": [
       "<div>\n",
       "<style scoped>\n",
       "    .dataframe tbody tr th:only-of-type {\n",
       "        vertical-align: middle;\n",
       "    }\n",
       "\n",
       "    .dataframe tbody tr th {\n",
       "        vertical-align: top;\n",
       "    }\n",
       "\n",
       "    .dataframe thead th {\n",
       "        text-align: right;\n",
       "    }\n",
       "</style>\n",
       "<table border=\"1\" class=\"dataframe\">\n",
       "  <thead>\n",
       "    <tr style=\"text-align: right;\">\n",
       "      <th></th>\n",
       "      <th>Gene ID</th>\n",
       "      <th>Adj P-value (Real)</th>\n",
       "      <th>Rank (Real)</th>\n",
       "      <th>Test statistic (Real)</th>\n",
       "      <th>Median adj p-value (simulated)</th>\n",
       "      <th>Rank (simulated)</th>\n",
       "      <th>Mean test statistic (simulated)</th>\n",
       "      <th>Std deviation (simulated)</th>\n",
       "      <th>Number of experiments (simulated)</th>\n",
       "      <th>Z score</th>\n",
       "    </tr>\n",
       "  </thead>\n",
       "  <tbody>\n",
       "    <tr>\n",
       "      <th>IGHG1</th>\n",
       "      <td>ENSG00000211896.7</td>\n",
       "      <td>0.03446</td>\n",
       "      <td>17809.0</td>\n",
       "      <td>4217.28509</td>\n",
       "      <td>0.00280</td>\n",
       "      <td>17796.0</td>\n",
       "      <td>241.24924</td>\n",
       "      <td>292.11299</td>\n",
       "      <td>25</td>\n",
       "      <td>13.61129</td>\n",
       "    </tr>\n",
       "    <tr>\n",
       "      <th>SCGB3A1</th>\n",
       "      <td>ENSG00000161055.3</td>\n",
       "      <td>0.10740</td>\n",
       "      <td>17807.0</td>\n",
       "      <td>2953.13558</td>\n",
       "      <td>0.04015</td>\n",
       "      <td>17678.0</td>\n",
       "      <td>85.64603</td>\n",
       "      <td>145.96075</td>\n",
       "      <td>25</td>\n",
       "      <td>19.64562</td>\n",
       "    </tr>\n",
       "    <tr>\n",
       "      <th>CEACAM6</th>\n",
       "      <td>ENSG00000086548.8</td>\n",
       "      <td>0.00175</td>\n",
       "      <td>17806.0</td>\n",
       "      <td>682.86373</td>\n",
       "      <td>0.00076</td>\n",
       "      <td>17768.0</td>\n",
       "      <td>81.22895</td>\n",
       "      <td>93.15353</td>\n",
       "      <td>25</td>\n",
       "      <td>6.45853</td>\n",
       "    </tr>\n",
       "    <tr>\n",
       "      <th>IGLL5</th>\n",
       "      <td>ENSG00000254709.7</td>\n",
       "      <td>0.01063</td>\n",
       "      <td>17804.0</td>\n",
       "      <td>605.22586</td>\n",
       "      <td>0.00484</td>\n",
       "      <td>17068.0</td>\n",
       "      <td>38.42943</td>\n",
       "      <td>88.16046</td>\n",
       "      <td>25</td>\n",
       "      <td>6.42915</td>\n",
       "    </tr>\n",
       "    <tr>\n",
       "      <th>COL1A1</th>\n",
       "      <td>ENSG00000108821.13</td>\n",
       "      <td>0.03039</td>\n",
       "      <td>17798.0</td>\n",
       "      <td>372.52724</td>\n",
       "      <td>0.00092</td>\n",
       "      <td>17586.0</td>\n",
       "      <td>-25.24062</td>\n",
       "      <td>45.49906</td>\n",
       "      <td>25</td>\n",
       "      <td>8.74233</td>\n",
       "    </tr>\n",
       "  </tbody>\n",
       "</table>\n",
       "</div>"
      ],
      "text/plain": [
       "                    Gene ID  Adj P-value (Real)  Rank (Real)  \\\n",
       "IGHG1     ENSG00000211896.7             0.03446      17809.0   \n",
       "SCGB3A1   ENSG00000161055.3             0.10740      17807.0   \n",
       "CEACAM6   ENSG00000086548.8             0.00175      17806.0   \n",
       "IGLL5     ENSG00000254709.7             0.01063      17804.0   \n",
       "COL1A1   ENSG00000108821.13             0.03039      17798.0   \n",
       "\n",
       "         Test statistic (Real)  Median adj p-value (simulated)  \\\n",
       "IGHG1               4217.28509                         0.00280   \n",
       "SCGB3A1             2953.13558                         0.04015   \n",
       "CEACAM6              682.86373                         0.00076   \n",
       "IGLL5                605.22586                         0.00484   \n",
       "COL1A1               372.52724                         0.00092   \n",
       "\n",
       "         Rank (simulated)  Mean test statistic (simulated)  \\\n",
       "IGHG1             17796.0                        241.24924   \n",
       "SCGB3A1           17678.0                         85.64603   \n",
       "CEACAM6           17768.0                         81.22895   \n",
       "IGLL5             17068.0                         38.42943   \n",
       "COL1A1            17586.0                        -25.24062   \n",
       "\n",
       "         Std deviation (simulated)  Number of experiments (simulated)  \\\n",
       "IGHG1                    292.11299                                 25   \n",
       "SCGB3A1                  145.96075                                 25   \n",
       "CEACAM6                   93.15353                                 25   \n",
       "IGLL5                     88.16046                                 25   \n",
       "COL1A1                    45.49906                                 25   \n",
       "\n",
       "          Z score  \n",
       "IGHG1    13.61129  \n",
       "SCGB3A1  19.64562  \n",
       "CEACAM6   6.45853  \n",
       "IGLL5     6.42915  \n",
       "COL1A1    8.74233  "
      ]
     },
     "execution_count": 12,
     "metadata": {},
     "output_type": "execute_result"
    }
   ],
   "source": [
    "# Read data back after renaming gene ids\n",
    "gene_stats = pd.read_csv(\n",
    "    gene_summary_file,\n",
    "    header=0,\n",
    "    sep='\\t',\n",
    "    index_col=0)\n",
    "\n",
    "gene_stats.head()"
   ]
  },
  {
   "cell_type": "code",
   "execution_count": 13,
   "metadata": {},
   "outputs": [],
   "source": [
    "# Get list of our genes\n",
    "gene_ids = list(gene_stats.index)"
   ]
  },
  {
   "cell_type": "markdown",
   "metadata": {},
   "source": [
    "### Published DEGs\n",
    "These DEGs are based on the [Crow et. al. publication](https://www.pnas.org/content/pnas/116/13/6491.full.pdf). Their genes are ranked 0 = not commonly DE; 1 = commonly DE. Genes by the number differentially expressed gene sets they appear in and then ranking genes by this score."
   ]
  },
  {
   "cell_type": "code",
   "execution_count": 14,
   "metadata": {},
   "outputs": [
    {
     "data": {
      "text/html": [
       "<div>\n",
       "<style scoped>\n",
       "    .dataframe tbody tr th:only-of-type {\n",
       "        vertical-align: middle;\n",
       "    }\n",
       "\n",
       "    .dataframe tbody tr th {\n",
       "        vertical-align: top;\n",
       "    }\n",
       "\n",
       "    .dataframe thead th {\n",
       "        text-align: right;\n",
       "    }\n",
       "</style>\n",
       "<table border=\"1\" class=\"dataframe\">\n",
       "  <thead>\n",
       "    <tr style=\"text-align: right;\">\n",
       "      <th></th>\n",
       "      <th>Gene_Order</th>\n",
       "      <th>Gene_EntrezID</th>\n",
       "      <th>N_HitLists</th>\n",
       "      <th>DE_Prior_Rank</th>\n",
       "      <th>Gene_Name</th>\n",
       "    </tr>\n",
       "  </thead>\n",
       "  <tbody>\n",
       "    <tr>\n",
       "      <th>0</th>\n",
       "      <td>1</td>\n",
       "      <td>7503</td>\n",
       "      <td>79</td>\n",
       "      <td>1.000000</td>\n",
       "      <td>XIST</td>\n",
       "    </tr>\n",
       "    <tr>\n",
       "      <th>1</th>\n",
       "      <td>2</td>\n",
       "      <td>8653</td>\n",
       "      <td>64</td>\n",
       "      <td>0.999948</td>\n",
       "      <td>DDX3Y</td>\n",
       "    </tr>\n",
       "    <tr>\n",
       "      <th>2</th>\n",
       "      <td>3</td>\n",
       "      <td>9086</td>\n",
       "      <td>62</td>\n",
       "      <td>0.999870</td>\n",
       "      <td>EIF1AY</td>\n",
       "    </tr>\n",
       "    <tr>\n",
       "      <th>3</th>\n",
       "      <td>4</td>\n",
       "      <td>8284</td>\n",
       "      <td>52</td>\n",
       "      <td>0.999870</td>\n",
       "      <td>KDM5D</td>\n",
       "    </tr>\n",
       "    <tr>\n",
       "      <th>4</th>\n",
       "      <td>5</td>\n",
       "      <td>8287</td>\n",
       "      <td>46</td>\n",
       "      <td>0.999791</td>\n",
       "      <td>USP9Y</td>\n",
       "    </tr>\n",
       "  </tbody>\n",
       "</table>\n",
       "</div>"
      ],
      "text/plain": [
       "   Gene_Order  Gene_EntrezID  N_HitLists  DE_Prior_Rank Gene_Name\n",
       "0           1           7503          79       1.000000      XIST\n",
       "1           2           8653          64       0.999948     DDX3Y\n",
       "2           3           9086          62       0.999870    EIF1AY\n",
       "3           4           8284          52       0.999870     KDM5D\n",
       "4           5           8287          46       0.999791     USP9Y"
      ]
     },
     "execution_count": 14,
     "metadata": {},
     "output_type": "execute_result"
    }
   ],
   "source": [
    "# Get generic genes identified by Crow et. al.\n",
    "DE_prior_file = \"https://raw.githubusercontent.com/maggiecrow/DEprior/master/DE_Prior.txt\"\n",
    "\n",
    "DE_prior = pd.read_csv(DE_prior_file,\n",
    "                       header=0,\n",
    "                       sep=\"\\t\")\n",
    "\n",
    "DE_prior.head()"
   ]
  },
  {
   "cell_type": "code",
   "execution_count": 15,
   "metadata": {},
   "outputs": [],
   "source": [
    "# Get list of published generic genes\n",
    "published_generic_genes = list(DE_prior['Gene_Name'])"
   ]
  },
  {
   "cell_type": "markdown",
   "metadata": {},
   "source": [
    "### Compare DEG ranks"
   ]
  },
  {
   "cell_type": "code",
   "execution_count": 16,
   "metadata": {},
   "outputs": [
    {
     "name": "stdout",
     "output_type": "stream",
     "text": [
      "17787\n"
     ]
    }
   ],
   "source": [
    "# Get intersection of gene lists\n",
    "shared_genes = set(gene_ids).intersection(published_generic_genes)\n",
    "print(len(shared_genes))"
   ]
  },
  {
   "cell_type": "code",
   "execution_count": 17,
   "metadata": {},
   "outputs": [],
   "source": [
    "# Load shared genes\n",
    "#shared_genes_file = os.path.join(\n",
    "#    local_dir,\n",
    "#    \"shared_gene_ids.pickle\")\n",
    "\n",
    "#shared_genes = pickle.load(open(shared_genes_file, \"rb\" ))\n",
    "#print(len(shared_genes))"
   ]
  },
  {
   "cell_type": "code",
   "execution_count": 18,
   "metadata": {},
   "outputs": [],
   "source": [
    "# check that all our genes are a subset of the published ones, no genes unique to ours"
   ]
  },
  {
   "cell_type": "code",
   "execution_count": 20,
   "metadata": {},
   "outputs": [
    {
     "name": "stdout",
     "output_type": "stream",
     "text": [
      "(17810, 1)\n"
     ]
    },
    {
     "data": {
      "text/html": [
       "<div>\n",
       "<style scoped>\n",
       "    .dataframe tbody tr th:only-of-type {\n",
       "        vertical-align: middle;\n",
       "    }\n",
       "\n",
       "    .dataframe tbody tr th {\n",
       "        vertical-align: top;\n",
       "    }\n",
       "\n",
       "    .dataframe thead th {\n",
       "        text-align: right;\n",
       "    }\n",
       "</style>\n",
       "<table border=\"1\" class=\"dataframe\">\n",
       "  <thead>\n",
       "    <tr style=\"text-align: right;\">\n",
       "      <th></th>\n",
       "      <th>Rank (simulated)</th>\n",
       "    </tr>\n",
       "  </thead>\n",
       "  <tbody>\n",
       "    <tr>\n",
       "      <th>LINC00330</th>\n",
       "      <td>1568.0</td>\n",
       "    </tr>\n",
       "    <tr>\n",
       "      <th>SGIP1</th>\n",
       "      <td>8416.0</td>\n",
       "    </tr>\n",
       "    <tr>\n",
       "      <th>GRK6</th>\n",
       "      <td>9173.5</td>\n",
       "    </tr>\n",
       "    <tr>\n",
       "      <th>AVPI1</th>\n",
       "      <td>5092.5</td>\n",
       "    </tr>\n",
       "    <tr>\n",
       "      <th>FAM114A2</th>\n",
       "      <td>5946.5</td>\n",
       "    </tr>\n",
       "  </tbody>\n",
       "</table>\n",
       "</div>"
      ],
      "text/plain": [
       "           Rank (simulated)\n",
       "LINC00330            1568.0\n",
       "SGIP1                8416.0\n",
       "GRK6                 9173.5\n",
       "AVPI1                5092.5\n",
       "FAM114A2             5946.5"
      ]
     },
     "execution_count": 20,
     "metadata": {},
     "output_type": "execute_result"
    }
   ],
   "source": [
    "# Get rank of shared genes\n",
    "our_gene_rank_df = pd.DataFrame(gene_stats.loc[shared_genes,'Rank (simulated)'])\n",
    "print(our_gene_rank_df.shape)\n",
    "our_gene_rank_df.head()"
   ]
  },
  {
   "cell_type": "code",
   "execution_count": 21,
   "metadata": {},
   "outputs": [
    {
     "name": "stdout",
     "output_type": "stream",
     "text": [
      "(17810, 2)\n"
     ]
    },
    {
     "data": {
      "text/html": [
       "<div>\n",
       "<style scoped>\n",
       "    .dataframe tbody tr th:only-of-type {\n",
       "        vertical-align: middle;\n",
       "    }\n",
       "\n",
       "    .dataframe tbody tr th {\n",
       "        vertical-align: top;\n",
       "    }\n",
       "\n",
       "    .dataframe thead th {\n",
       "        text-align: right;\n",
       "    }\n",
       "</style>\n",
       "<table border=\"1\" class=\"dataframe\">\n",
       "  <thead>\n",
       "    <tr style=\"text-align: right;\">\n",
       "      <th></th>\n",
       "      <th>Rank (simulated)</th>\n",
       "      <th>DE_Prior_Rank</th>\n",
       "    </tr>\n",
       "    <tr>\n",
       "      <th>Gene_Name</th>\n",
       "      <th></th>\n",
       "      <th></th>\n",
       "    </tr>\n",
       "  </thead>\n",
       "  <tbody>\n",
       "    <tr>\n",
       "      <th>LINC00330</th>\n",
       "      <td>1568.0</td>\n",
       "      <td>0.075083</td>\n",
       "    </tr>\n",
       "    <tr>\n",
       "      <th>SGIP1</th>\n",
       "      <td>8416.0</td>\n",
       "      <td>0.823232</td>\n",
       "    </tr>\n",
       "    <tr>\n",
       "      <th>GRK6</th>\n",
       "      <td>9173.5</td>\n",
       "      <td>0.744106</td>\n",
       "    </tr>\n",
       "    <tr>\n",
       "      <th>AVPI1</th>\n",
       "      <td>5092.5</td>\n",
       "      <td>0.725537</td>\n",
       "    </tr>\n",
       "    <tr>\n",
       "      <th>FAM114A2</th>\n",
       "      <td>5946.5</td>\n",
       "      <td>0.237482</td>\n",
       "    </tr>\n",
       "  </tbody>\n",
       "</table>\n",
       "</div>"
      ],
      "text/plain": [
       "           Rank (simulated)  DE_Prior_Rank\n",
       "Gene_Name                                 \n",
       "LINC00330            1568.0       0.075083\n",
       "SGIP1                8416.0       0.823232\n",
       "GRK6                 9173.5       0.744106\n",
       "AVPI1                5092.5       0.725537\n",
       "FAM114A2             5946.5       0.237482"
      ]
     },
     "execution_count": 21,
     "metadata": {},
     "output_type": "execute_result"
    }
   ],
   "source": [
    "# Merge published ranking\n",
    "shared_gene_rank_df = pd.merge(our_gene_rank_df,\n",
    "                                        DE_prior[['DE_Prior_Rank','Gene_Name']],\n",
    "                                        left_index=True,\n",
    "                                        right_on='Gene_Name')\n",
    "\n",
    "shared_gene_rank_df.set_index('Gene_Name', inplace=True)\n",
    "print(shared_gene_rank_df.shape)\n",
    "shared_gene_rank_df.head()"
   ]
  },
  {
   "cell_type": "code",
   "execution_count": 22,
   "metadata": {
    "scrolled": true
   },
   "outputs": [
    {
     "data": {
      "text/html": [
       "<div>\n",
       "<style scoped>\n",
       "    .dataframe tbody tr th:only-of-type {\n",
       "        vertical-align: middle;\n",
       "    }\n",
       "\n",
       "    .dataframe tbody tr th {\n",
       "        vertical-align: top;\n",
       "    }\n",
       "\n",
       "    .dataframe thead th {\n",
       "        text-align: right;\n",
       "    }\n",
       "</style>\n",
       "<table border=\"1\" class=\"dataframe\">\n",
       "  <thead>\n",
       "    <tr style=\"text-align: right;\">\n",
       "      <th></th>\n",
       "      <th>Rank (simulated)</th>\n",
       "      <th>DE_Prior_Rank</th>\n",
       "    </tr>\n",
       "    <tr>\n",
       "      <th>Gene_Name</th>\n",
       "      <th></th>\n",
       "      <th></th>\n",
       "    </tr>\n",
       "  </thead>\n",
       "  <tbody>\n",
       "    <tr>\n",
       "      <th>LINC00330</th>\n",
       "      <td>1568.0</td>\n",
       "      <td>1337.0</td>\n",
       "    </tr>\n",
       "    <tr>\n",
       "      <th>SGIP1</th>\n",
       "      <td>8416.0</td>\n",
       "      <td>14662.0</td>\n",
       "    </tr>\n",
       "    <tr>\n",
       "      <th>GRK6</th>\n",
       "      <td>9173.5</td>\n",
       "      <td>13253.0</td>\n",
       "    </tr>\n",
       "    <tr>\n",
       "      <th>AVPI1</th>\n",
       "      <td>5092.5</td>\n",
       "      <td>12922.0</td>\n",
       "    </tr>\n",
       "    <tr>\n",
       "      <th>FAM114A2</th>\n",
       "      <td>5946.5</td>\n",
       "      <td>4230.0</td>\n",
       "    </tr>\n",
       "  </tbody>\n",
       "</table>\n",
       "</div>"
      ],
      "text/plain": [
       "           Rank (simulated)  DE_Prior_Rank\n",
       "Gene_Name                                 \n",
       "LINC00330            1568.0         1337.0\n",
       "SGIP1                8416.0        14662.0\n",
       "GRK6                 9173.5        13253.0\n",
       "AVPI1                5092.5        12922.0\n",
       "FAM114A2             5946.5         4230.0"
      ]
     },
     "execution_count": 22,
     "metadata": {},
     "output_type": "execute_result"
    }
   ],
   "source": [
    "# Scale published ranking to our range\n",
    "max_rank = max(shared_gene_rank_df['Rank (simulated)'])\n",
    "shared_gene_rank_df['DE_Prior_Rank'] = round(shared_gene_rank_df['DE_Prior_Rank']*max_rank)\n",
    "shared_gene_rank_df.head()"
   ]
  },
  {
   "cell_type": "code",
   "execution_count": 23,
   "metadata": {
    "scrolled": false
   },
   "outputs": [],
   "source": [
    "# Get top ranked genes by both methods\n",
    "#shared_gene_rank_df[(shared_gene_rank_df['Rank (simulated)']>17500) & (shared_gene_rank_df['DE_Prior_Rank']>17500)]"
   ]
  },
  {
   "cell_type": "code",
   "execution_count": 24,
   "metadata": {
    "scrolled": false
   },
   "outputs": [],
   "source": [
    "# Get low ranked genes by both methods\n",
    "#shared_gene_rank_df[(shared_gene_rank_df['Rank (simulated)']<300) & (shared_gene_rank_df['DE_Prior_Rank']<300)]"
   ]
  },
  {
   "cell_type": "code",
   "execution_count": 25,
   "metadata": {},
   "outputs": [
    {
     "data": {
      "image/png": "[encoded data removed]",
      "text/plain": [
       "<Figure size 432x432 with 3 Axes>"
      ]
     },
     "metadata": {
      "needs_background": "light"
     },
     "output_type": "display_data"
    }
   ],
   "source": [
    "# Plot our ranking vs published ranking\n",
    "fig_file = os.path.join(\n",
    "    local_dir, \n",
    "    \"gene_ranking_\"+col_to_rank+\".svg\")\n",
    "\n",
    "fig = sns.jointplot(data=shared_gene_rank_df,\n",
    "                    x='Rank (simulated)',\n",
    "                    y='DE_Prior_Rank',\n",
    "                    kind='hex',\n",
    "                    marginal_kws={'color':'white'})\n",
    "fig.set_axis_labels(\"Our preliminary method\", \"DE prior (Crow et. al. 2019)\", fontsize=14)\n",
    "\n",
    "fig.savefig(fig_file,\n",
    "            format='svg',\n",
    "            bbox_inches=\"tight\",\n",
    "            transparent=True,\n",
    "            pad_inches=0,\n",
    "            dpi=300,)"
   ]
  },
  {
   "cell_type": "markdown",
   "metadata": {},
   "source": [
    "### Calculate correlation"
   ]
  },
  {
   "cell_type": "code",
   "execution_count": 26,
   "metadata": {},
   "outputs": [
    {
     "name": "stdout",
     "output_type": "stream",
     "text": [
      "0.29211340346860176 0.0 0.2784594474268234 0.30644585840520416\n"
     ]
    }
   ],
   "source": [
    "# Get correlation\n",
    "r, p, ci_high, ci_low = utils.spearman_ci(shared_gene_rank_df,\n",
    "                                         1000)\n",
    "\n",
    "print(r, p, ci_high, ci_low)"
   ]
  },
  {
   "cell_type": "markdown",
   "metadata": {},
   "source": [
    "## Generic pathways"
   ]
  },
  {
   "cell_type": "code",
   "execution_count": 27,
   "metadata": {},
   "outputs": [
    {
     "data": {
      "text/plain": [
       "\"\\n# Read data\\npathway_stats = pd.read_csv(\\n    pathway_summary_file,\\n    header=0,\\n    sep='\\t',\\n    index_col=0)\\n\\npathway_stats.head()\""
      ]
     },
     "execution_count": 27,
     "metadata": {},
     "output_type": "execute_result"
    }
   ],
   "source": [
    "\"\"\"\n",
    "# Read data\n",
    "pathway_stats = pd.read_csv(\n",
    "    pathway_summary_file,\n",
    "    header=0,\n",
    "    sep='\\t',\n",
    "    index_col=0)\n",
    "\n",
    "pathway_stats.head()\"\"\""
   ]
  },
  {
   "cell_type": "code",
   "execution_count": 28,
   "metadata": {},
   "outputs": [
    {
     "data": {
      "text/plain": [
       "'# Define what are the set of generic genes\\ngeneric_pathway_data = pathway_stats.sort_values(by=\"Z score\", ascending=True)[0:10]\\n\\ngeneric_pathway_data.head()'"
      ]
     },
     "execution_count": 28,
     "metadata": {},
     "output_type": "execute_result"
    }
   ],
   "source": [
    "\"\"\"# Define what are the set of generic genes\n",
    "generic_pathway_data = pathway_stats.sort_values(by=\"Z score\", ascending=True)[0:10]\n",
    "\n",
    "generic_pathway_data.head()\"\"\""
   ]
  },
  {
   "cell_type": "code",
   "execution_count": 29,
   "metadata": {},
   "outputs": [],
   "source": [
    "# Manually compare against Powers et. al publication \n",
    "# https://academic.oup.com/bioinformatics/article/34/13/i555/5045793"
   ]
  }
 ],
 "metadata": {
  "kernelspec": {
   "display_name": "Python [conda env:ranked_pathways] *",
   "language": "python",
   "name": "conda-env-ranked_pathways-py"
  },
  "language_info": {
   "codemirror_mode": {
    "name": "ipython",
    "version": 3
   },
   "file_extension": ".py",
   "mimetype": "text/x-python",
   "name": "python",
   "nbconvert_exporter": "python",
   "pygments_lexer": "ipython3",
   "version": "3.7.6"
  }
 },
 "nbformat": 4,
 "nbformat_minor": 4
}
