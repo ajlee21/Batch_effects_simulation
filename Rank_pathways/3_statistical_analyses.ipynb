{
 "cells": [
  {
   "cell_type": "markdown",
   "metadata": {},
   "source": [
    "# Statistical analysis\n",
    "This notebook performs differential expression analysis using the real template experiment and simulated experiments, as a null set. Then the set of differentially expressed genes (DEGs) obtained from this analysis are used to perform gene set enrichment analysis (GSEA) to identify pathways enriched in these set of DEGs."
   ]
  },
  {
   "cell_type": "code",
   "execution_count": 11,
   "metadata": {},
   "outputs": [
    {
     "name": "stdout",
     "output_type": "stream",
     "text": [
      "The autoreload extension is already loaded. To reload it, use:\n",
      "  %reload_ext autoreload\n",
      "The rpy2.ipython extension is already loaded. To reload it, use:\n",
      "  %reload_ext rpy2.ipython\n"
     ]
    },
    {
     "name": "stderr",
     "output_type": "stream",
     "text": [
      "/home/alexandra/anaconda3/envs/ranked_pathways/lib/python3.7/site-packages/matplotlib/__init__.py:886: MatplotlibDeprecationWarning: \n",
      "examples.directory is deprecated; in the future, examples will be found relative to the 'datapath' directory.\n",
      "  \"found relative to the 'datapath' directory.\".format(key))\n"
     ]
    }
   ],
   "source": [
    "%load_ext autoreload\n",
    "%load_ext rpy2.ipython\n",
    "%autoreload 2\n",
    "\n",
    "import os\n",
    "import sys\n",
    "import pandas as pd\n",
    "import numpy as np\n",
    "import random\n",
    "import seaborn as sns\n",
    "import rpy2.robjects\n",
    "from rpy2.robjects.packages import importr\n",
    "from rpy2.robjects import pandas2ri\n",
    "pandas2ri.activate()\n",
    "\n",
    "sys.path.append(\"../\")\n",
    "from functions import utils\n",
    "\n",
    "from numpy.random import seed\n",
    "randomState = 123\n",
    "seed(randomState)"
   ]
  },
  {
   "cell_type": "code",
   "execution_count": 2,
   "metadata": {},
   "outputs": [],
   "source": [
    "# Read in config variables\n",
    "base_dir = os.path.abspath(os.path.join(os.getcwd(),\"../\"))\n",
    "\n",
    "config_file = os.path.abspath(os.path.join(base_dir,\n",
    "                                           \"Rank_pathways\",\n",
    "                                           \"init_config.tsv\"))\n",
    "params = utils.read_config(config_file)"
   ]
  },
  {
   "cell_type": "code",
   "execution_count": 3,
   "metadata": {},
   "outputs": [],
   "source": [
    "# User selected experiment id\n",
    "project_id = \"SRP000762\""
   ]
  },
  {
   "cell_type": "code",
   "execution_count": 4,
   "metadata": {},
   "outputs": [],
   "source": [
    "# Load params\n",
    "local_dir = params[\"local_dir\"]\n",
    "dataset_name = params['dataset_name']\n",
    "num_runs=25"
   ]
  },
  {
   "cell_type": "code",
   "execution_count": 5,
   "metadata": {},
   "outputs": [],
   "source": [
    "# Load real template experiment\n",
    "template_data_file = os.path.join(\n",
    "    local_dir,\n",
    "    \"recount2_template_data.tsv\")\n",
    "\n",
    "# Load metadata file with grouping assignments for samples\n",
    "metadata_file = os.path.join(\n",
    "    base_dir,\n",
    "    \"Rank_pathways\",\n",
    "    \"data\",\n",
    "    \"metadata\",\n",
    "    \"SRP000762_groups.tsv\")"
   ]
  },
  {
   "cell_type": "markdown",
   "metadata": {},
   "source": [
    "## Install R libraries"
   ]
  },
  {
   "cell_type": "code",
   "execution_count": 6,
   "metadata": {
    "scrolled": true
   },
   "outputs": [
    {
     "data": {
      "text/plain": [
       "NULL\n"
      ]
     },
     "metadata": {},
     "output_type": "display_data"
    }
   ],
   "source": [
    "%%R\n",
    "# Select 59\n",
    "# Run one time\n",
    "#if (!requireNamespace(\"BiocManager\", quietly = TRUE))\n",
    "#    install.packages(\"BiocManager\")\n",
    "#BiocManager::install(\"limma\")\n",
    "#BiocManager::install('EnhancedVolcano')\n",
    "#devtools::install_github('kevinblighe/EnhancedVolcano')\n",
    "#BiocManager::install('clusterProfiler')\n",
    "#BiocManager::install(\"org.Hs.eg.db\")"
   ]
  },
  {
   "cell_type": "markdown",
   "metadata": {},
   "source": [
    "## Differential expression analysis"
   ]
  },
  {
   "cell_type": "code",
   "execution_count": 7,
   "metadata": {},
   "outputs": [],
   "source": [
    "%%R\n",
    "library('limma')"
   ]
  },
  {
   "cell_type": "markdown",
   "metadata": {},
   "source": [
    "**Get differentially expressed genes from template experiment**"
   ]
  },
  {
   "cell_type": "code",
   "execution_count": 8,
   "metadata": {},
   "outputs": [
    {
     "data": {
      "text/plain": [
       "[1] 60\n"
      ]
     },
     "metadata": {},
     "output_type": "display_data"
    }
   ],
   "source": [
    "%%R -i metadata_file -i project_id -i template_data_file -i local_dir\n",
    "\n",
    "source('../functions/DE_analysis.R')\n",
    "\n",
    "get_DE_stats(metadata_file,\n",
    "             project_id, \n",
    "             template_data_file,\n",
    "             \"template\",\n",
    "             local_dir,\n",
    "             \"real\")"
   ]
  },
  {
   "cell_type": "markdown",
   "metadata": {},
   "source": [
    "**Get differentially expressed genes from each simulated experiment**"
   ]
  },
  {
   "cell_type": "code",
   "execution_count": 9,
   "metadata": {
    "scrolled": true
   },
   "outputs": [
    {
     "data": {
      "text/plain": [
       "running file: /home/alexandra/Documents/Data/Rank_pathways/pseudo_experiment/selected_simulated_data_SRP000762_0.txt...\n",
       "running file: /home/alexandra/Documents/Data/Rank_pathways/pseudo_experiment/selected_simulated_data_SRP000762_1.txt...\n",
       "running file: /home/alexandra/Documents/Data/Rank_pathways/pseudo_experiment/selected_simulated_data_SRP000762_2.txt...\n",
       "running file: /home/alexandra/Documents/Data/Rank_pathways/pseudo_experiment/selected_simulated_data_SRP000762_3.txt...\n",
       "running file: /home/alexandra/Documents/Data/Rank_pathways/pseudo_experiment/selected_simulated_data_SRP000762_4.txt...\n",
       "running file: /home/alexandra/Documents/Data/Rank_pathways/pseudo_experiment/selected_simulated_data_SRP000762_5.txt...\n",
       "running file: /home/alexandra/Documents/Data/Rank_pathways/pseudo_experiment/selected_simulated_data_SRP000762_6.txt...\n",
       "running file: /home/alexandra/Documents/Data/Rank_pathways/pseudo_experiment/selected_simulated_data_SRP000762_7.txt...\n",
       "running file: /home/alexandra/Documents/Data/Rank_pathways/pseudo_experiment/selected_simulated_data_SRP000762_8.txt...\n",
       "running file: /home/alexandra/Documents/Data/Rank_pathways/pseudo_experiment/selected_simulated_data_SRP000762_9.txt...\n",
       "running file: /home/alexandra/Documents/Data/Rank_pathways/pseudo_experiment/selected_simulated_data_SRP000762_10.txt...\n",
       "running file: /home/alexandra/Documents/Data/Rank_pathways/pseudo_experiment/selected_simulated_data_SRP000762_11.txt...\n",
       "running file: /home/alexandra/Documents/Data/Rank_pathways/pseudo_experiment/selected_simulated_data_SRP000762_12.txt...\n",
       "running file: /home/alexandra/Documents/Data/Rank_pathways/pseudo_experiment/selected_simulated_data_SRP000762_13.txt...\n",
       "running file: /home/alexandra/Documents/Data/Rank_pathways/pseudo_experiment/selected_simulated_data_SRP000762_14.txt...\n",
       "running file: /home/alexandra/Documents/Data/Rank_pathways/pseudo_experiment/selected_simulated_data_SRP000762_15.txt...\n",
       "running file: /home/alexandra/Documents/Data/Rank_pathways/pseudo_experiment/selected_simulated_data_SRP000762_16.txt...\n",
       "running file: /home/alexandra/Documents/Data/Rank_pathways/pseudo_experiment/selected_simulated_data_SRP000762_17.txt...\n",
       "running file: /home/alexandra/Documents/Data/Rank_pathways/pseudo_experiment/selected_simulated_data_SRP000762_18.txt...\n",
       "running file: /home/alexandra/Documents/Data/Rank_pathways/pseudo_experiment/selected_simulated_data_SRP000762_19.txt...\n",
       "running file: /home/alexandra/Documents/Data/Rank_pathways/pseudo_experiment/selected_simulated_data_SRP000762_20.txt...\n",
       "running file: /home/alexandra/Documents/Data/Rank_pathways/pseudo_experiment/selected_simulated_data_SRP000762_21.txt...\n",
       "running file: /home/alexandra/Documents/Data/Rank_pathways/pseudo_experiment/selected_simulated_data_SRP000762_22.txt...\n",
       "running file: /home/alexandra/Documents/Data/Rank_pathways/pseudo_experiment/selected_simulated_data_SRP000762_23.txt...\n",
       "running file: /home/alexandra/Documents/Data/Rank_pathways/pseudo_experiment/selected_simulated_data_SRP000762_24.txt...\n",
       "[1] 0\n"
      ]
     },
     "metadata": {},
     "output_type": "display_data"
    }
   ],
   "source": [
    "%%R -i metadata_file -i project_id -i base_dir -i local_dir -i num_runs -o num_sign_DEGs_simulated\n",
    "\n",
    "source('../functions/DE_analysis.R')\n",
    "\n",
    "num_sign_DEGs_simulated <- c()\n",
    "\n",
    "for (i in 0:(num_runs-1)){\n",
    "  simulated_data_file <- paste(local_dir, \"pseudo_experiment/selected_simulated_data_\", project_id, \"_\", i, \".txt\", sep=\"\")\n",
    "  cat(paste(\"running file: \", simulated_data_file, \"...\\n\", sep=\"\"))\n",
    "  \n",
    "  run_output <- get_DE_stats(metadata_file,\n",
    "                             project_id, \n",
    "                             simulated_data_file,\n",
    "                             \"simulated\",\n",
    "                             local_dir,\n",
    "                             i)\n",
    "  \n",
    "  num_sign_DEGs_simulated <- c(num_sign_DEGs_simulated, run_output)\n",
    "}\n",
    "median(num_sign_DEGs_simulated)"
   ]
  },
  {
   "cell_type": "code",
   "execution_count": 14,
   "metadata": {},
   "outputs": [
    {
     "name": "stderr",
     "output_type": "stream",
     "text": [
      "/home/alexandra/anaconda3/envs/ranked_pathways/lib/python3.7/site-packages/scipy/stats/stats.py:1713: FutureWarning: Using a non-tuple sequence for multidimensional indexing is deprecated; use `arr[tuple(seq)]` instead of `arr[seq]`. In the future this will be interpreted as an array index, `arr[np.array(seq)]`, which will result either in an error or a different result.\n",
      "  return np.add.reduce(sorted[indexer] * weights, axis=axis) / sumval\n"
     ]
    },
    {
     "data": {
      "text/plain": [
       "<matplotlib.axes._subplots.AxesSubplot at 0x7fc3889ad090>"
      ]
     },
     "execution_count": 14,
     "metadata": {},
     "output_type": "execute_result"
    },
    {
     "data": {
      "image/png": "[encoded data removed]",
      "text/plain": [
       "<Figure size 432x288 with 1 Axes>"
      ]
     },
     "metadata": {
      "needs_background": "light"
     },
     "output_type": "display_data"
    }
   ],
   "source": [
    "# Plot distribution of differentially expressed genes for simulated experiments\n",
    "sns.distplot(num_sign_DEGs_simulated,\n",
    "            kde=False)"
   ]
  },
  {
   "cell_type": "markdown",
   "metadata": {},
   "source": [
    "**Observation:** All simulated experiments found 0 DEGs using adjusted p-value cutoff of <5%"
   ]
  },
  {
   "cell_type": "markdown",
   "metadata": {},
   "source": [
    "**Check**\n",
    "\n",
    "As a check, we compared the number of DEGs identified here versus what was reported in the [Reddy et. al. publication](https://www.ncbi.nlm.nih.gov//pubmed/19801529), which found:\n",
    "* 234 genes with a significant (FDR < 5%) change in expression in response to DEX treatment. \n",
    "* After removing pseudogenes (listed in Supplemental Table S3), 209 differentially expressed genes remained \n",
    "* Of the DEX-responsive genes, more showed increases in transcript levels 123 (59%) than showed decreases 86 (41%), and the up-regulation was slightly but significantly stronger than the down-regulation\n",
    "\n",
    "By comparison:\n",
    "* Our study found 60 DEGs instead of 234. \n",
    "* Spot checking the genes identified with their list of DEX-responsive genes (Supplementary Dataset 2), we found the same genes and FC direction was consistent though magnitudes of theirs was lower compared to ours. "
   ]
  },
  {
   "cell_type": "code",
   "execution_count": 15,
   "metadata": {},
   "outputs": [],
   "source": [
    "# Load association statistics for template experiment\n",
    "template_DE_stats_file = os.path.join(\n",
    "    local_dir,\n",
    "    \"DE_stats\",\n",
    "    \"DE_stats_template_data_\"+project_id+\"_real.txt\")"
   ]
  },
  {
   "cell_type": "code",
   "execution_count": 16,
   "metadata": {},
   "outputs": [
    {
     "name": "stdout",
     "output_type": "stream",
     "text": [
      "(60, 6)\n"
     ]
    },
    {
     "data": {
      "text/html": [
       "<div>\n",
       "<style scoped>\n",
       "    .dataframe tbody tr th:only-of-type {\n",
       "        vertical-align: middle;\n",
       "    }\n",
       "\n",
       "    .dataframe tbody tr th {\n",
       "        vertical-align: top;\n",
       "    }\n",
       "\n",
       "    .dataframe thead th {\n",
       "        text-align: right;\n",
       "    }\n",
       "</style>\n",
       "<table border=\"1\" class=\"dataframe\">\n",
       "  <thead>\n",
       "    <tr style=\"text-align: right;\">\n",
       "      <th></th>\n",
       "      <th>logFC</th>\n",
       "      <th>AveExpr</th>\n",
       "      <th>t</th>\n",
       "      <th>P.Value</th>\n",
       "      <th>adj.P.Val</th>\n",
       "      <th>B</th>\n",
       "    </tr>\n",
       "  </thead>\n",
       "  <tbody>\n",
       "    <tr>\n",
       "      <th>ENSG00000067082.14</th>\n",
       "      <td>19.385246</td>\n",
       "      <td>18.673139</td>\n",
       "      <td>14.055682</td>\n",
       "      <td>2.342010e-12</td>\n",
       "      <td>1.359233e-07</td>\n",
       "      <td>9.739709</td>\n",
       "    </tr>\n",
       "    <tr>\n",
       "      <th>ENSG00000177606.6</th>\n",
       "      <td>-8.236487</td>\n",
       "      <td>9.185753</td>\n",
       "      <td>-13.126898</td>\n",
       "      <td>8.859555e-12</td>\n",
       "      <td>2.570910e-07</td>\n",
       "      <td>9.292456</td>\n",
       "    </tr>\n",
       "    <tr>\n",
       "      <th>ENSG00000114315.3</th>\n",
       "      <td>-6.285228</td>\n",
       "      <td>6.042663</td>\n",
       "      <td>-12.840532</td>\n",
       "      <td>1.355507e-11</td>\n",
       "      <td>2.622318e-07</td>\n",
       "      <td>9.141666</td>\n",
       "    </tr>\n",
       "    <tr>\n",
       "      <th>ENSG00000185950.8</th>\n",
       "      <td>8.790781</td>\n",
       "      <td>17.705828</td>\n",
       "      <td>12.594113</td>\n",
       "      <td>1.966140e-11</td>\n",
       "      <td>2.852721e-07</td>\n",
       "      <td>9.006626</td>\n",
       "    </tr>\n",
       "    <tr>\n",
       "      <th>ENSG00000095752.6</th>\n",
       "      <td>-7.505790</td>\n",
       "      <td>7.299177</td>\n",
       "      <td>-12.204218</td>\n",
       "      <td>3.582671e-11</td>\n",
       "      <td>4.158550e-07</td>\n",
       "      <td>8.782431</td>\n",
       "    </tr>\n",
       "  </tbody>\n",
       "</table>\n",
       "</div>"
      ],
      "text/plain": [
       "                        logFC    AveExpr          t       P.Value  \\\n",
       "ENSG00000067082.14  19.385246  18.673139  14.055682  2.342010e-12   \n",
       "ENSG00000177606.6   -8.236487   9.185753 -13.126898  8.859555e-12   \n",
       "ENSG00000114315.3   -6.285228   6.042663 -12.840532  1.355507e-11   \n",
       "ENSG00000185950.8    8.790781  17.705828  12.594113  1.966140e-11   \n",
       "ENSG00000095752.6   -7.505790   7.299177 -12.204218  3.582671e-11   \n",
       "\n",
       "                       adj.P.Val         B  \n",
       "ENSG00000067082.14  1.359233e-07  9.739709  \n",
       "ENSG00000177606.6   2.570910e-07  9.292456  \n",
       "ENSG00000114315.3   2.622318e-07  9.141666  \n",
       "ENSG00000185950.8   2.852721e-07  9.006626  \n",
       "ENSG00000095752.6   4.158550e-07  8.782431  "
      ]
     },
     "execution_count": 16,
     "metadata": {},
     "output_type": "execute_result"
    }
   ],
   "source": [
    "template_DE_stats = pd.read_csv(\n",
    "    template_DE_stats_file,\n",
    "    header=0,\n",
    "    sep='\\t',\n",
    "    index_col=0)\n",
    "\n",
    "template_DEGs = template_DE_stats[template_DE_stats['adj.P.Val']<0.05]\n",
    "print(template_DEGs.shape)\n",
    "template_DEGs.head()"
   ]
  },
  {
   "cell_type": "code",
   "execution_count": 17,
   "metadata": {},
   "outputs": [],
   "source": [
    "#%%R\n",
    "#library(EnhancedVolcano)"
   ]
  },
  {
   "cell_type": "code",
   "execution_count": 18,
   "metadata": {},
   "outputs": [],
   "source": [
    "#%%R -i project_id -i template_DE_stats_file -i local_dir\n",
    "\n",
    "#source('../functions/DE_analysis.R')\n",
    "\n",
    "#create_volcano(template_DE_stats_file,\n",
    "#               project_id,\n",
    "#               \"adj.P.Val\",\n",
    "#               local_dir)"
   ]
  },
  {
   "cell_type": "markdown",
   "metadata": {},
   "source": [
    "## Gene set enrichment analysis\n",
    "Use DE association statistics to rank pathways that are enriched within GO pathways"
   ]
  },
  {
   "cell_type": "code",
   "execution_count": 19,
   "metadata": {
    "scrolled": true
   },
   "outputs": [
    {
     "name": "stderr",
     "output_type": "stream",
     "text": [
      "/home/alexandra/anaconda3/envs/ranked_pathways/lib/python3.7/site-packages/rpy2/rinterface/__init__.py:146: RRuntimeWarning: \n",
      "\n",
      "  warnings.warn(x, RRuntimeWarning)\n",
      "/home/alexandra/anaconda3/envs/ranked_pathways/lib/python3.7/site-packages/rpy2/rinterface/__init__.py:146: RRuntimeWarning: Registered S3 method overwritten by 'enrichplot':\n",
      "  method               from\n",
      "  fortify.enrichResult DOSE\n",
      "\n",
      "  warnings.warn(x, RRuntimeWarning)\n",
      "/home/alexandra/anaconda3/envs/ranked_pathways/lib/python3.7/site-packages/rpy2/rinterface/__init__.py:146: RRuntimeWarning: clusterProfiler v3.14.3  For help: https://guangchuangyu.github.io/software/clusterProfiler\n",
      "\n",
      "If you use clusterProfiler in published research, please cite:\n",
      "Guangchuang Yu, Li-Gen Wang, Yanyan Han, Qing-Yu He. clusterProfiler: an R package for comparing biological themes among gene clusters. OMICS: A Journal of Integrative Biology. 2012, 16(5):284-287.\n",
      "\n",
      "  warnings.warn(x, RRuntimeWarning)\n",
      "/home/alexandra/anaconda3/envs/ranked_pathways/lib/python3.7/site-packages/rpy2/rinterface/__init__.py:146: RRuntimeWarning: Loading required package: AnnotationDbi\n",
      "\n",
      "  warnings.warn(x, RRuntimeWarning)\n",
      "/home/alexandra/anaconda3/envs/ranked_pathways/lib/python3.7/site-packages/rpy2/rinterface/__init__.py:146: RRuntimeWarning: Loading required package: stats4\n",
      "\n",
      "  warnings.warn(x, RRuntimeWarning)\n",
      "/home/alexandra/anaconda3/envs/ranked_pathways/lib/python3.7/site-packages/rpy2/rinterface/__init__.py:146: RRuntimeWarning: Loading required package: BiocGenerics\n",
      "\n",
      "  warnings.warn(x, RRuntimeWarning)\n",
      "/home/alexandra/anaconda3/envs/ranked_pathways/lib/python3.7/site-packages/rpy2/rinterface/__init__.py:146: RRuntimeWarning: Loading required package: parallel\n",
      "\n",
      "  warnings.warn(x, RRuntimeWarning)\n",
      "/home/alexandra/anaconda3/envs/ranked_pathways/lib/python3.7/site-packages/rpy2/rinterface/__init__.py:146: RRuntimeWarning: \n",
      "Attaching package: ‘BiocGenerics’\n",
      "\n",
      "\n",
      "  warnings.warn(x, RRuntimeWarning)\n",
      "/home/alexandra/anaconda3/envs/ranked_pathways/lib/python3.7/site-packages/rpy2/rinterface/__init__.py:146: RRuntimeWarning: The following objects are masked from ‘package:parallel’:\n",
      "\n",
      "    clusterApply, clusterApplyLB, clusterCall, clusterEvalQ,\n",
      "    clusterExport, clusterMap, parApply, parCapply, parLapply,\n",
      "    parLapplyLB, parRapply, parSapply, parSapplyLB\n",
      "\n",
      "\n",
      "  warnings.warn(x, RRuntimeWarning)\n",
      "/home/alexandra/anaconda3/envs/ranked_pathways/lib/python3.7/site-packages/rpy2/rinterface/__init__.py:146: RRuntimeWarning: The following object is masked from ‘package:limma’:\n",
      "\n",
      "    plotMA\n",
      "\n",
      "\n",
      "  warnings.warn(x, RRuntimeWarning)\n",
      "/home/alexandra/anaconda3/envs/ranked_pathways/lib/python3.7/site-packages/rpy2/rinterface/__init__.py:146: RRuntimeWarning: The following objects are masked from ‘package:stats’:\n",
      "\n",
      "    IQR, mad, sd, var, xtabs\n",
      "\n",
      "\n",
      "  warnings.warn(x, RRuntimeWarning)\n",
      "/home/alexandra/anaconda3/envs/ranked_pathways/lib/python3.7/site-packages/rpy2/rinterface/__init__.py:146: RRuntimeWarning: The following objects are masked from ‘package:base’:\n",
      "\n",
      "    anyDuplicated, append, as.data.frame, basename, cbind, colnames,\n",
      "    dirname, do.call, duplicated, eval, evalq, Filter, Find, get, grep,\n",
      "    grepl, intersect, is.unsorted, lapply, Map, mapply, match, mget,\n",
      "    order, paste, pmax, pmax.int, pmin, pmin.int, Position, rank,\n",
      "    rbind, Reduce, rownames, sapply, setdiff, sort, table, tapply,\n",
      "    union, unique, unsplit, which, which.max, which.min\n",
      "\n",
      "\n",
      "  warnings.warn(x, RRuntimeWarning)\n",
      "/home/alexandra/anaconda3/envs/ranked_pathways/lib/python3.7/site-packages/rpy2/rinterface/__init__.py:146: RRuntimeWarning: Loading required package: Biobase\n",
      "\n",
      "  warnings.warn(x, RRuntimeWarning)\n",
      "/home/alexandra/anaconda3/envs/ranked_pathways/lib/python3.7/site-packages/rpy2/rinterface/__init__.py:146: RRuntimeWarning: Welcome to Bioconductor\n",
      "\n",
      "    Vignettes contain introductory material; view with\n",
      "    'browseVignettes()'. To cite Bioconductor, see\n",
      "    'citation(\"Biobase\")', and for packages 'citation(\"pkgname\")'.\n",
      "\n",
      "\n",
      "  warnings.warn(x, RRuntimeWarning)\n",
      "/home/alexandra/anaconda3/envs/ranked_pathways/lib/python3.7/site-packages/rpy2/rinterface/__init__.py:146: RRuntimeWarning: Loading required package: IRanges\n",
      "\n",
      "  warnings.warn(x, RRuntimeWarning)\n",
      "/home/alexandra/anaconda3/envs/ranked_pathways/lib/python3.7/site-packages/rpy2/rinterface/__init__.py:146: RRuntimeWarning: Loading required package: S4Vectors\n",
      "\n",
      "  warnings.warn(x, RRuntimeWarning)\n",
      "/home/alexandra/anaconda3/envs/ranked_pathways/lib/python3.7/site-packages/rpy2/rinterface/__init__.py:146: RRuntimeWarning: \n",
      "Attaching package: ‘S4Vectors’\n",
      "\n",
      "\n",
      "  warnings.warn(x, RRuntimeWarning)\n",
      "/home/alexandra/anaconda3/envs/ranked_pathways/lib/python3.7/site-packages/rpy2/rinterface/__init__.py:146: RRuntimeWarning: The following object is masked from ‘package:base’:\n",
      "\n",
      "    expand.grid\n",
      "\n",
      "\n",
      "  warnings.warn(x, RRuntimeWarning)\n"
     ]
    }
   ],
   "source": [
    "%%R\n",
    "library(clusterProfiler)\n",
    "library(org.Hs.eg.db)"
   ]
  },
  {
   "cell_type": "markdown",
   "metadata": {},
   "source": [
    "**Get pathway enrichment for template experiment**"
   ]
  },
  {
   "cell_type": "code",
   "execution_count": 23,
   "metadata": {
    "scrolled": false
   },
   "outputs": [],
   "source": [
    "%%R -i template_DE_stats_file  -o enriched_pathways\n",
    "\n",
    "source('../functions/GSEA_analysis.R')\n",
    "\n",
    "enriched_pathways <- find_enriched_pathways(template_DE_stats_file)"
   ]
  },
  {
   "cell_type": "code",
   "execution_count": 25,
   "metadata": {},
   "outputs": [
    {
     "name": "stdout",
     "output_type": "stream",
     "text": [
      "(938, 12)\n"
     ]
    },
    {
     "data": {
      "text/html": [
       "<div>\n",
       "<style scoped>\n",
       "    .dataframe tbody tr th:only-of-type {\n",
       "        vertical-align: middle;\n",
       "    }\n",
       "\n",
       "    .dataframe tbody tr th {\n",
       "        vertical-align: top;\n",
       "    }\n",
       "\n",
       "    .dataframe thead th {\n",
       "        text-align: right;\n",
       "    }\n",
       "</style>\n",
       "<table border=\"1\" class=\"dataframe\">\n",
       "  <thead>\n",
       "    <tr style=\"text-align: right;\">\n",
       "      <th></th>\n",
       "      <th>ONTOLOGY</th>\n",
       "      <th>ID</th>\n",
       "      <th>Description</th>\n",
       "      <th>setSize</th>\n",
       "      <th>enrichmentScore</th>\n",
       "      <th>NES</th>\n",
       "      <th>pvalue</th>\n",
       "      <th>p.adjust</th>\n",
       "      <th>qvalues</th>\n",
       "      <th>rank</th>\n",
       "      <th>leading_edge</th>\n",
       "      <th>core_enrichment</th>\n",
       "    </tr>\n",
       "  </thead>\n",
       "  <tbody>\n",
       "    <tr>\n",
       "      <th>0</th>\n",
       "      <td>MF</td>\n",
       "      <td>GO:0000049</td>\n",
       "      <td>tRNA binding</td>\n",
       "      <td>60</td>\n",
       "      <td>0.525192</td>\n",
       "      <td>1.546042</td>\n",
       "      <td>0.000999</td>\n",
       "      <td>0.014062</td>\n",
       "      <td>0.011364</td>\n",
       "      <td>17488</td>\n",
       "      <td>tags=52%, list=30%, signal=36%</td>\n",
       "      <td>ENSG00000124571/ENSG00000129480/ENSG0000007250...</td>\n",
       "    </tr>\n",
       "    <tr>\n",
       "      <th>1</th>\n",
       "      <td>BP</td>\n",
       "      <td>GO:0000070</td>\n",
       "      <td>mitotic sister chromatid segregation</td>\n",
       "      <td>152</td>\n",
       "      <td>0.515293</td>\n",
       "      <td>1.603883</td>\n",
       "      <td>0.000999</td>\n",
       "      <td>0.014062</td>\n",
       "      <td>0.011364</td>\n",
       "      <td>16866</td>\n",
       "      <td>tags=52%, list=29%, signal=37%</td>\n",
       "      <td>ENSG00000154473/ENSG00000121152/ENSG0000016784...</td>\n",
       "    </tr>\n",
       "    <tr>\n",
       "      <th>2</th>\n",
       "      <td>BP</td>\n",
       "      <td>GO:0000075</td>\n",
       "      <td>cell cycle checkpoint</td>\n",
       "      <td>215</td>\n",
       "      <td>0.486637</td>\n",
       "      <td>1.538406</td>\n",
       "      <td>0.000999</td>\n",
       "      <td>0.014062</td>\n",
       "      <td>0.011364</td>\n",
       "      <td>16017</td>\n",
       "      <td>tags=47%, list=28%, signal=34%</td>\n",
       "      <td>ENSG00000182973/ENSG00000154473/ENSG0000016841...</td>\n",
       "    </tr>\n",
       "    <tr>\n",
       "      <th>3</th>\n",
       "      <td>BP</td>\n",
       "      <td>GO:0000077</td>\n",
       "      <td>DNA damage checkpoint</td>\n",
       "      <td>144</td>\n",
       "      <td>0.487972</td>\n",
       "      <td>1.514622</td>\n",
       "      <td>0.000999</td>\n",
       "      <td>0.014062</td>\n",
       "      <td>0.011364</td>\n",
       "      <td>17564</td>\n",
       "      <td>tags=49%, list=30%, signal=34%</td>\n",
       "      <td>ENSG00000182973/ENSG00000168411/ENSG0000013984...</td>\n",
       "    </tr>\n",
       "    <tr>\n",
       "      <th>4</th>\n",
       "      <td>BP</td>\n",
       "      <td>GO:0000082</td>\n",
       "      <td>G1/S transition of mitotic cell cycle</td>\n",
       "      <td>267</td>\n",
       "      <td>0.439629</td>\n",
       "      <td>1.402439</td>\n",
       "      <td>0.000999</td>\n",
       "      <td>0.014062</td>\n",
       "      <td>0.011364</td>\n",
       "      <td>14089</td>\n",
       "      <td>tags=37%, list=24%, signal=28%</td>\n",
       "      <td>ENSG00000198987/ENSG00000199157/ENSG0000020759...</td>\n",
       "    </tr>\n",
       "  </tbody>\n",
       "</table>\n",
       "</div>"
      ],
      "text/plain": [
       "  ONTOLOGY          ID                            Description  setSize  \\\n",
       "0       MF  GO:0000049                           tRNA binding       60   \n",
       "1       BP  GO:0000070   mitotic sister chromatid segregation      152   \n",
       "2       BP  GO:0000075                  cell cycle checkpoint      215   \n",
       "3       BP  GO:0000077                  DNA damage checkpoint      144   \n",
       "4       BP  GO:0000082  G1/S transition of mitotic cell cycle      267   \n",
       "\n",
       "   enrichmentScore       NES    pvalue  p.adjust   qvalues   rank  \\\n",
       "0         0.525192  1.546042  0.000999  0.014062  0.011364  17488   \n",
       "1         0.515293  1.603883  0.000999  0.014062  0.011364  16866   \n",
       "2         0.486637  1.538406  0.000999  0.014062  0.011364  16017   \n",
       "3         0.487972  1.514622  0.000999  0.014062  0.011364  17564   \n",
       "4         0.439629  1.402439  0.000999  0.014062  0.011364  14089   \n",
       "\n",
       "                     leading_edge  \\\n",
       "0  tags=52%, list=30%, signal=36%   \n",
       "1  tags=52%, list=29%, signal=37%   \n",
       "2  tags=47%, list=28%, signal=34%   \n",
       "3  tags=49%, list=30%, signal=34%   \n",
       "4  tags=37%, list=24%, signal=28%   \n",
       "\n",
       "                                     core_enrichment  \n",
       "0  ENSG00000124571/ENSG00000129480/ENSG0000007250...  \n",
       "1  ENSG00000154473/ENSG00000121152/ENSG0000016784...  \n",
       "2  ENSG00000182973/ENSG00000154473/ENSG0000016841...  \n",
       "3  ENSG00000182973/ENSG00000168411/ENSG0000013984...  \n",
       "4  ENSG00000198987/ENSG00000199157/ENSG0000020759...  "
      ]
     },
     "execution_count": 25,
     "metadata": {},
     "output_type": "execute_result"
    }
   ],
   "source": [
    "print(enriched_pathways.shape)\n",
    "enriched_pathways.head()"
   ]
  },
  {
   "cell_type": "markdown",
   "metadata": {},
   "source": [
    "**Get pathway enrichment for simulated experiments**"
   ]
  },
  {
   "cell_type": "code",
   "execution_count": 29,
   "metadata": {
    "scrolled": true
   },
   "outputs": [
    {
     "data": {
      "text/plain": [
       "running file: /home/alexandra/Documents/Data/Rank_pathways/DE_stats/DE_stats_simulated_data_SRP000762_0.txt...\n",
       "running file: /home/alexandra/Documents/Data/Rank_pathways/DE_stats/DE_stats_simulated_data_SRP000762_1.txt...\n",
       "running file: /home/alexandra/Documents/Data/Rank_pathways/DE_stats/DE_stats_simulated_data_SRP000762_2.txt...\n",
       "running file: /home/alexandra/Documents/Data/Rank_pathways/DE_stats/DE_stats_simulated_data_SRP000762_3.txt...\n",
       "running file: /home/alexandra/Documents/Data/Rank_pathways/DE_stats/DE_stats_simulated_data_SRP000762_4.txt...\n",
       "running file: /home/alexandra/Documents/Data/Rank_pathways/DE_stats/DE_stats_simulated_data_SRP000762_5.txt...\n",
       "running file: /home/alexandra/Documents/Data/Rank_pathways/DE_stats/DE_stats_simulated_data_SRP000762_6.txt...\n",
       "running file: /home/alexandra/Documents/Data/Rank_pathways/DE_stats/DE_stats_simulated_data_SRP000762_7.txt...\n",
       "running file: /home/alexandra/Documents/Data/Rank_pathways/DE_stats/DE_stats_simulated_data_SRP000762_8.txt...\n",
       "running file: /home/alexandra/Documents/Data/Rank_pathways/DE_stats/DE_stats_simulated_data_SRP000762_9.txt...\n",
       "running file: /home/alexandra/Documents/Data/Rank_pathways/DE_stats/DE_stats_simulated_data_SRP000762_10.txt...\n",
       "running file: /home/alexandra/Documents/Data/Rank_pathways/DE_stats/DE_stats_simulated_data_SRP000762_11.txt...\n",
       "running file: /home/alexandra/Documents/Data/Rank_pathways/DE_stats/DE_stats_simulated_data_SRP000762_12.txt...\n",
       "running file: /home/alexandra/Documents/Data/Rank_pathways/DE_stats/DE_stats_simulated_data_SRP000762_13.txt...\n",
       "running file: /home/alexandra/Documents/Data/Rank_pathways/DE_stats/DE_stats_simulated_data_SRP000762_14.txt...\n",
       "running file: /home/alexandra/Documents/Data/Rank_pathways/DE_stats/DE_stats_simulated_data_SRP000762_15.txt...\n",
       "running file: /home/alexandra/Documents/Data/Rank_pathways/DE_stats/DE_stats_simulated_data_SRP000762_16.txt...\n",
       "running file: /home/alexandra/Documents/Data/Rank_pathways/DE_stats/DE_stats_simulated_data_SRP000762_17.txt...\n",
       "running file: /home/alexandra/Documents/Data/Rank_pathways/DE_stats/DE_stats_simulated_data_SRP000762_18.txt...\n",
       "running file: /home/alexandra/Documents/Data/Rank_pathways/DE_stats/DE_stats_simulated_data_SRP000762_19.txt...\n",
       "running file: /home/alexandra/Documents/Data/Rank_pathways/DE_stats/DE_stats_simulated_data_SRP000762_20.txt...\n",
       "running file: /home/alexandra/Documents/Data/Rank_pathways/DE_stats/DE_stats_simulated_data_SRP000762_21.txt...\n",
       "running file: /home/alexandra/Documents/Data/Rank_pathways/DE_stats/DE_stats_simulated_data_SRP000762_22.txt...\n",
       "running file: /home/alexandra/Documents/Data/Rank_pathways/DE_stats/DE_stats_simulated_data_SRP000762_23.txt...\n",
       "running file: /home/alexandra/Documents/Data/Rank_pathways/DE_stats/DE_stats_simulated_data_SRP000762_24.txt...\n"
      ]
     },
     "metadata": {},
     "output_type": "display_data"
    }
   ],
   "source": [
    "%%R -i project_id -i local_dir -i num_runs \n",
    "\n",
    "source('../functions/GSEA_analysis.R')\n",
    "\n",
    "for (i in 0:(num_runs-1)){\n",
    "    simulated_DE_stats_file <- paste(local_dir, \n",
    "                                 \"DE_stats/DE_stats_simulated_data_\", \n",
    "                                 project_id,\n",
    "                                 \"_\", \n",
    "                                 i,\n",
    "                                 \".txt\",\n",
    "                                 sep=\"\")\n",
    "    cat(paste(\"running file: \", simulated_DE_stats_file, \"...\\n\", sep=\"\"))\n",
    "    \n",
    "    enriched_pathways <- find_enriched_pathways(simulated_DE_stats_file)\n",
    "    \n",
    "    out_file = paste(local_dir, \"GSEA_stats/GSEA_simulated_data_\", project_id,\"_\", i, \".txt\", sep=\"\")\n",
    "    write.table(enriched_pathways, file = out_file, row.names = T, sep = \"\\t\", quote = F)\n",
    "    }"
   ]
  },
  {
   "cell_type": "markdown",
   "metadata": {},
   "source": [
    "**Check**\n",
    "\n",
    "Again, we want to compare our ranked pathways found against what was reported in the original publication.\n",
    "\n",
    "*The DEX-responsive genes that we identified are primarily implicated in two broad classes: stress response and development (Table 1; Reimand et al. 2007). Comparison to Gene Ontology (GO) categories (Ashburner et al. 2000) revealed that the identified genes are involved in stress response (P = 6 × 10−11), organ development (P = 5 × 10−15), cell differentiation (P = 1 × 10−11), hormone secretion (P = 4 × 10−7), and apoptosis (P = 5 × 10−12).*"
   ]
  },
  {
   "cell_type": "markdown",
   "metadata": {},
   "source": [
    "## Statistics"
   ]
  },
  {
   "cell_type": "code",
   "execution_count": null,
   "metadata": {},
   "outputs": [],
   "source": []
  }
 ],
 "metadata": {
  "kernelspec": {
   "display_name": "Python [conda env:ranked_pathways] *",
   "language": "python",
   "name": "conda-env-ranked_pathways-py"
  },
  "language_info": {
   "codemirror_mode": {
    "name": "ipython",
    "version": 3
   },
   "file_extension": ".py",
   "mimetype": "text/x-python",
   "name": "python",
   "nbconvert_exporter": "python",
   "pygments_lexer": "ipython3",
   "version": "3.7.6"
  }
 },
 "nbformat": 4,
 "nbformat_minor": 4
}
