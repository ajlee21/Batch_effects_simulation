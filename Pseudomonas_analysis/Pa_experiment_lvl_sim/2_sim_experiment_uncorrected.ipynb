{
 "cells": [
  {
   "cell_type": "markdown",
   "metadata": {},
   "source": [
    "# Simulation experiment using noisy data \n",
    "\n",
    "Run entire simulation experiment multiple times to generate confidence interval.  The simulation experiment can be found in ```functions/pipeline.py```"
   ]
  },
  {
   "cell_type": "code",
   "execution_count": 1,
   "metadata": {},
   "outputs": [
    {
     "name": "stderr",
     "output_type": "stream",
     "text": [
      "Using TensorFlow backend.\n"
     ]
    }
   ],
   "source": [
    "%load_ext autoreload\n",
    "%autoreload 2\n",
    "\n",
    "from joblib import Parallel, delayed\n",
    "import multiprocessing\n",
    "import sys\n",
    "import os\n",
    "import pandas as pd\n",
    "import numpy as np\n",
    "\n",
    "import warnings\n",
    "warnings.filterwarnings(action='ignore')\n",
    "\n",
    "sys.path.append(\"../../\")\n",
    "from functions import pipelines\n",
    "\n",
    "from numpy.random import seed\n",
    "randomState = 123\n",
    "seed(randomState)"
   ]
  },
  {
   "cell_type": "code",
   "execution_count": 2,
   "metadata": {},
   "outputs": [],
   "source": [
    "# Parameters\n",
    "dataset_name = \"Pseudomonas_analysis\"\n",
    "analysis_name = 'Pa_experiment_lvl_sim'\n",
    "NN_architecture = 'NN_2500_30'\n",
    "file_prefix = \"Partition\"\n",
    "num_simulated_experiments = 600\n",
    "lst_num_partitions = [1, 2, 3, 5, 10, 20,\n",
    "                      30, 50, 70, 100, 200, 300, 400, 500, 600]\n",
    "\n",
    "corrected = False\n",
    "use_pca = True\n",
    "num_PCs = 10\n",
    "\n",
    "iterations = range(5) \n",
    "num_cores = 5"
   ]
  },
  {
   "cell_type": "code",
   "execution_count": 3,
   "metadata": {},
   "outputs": [],
   "source": [
    "# Input\n",
    "base_dir = os.path.abspath(\n",
    "      os.path.join(\n",
    "          os.getcwd(), \"../..\"))\n",
    "\n",
    "normalized_data_file = os.path.join(\n",
    "    base_dir,\n",
    "    dataset_name,    \n",
    "    \"data\",\n",
    "    \"input\",\n",
    "    \"train_set_normalized.pcl\")\n",
    "\n",
    "experiment_ids_file = os.path.join(\n",
    "    base_dir,\n",
    "    dataset_name,\n",
    "    \"data\",\n",
    "    \"metadata\",\n",
    "    \"experiment_ids.txt\")"
   ]
  },
  {
   "cell_type": "code",
   "execution_count": 4,
   "metadata": {},
   "outputs": [],
   "source": [
    "# Output files\n",
    "similarity_uncorrected_file = os.path.join(\n",
    "    base_dir,\n",
    "    \"results\",\n",
    "    \"saved_variables\",\n",
    "    \"Pa_experiment_lvl_sim_similarity_uncorrected.pickle\")\n",
    "\n",
    "ci_uncorrected_file = os.path.join(\n",
    "    base_dir,\n",
    "    \"results\",\n",
    "    \"saved_variables\",\n",
    "    \"Pa_experiment_lvl_sim_ci_uncorrected.pickle\")\n",
    "\n",
    "similarity_permuted_file = os.path.join(\n",
    "    base_dir,\n",
    "    \"results\",\n",
    "    \"saved_variables\",\n",
    "    \"Pa_experiment_lvl_sim_permuted\")"
   ]
  },
  {
   "cell_type": "code",
   "execution_count": 5,
   "metadata": {},
   "outputs": [
    {
     "name": "stdout",
     "output_type": "stream",
     "text": [
      "[Parallel(n_jobs=5)]: Using backend LokyBackend with 5 concurrent workers.\n",
      "[Parallel(n_jobs=5)]: Done   1 tasks      | elapsed:   26.8s\n",
      "[Parallel(n_jobs=5)]: Done   2 out of   5 | elapsed:   28.5s remaining:   42.8s\n",
      "[Parallel(n_jobs=5)]: Done   3 out of   5 | elapsed:   33.0s remaining:   22.0s\n",
      "[Parallel(n_jobs=5)]: Done   5 out of   5 | elapsed:   50.4s remaining:    0.0s\n",
      "[Parallel(n_jobs=5)]: Done   5 out of   5 | elapsed:   50.4s finished\n"
     ]
    }
   ],
   "source": [
    "# Run multiple simulations - uncorrected\n",
    "results = Parallel(n_jobs=num_cores, verbose=100)(\n",
    "    delayed(\n",
    "        pipelines.experiment_level_simulation_uncorrected)(i,\n",
    "                                                           NN_architecture,\n",
    "                                                           dataset_name,\n",
    "                                                           analysis_name,\n",
    "                                                           num_simulated_experiments,\n",
    "                                                           lst_num_partitions,\n",
    "                                                           corrected,\n",
    "                                                           use_pca,\n",
    "                                                           num_PCs,\n",
    "                                                           file_prefix,\n",
    "                                                           normalized_data_file,\n",
    "                                                           experiment_ids_file) for i in iterations)"
   ]
  },
  {
   "cell_type": "code",
   "execution_count": 6,
   "metadata": {},
   "outputs": [],
   "source": [
    "# permuted score\n",
    "permuted_score = results[0][0]"
   ]
  },
  {
   "cell_type": "code",
   "execution_count": 7,
   "metadata": {
    "scrolled": true
   },
   "outputs": [
    {
     "data": {
      "text/html": [
       "<div>\n",
       "<style scoped>\n",
       "    .dataframe tbody tr th:only-of-type {\n",
       "        vertical-align: middle;\n",
       "    }\n",
       "\n",
       "    .dataframe tbody tr th {\n",
       "        vertical-align: top;\n",
       "    }\n",
       "\n",
       "    .dataframe thead th {\n",
       "        text-align: right;\n",
       "    }\n",
       "</style>\n",
       "<table border=\"1\" class=\"dataframe\">\n",
       "  <thead>\n",
       "    <tr style=\"text-align: right;\">\n",
       "      <th></th>\n",
       "      <th>score</th>\n",
       "      <th>score</th>\n",
       "      <th>score</th>\n",
       "      <th>score</th>\n",
       "      <th>score</th>\n",
       "    </tr>\n",
       "    <tr>\n",
       "      <th>number of partitions</th>\n",
       "      <th></th>\n",
       "      <th></th>\n",
       "      <th></th>\n",
       "      <th></th>\n",
       "      <th></th>\n",
       "    </tr>\n",
       "  </thead>\n",
       "  <tbody>\n",
       "    <tr>\n",
       "      <th>1</th>\n",
       "      <td>0.999993</td>\n",
       "      <td>0.999993</td>\n",
       "      <td>0.999995</td>\n",
       "      <td>0.999994</td>\n",
       "      <td>0.999994</td>\n",
       "    </tr>\n",
       "    <tr>\n",
       "      <th>2</th>\n",
       "      <td>0.900601</td>\n",
       "      <td>0.978067</td>\n",
       "      <td>0.973179</td>\n",
       "      <td>0.976018</td>\n",
       "      <td>0.989764</td>\n",
       "    </tr>\n",
       "    <tr>\n",
       "      <th>5</th>\n",
       "      <td>0.917714</td>\n",
       "      <td>0.872715</td>\n",
       "      <td>0.924796</td>\n",
       "      <td>0.902285</td>\n",
       "      <td>0.860628</td>\n",
       "    </tr>\n",
       "    <tr>\n",
       "      <th>10</th>\n",
       "      <td>0.851287</td>\n",
       "      <td>0.881066</td>\n",
       "      <td>0.871770</td>\n",
       "      <td>0.901453</td>\n",
       "      <td>0.852006</td>\n",
       "    </tr>\n",
       "  </tbody>\n",
       "</table>\n",
       "</div>"
      ],
      "text/plain": [
       "                         score     score     score     score     score\n",
       "number of partitions                                                  \n",
       "1                     0.999993  0.999993  0.999995  0.999994  0.999994\n",
       "2                     0.900601  0.978067  0.973179  0.976018  0.989764\n",
       "5                     0.917714  0.872715  0.924796  0.902285  0.860628\n",
       "10                    0.851287  0.881066  0.871770  0.901453  0.852006"
      ]
     },
     "execution_count": 7,
     "metadata": {},
     "output_type": "execute_result"
    }
   ],
   "source": [
    "# Concatenate output dataframes\n",
    "all_svcca_scores = pd.DataFrame()\n",
    "\n",
    "for i in iterations:\n",
    "    all_svcca_scores = pd.concat([all_svcca_scores, results[i][1]], axis=1)\n",
    "\n",
    "all_svcca_scores"
   ]
  },
  {
   "cell_type": "code",
   "execution_count": 8,
   "metadata": {},
   "outputs": [
    {
     "data": {
      "text/html": [
       "<div>\n",
       "<style scoped>\n",
       "    .dataframe tbody tr th:only-of-type {\n",
       "        vertical-align: middle;\n",
       "    }\n",
       "\n",
       "    .dataframe tbody tr th {\n",
       "        vertical-align: top;\n",
       "    }\n",
       "\n",
       "    .dataframe thead th {\n",
       "        text-align: right;\n",
       "    }\n",
       "</style>\n",
       "<table border=\"1\" class=\"dataframe\">\n",
       "  <thead>\n",
       "    <tr style=\"text-align: right;\">\n",
       "      <th></th>\n",
       "      <th>score</th>\n",
       "    </tr>\n",
       "    <tr>\n",
       "      <th>number of partitions</th>\n",
       "      <th></th>\n",
       "    </tr>\n",
       "  </thead>\n",
       "  <tbody>\n",
       "    <tr>\n",
       "      <th>1</th>\n",
       "      <td>0.999994</td>\n",
       "    </tr>\n",
       "    <tr>\n",
       "      <th>2</th>\n",
       "      <td>0.963526</td>\n",
       "    </tr>\n",
       "    <tr>\n",
       "      <th>5</th>\n",
       "      <td>0.895628</td>\n",
       "    </tr>\n",
       "    <tr>\n",
       "      <th>10</th>\n",
       "      <td>0.871516</td>\n",
       "    </tr>\n",
       "  </tbody>\n",
       "</table>\n",
       "</div>"
      ],
      "text/plain": [
       "                         score\n",
       "number of partitions          \n",
       "1                     0.999994\n",
       "2                     0.963526\n",
       "5                     0.895628\n",
       "10                    0.871516"
      ]
     },
     "execution_count": 8,
     "metadata": {},
     "output_type": "execute_result"
    }
   ],
   "source": [
    "# Get median for each row (number of experiments)\n",
    "mean_scores = all_svcca_scores.mean(axis=1).to_frame()\n",
    "mean_scores.columns = ['score']\n",
    "mean_scores"
   ]
  },
  {
   "cell_type": "code",
   "execution_count": 9,
   "metadata": {},
   "outputs": [
    {
     "data": {
      "text/html": [
       "<div>\n",
       "<style scoped>\n",
       "    .dataframe tbody tr th:only-of-type {\n",
       "        vertical-align: middle;\n",
       "    }\n",
       "\n",
       "    .dataframe tbody tr th {\n",
       "        vertical-align: top;\n",
       "    }\n",
       "\n",
       "    .dataframe thead th {\n",
       "        text-align: right;\n",
       "    }\n",
       "</style>\n",
       "<table border=\"1\" class=\"dataframe\">\n",
       "  <thead>\n",
       "    <tr style=\"text-align: right;\">\n",
       "      <th></th>\n",
       "      <th>score</th>\n",
       "    </tr>\n",
       "    <tr>\n",
       "      <th>number of partitions</th>\n",
       "      <th></th>\n",
       "    </tr>\n",
       "  </thead>\n",
       "  <tbody>\n",
       "    <tr>\n",
       "      <th>1</th>\n",
       "      <td>2.683735e-07</td>\n",
       "    </tr>\n",
       "    <tr>\n",
       "      <th>2</th>\n",
       "      <td>1.130113e-02</td>\n",
       "    </tr>\n",
       "    <tr>\n",
       "      <th>5</th>\n",
       "      <td>8.850029e-03</td>\n",
       "    </tr>\n",
       "    <tr>\n",
       "      <th>10</th>\n",
       "      <td>6.665802e-03</td>\n",
       "    </tr>\n",
       "  </tbody>\n",
       "</table>\n",
       "</div>"
      ],
      "text/plain": [
       "                             score\n",
       "number of partitions              \n",
       "1                     2.683735e-07\n",
       "2                     1.130113e-02\n",
       "5                     8.850029e-03\n",
       "10                    6.665802e-03"
      ]
     },
     "execution_count": 9,
     "metadata": {},
     "output_type": "execute_result"
    }
   ],
   "source": [
    "# Get standard dev for each row (number of experiments)\n",
    "import math\n",
    "std_scores = (all_svcca_scores.std(axis=1)/math.sqrt(10)).to_frame()\n",
    "std_scores.columns = ['score']\n",
    "std_scores"
   ]
  },
  {
   "cell_type": "code",
   "execution_count": 10,
   "metadata": {},
   "outputs": [],
   "source": [
    "# Get confidence interval for each row (number of experiments)\n",
    "err = std_scores*1.96"
   ]
  },
  {
   "cell_type": "code",
   "execution_count": 11,
   "metadata": {},
   "outputs": [
    {
     "data": {
      "text/html": [
       "<div>\n",
       "<style scoped>\n",
       "    .dataframe tbody tr th:only-of-type {\n",
       "        vertical-align: middle;\n",
       "    }\n",
       "\n",
       "    .dataframe tbody tr th {\n",
       "        vertical-align: top;\n",
       "    }\n",
       "\n",
       "    .dataframe thead th {\n",
       "        text-align: right;\n",
       "    }\n",
       "</style>\n",
       "<table border=\"1\" class=\"dataframe\">\n",
       "  <thead>\n",
       "    <tr style=\"text-align: right;\">\n",
       "      <th></th>\n",
       "      <th>ymin</th>\n",
       "      <th>ymax</th>\n",
       "    </tr>\n",
       "    <tr>\n",
       "      <th>number of partitions</th>\n",
       "      <th></th>\n",
       "      <th></th>\n",
       "    </tr>\n",
       "  </thead>\n",
       "  <tbody>\n",
       "    <tr>\n",
       "      <th>1</th>\n",
       "      <td>0.999993</td>\n",
       "      <td>0.999994</td>\n",
       "    </tr>\n",
       "    <tr>\n",
       "      <th>2</th>\n",
       "      <td>0.941376</td>\n",
       "      <td>0.985676</td>\n",
       "    </tr>\n",
       "    <tr>\n",
       "      <th>5</th>\n",
       "      <td>0.878282</td>\n",
       "      <td>0.912974</td>\n",
       "    </tr>\n",
       "    <tr>\n",
       "      <th>10</th>\n",
       "      <td>0.858451</td>\n",
       "      <td>0.884581</td>\n",
       "    </tr>\n",
       "  </tbody>\n",
       "</table>\n",
       "</div>"
      ],
      "text/plain": [
       "                          ymin      ymax\n",
       "number of partitions                    \n",
       "1                     0.999993  0.999994\n",
       "2                     0.941376  0.985676\n",
       "5                     0.878282  0.912974\n",
       "10                    0.858451  0.884581"
      ]
     },
     "execution_count": 11,
     "metadata": {},
     "output_type": "execute_result"
    }
   ],
   "source": [
    "# Get boundaries of confidence interval\n",
    "ymax = mean_scores + err\n",
    "ymin = mean_scores - err\n",
    "\n",
    "ci = pd.concat([ymin, ymax], axis=1)\n",
    "ci.columns = ['ymin', 'ymax']\n",
    "ci"
   ]
  },
  {
   "cell_type": "code",
   "execution_count": 12,
   "metadata": {},
   "outputs": [
    {
     "data": {
      "text/html": [
       "<div>\n",
       "<style scoped>\n",
       "    .dataframe tbody tr th:only-of-type {\n",
       "        vertical-align: middle;\n",
       "    }\n",
       "\n",
       "    .dataframe tbody tr th {\n",
       "        vertical-align: top;\n",
       "    }\n",
       "\n",
       "    .dataframe thead th {\n",
       "        text-align: right;\n",
       "    }\n",
       "</style>\n",
       "<table border=\"1\" class=\"dataframe\">\n",
       "  <thead>\n",
       "    <tr style=\"text-align: right;\">\n",
       "      <th></th>\n",
       "      <th>score</th>\n",
       "    </tr>\n",
       "    <tr>\n",
       "      <th>number of partitions</th>\n",
       "      <th></th>\n",
       "    </tr>\n",
       "  </thead>\n",
       "  <tbody>\n",
       "    <tr>\n",
       "      <th>1</th>\n",
       "      <td>0.999994</td>\n",
       "    </tr>\n",
       "    <tr>\n",
       "      <th>2</th>\n",
       "      <td>0.963526</td>\n",
       "    </tr>\n",
       "    <tr>\n",
       "      <th>5</th>\n",
       "      <td>0.895628</td>\n",
       "    </tr>\n",
       "    <tr>\n",
       "      <th>10</th>\n",
       "      <td>0.871516</td>\n",
       "    </tr>\n",
       "  </tbody>\n",
       "</table>\n",
       "</div>"
      ],
      "text/plain": [
       "                         score\n",
       "number of partitions          \n",
       "1                     0.999994\n",
       "2                     0.963526\n",
       "5                     0.895628\n",
       "10                    0.871516"
      ]
     },
     "execution_count": 12,
     "metadata": {},
     "output_type": "execute_result"
    }
   ],
   "source": [
    "mean_scores"
   ]
  },
  {
   "cell_type": "code",
   "execution_count": 13,
   "metadata": {},
   "outputs": [],
   "source": [
    "# Pickle dataframe of mean scores scores for first run, interval\n",
    "mean_scores.to_pickle(similarity_uncorrected_file)\n",
    "ci.to_pickle(ci_uncorrected_file)\n",
    "np.save(similarity_permuted_file, permuted_score)"
   ]
  }
 ],
 "metadata": {
  "kernelspec": {
   "display_name": "Python [conda env:batch_effects]",
   "language": "python",
   "name": "conda-env-batch_effects-py"
  },
  "language_info": {
   "codemirror_mode": {
    "name": "ipython",
    "version": 3
   },
   "file_extension": ".py",
   "mimetype": "text/x-python",
   "name": "python",
   "nbconvert_exporter": "python",
   "pygments_lexer": "ipython3",
   "version": "3.5.5"
  }
 },
 "nbformat": 4,
 "nbformat_minor": 2
}
