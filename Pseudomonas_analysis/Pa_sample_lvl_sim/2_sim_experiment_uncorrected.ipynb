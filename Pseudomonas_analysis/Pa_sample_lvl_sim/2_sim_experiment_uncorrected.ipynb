{
 "cells": [
  {
   "cell_type": "markdown",
   "metadata": {},
   "source": [
    "# Simulation experiment using noisy data \n",
    "\n",
    "Run entire simulation experiment multiple times to generate confidence interval"
   ]
  },
  {
   "cell_type": "code",
   "execution_count": 1,
   "metadata": {},
   "outputs": [
    {
     "name": "stderr",
     "output_type": "stream",
     "text": [
      "Using TensorFlow backend.\n"
     ]
    }
   ],
   "source": [
    "%load_ext autoreload\n",
    "%autoreload 2\n",
    "\n",
    "from joblib import Parallel, delayed\n",
    "import multiprocessing\n",
    "import sys\n",
    "import os\n",
    "import numpy as np\n",
    "import pandas as pd\n",
    "\n",
    "import warnings\n",
    "warnings.filterwarnings(action='ignore')\n",
    "\n",
    "sys.path.append(\"../../\")\n",
    "from functions import pipelines\n",
    "\n",
    "from numpy.random import seed\n",
    "randomState = 123\n",
    "seed(randomState)"
   ]
  },
  {
   "cell_type": "code",
   "execution_count": 2,
   "metadata": {},
   "outputs": [],
   "source": [
    "# Parameters\n",
    "dataset_name = \"Pseudomonas_analysis\"\n",
    "analysis_name = 'Pa_sample_lvl_sim'\n",
    "NN_architecture = 'NN_2500_30'\n",
    "file_prefix = \"Experiment\"\n",
    "num_simulated_samples = 6000\n",
    "lst_num_experiments = [1, 2, 5, 10, 20,\n",
    "                     50, 100, 500, 1000, 2000, 3000, 6000]\n",
    "\n",
    "corrected = False\n",
    "use_pca = True\n",
    "num_PCs = 10\n",
    "\n",
    "iterations = range(5) \n",
    "num_cores = 5"
   ]
  },
  {
   "cell_type": "code",
   "execution_count": 3,
   "metadata": {},
   "outputs": [],
   "source": [
    "# Input file\n",
    "base_dir = os.path.abspath(\n",
    "      os.path.join(\n",
    "          os.getcwd(), \"../..\"))\n",
    "\n",
    "normalized_data_file = os.path.join(\n",
    "    base_dir,\n",
    "    dataset_name,    \n",
    "    \"data\",\n",
    "    \"input\",\n",
    "    \"train_set_normalized.pcl\")"
   ]
  },
  {
   "cell_type": "code",
   "execution_count": 4,
   "metadata": {},
   "outputs": [],
   "source": [
    "# Output files\n",
    "similarity_uncorrected_file = os.path.join(\n",
    "    base_dir,\n",
    "    \"results\",\n",
    "    \"saved_variables\",\n",
    "    \"Pa_sample_lvl_sim_similarity_uncorrected.pickle\")\n",
    "\n",
    "ci_uncorrected_file = os.path.join(\n",
    "    base_dir,\n",
    "    \"results\",\n",
    "    \"saved_variables\",\n",
    "    \"Pa_sample_lvl_sim_ci_uncorrected.pickle\")\n",
    "\n",
    "similarity_permuted_file = os.path.join(\n",
    "    base_dir,\n",
    "    \"results\",\n",
    "    \"saved_variables\",\n",
    "    \"Pa_sample_lvl_sim_permuted\")"
   ]
  },
  {
   "cell_type": "code",
   "execution_count": 5,
   "metadata": {},
   "outputs": [
    {
     "name": "stdout",
     "output_type": "stream",
     "text": [
      "[Parallel(n_jobs=5)]: Using backend LokyBackend with 5 concurrent workers.\n",
      "[Parallel(n_jobs=5)]: Done   1 tasks      | elapsed:   26.7s\n",
      "[Parallel(n_jobs=5)]: Done   2 out of   5 | elapsed:   27.4s remaining:   41.1s\n",
      "[Parallel(n_jobs=5)]: Done   3 out of   5 | elapsed:   27.8s remaining:   18.5s\n",
      "[Parallel(n_jobs=5)]: Done   5 out of   5 | elapsed:   27.9s remaining:    0.0s\n",
      "[Parallel(n_jobs=5)]: Done   5 out of   5 | elapsed:   27.9s finished\n"
     ]
    }
   ],
   "source": [
    "# Run multiple simulations\n",
    "results = Parallel(n_jobs=num_cores, verbose=100)(\n",
    "    delayed(\n",
    "        pipelines.sample_level_simulation_uncorrected)(i,\n",
    "                                                       NN_architecture,\n",
    "                                                       dataset_name,\n",
    "                                                       analysis_name,\n",
    "                                                       num_simulated_samples,\n",
    "                                                       lst_num_experiments,\n",
    "                                                       corrected,\n",
    "                                                       use_pca,\n",
    "                                                       num_PCs,\n",
    "                                                       file_prefix,\n",
    "                                                       normalized_data_file) for i in iterations)"
   ]
  },
  {
   "cell_type": "code",
   "execution_count": 6,
   "metadata": {},
   "outputs": [],
   "source": [
    "# permuted score\n",
    "permuted_score = results[0][0]"
   ]
  },
  {
   "cell_type": "code",
   "execution_count": 7,
   "metadata": {
    "scrolled": true
   },
   "outputs": [
    {
     "data": {
      "text/html": [
       "<div>\n",
       "<style scoped>\n",
       "    .dataframe tbody tr th:only-of-type {\n",
       "        vertical-align: middle;\n",
       "    }\n",
       "\n",
       "    .dataframe tbody tr th {\n",
       "        vertical-align: top;\n",
       "    }\n",
       "\n",
       "    .dataframe thead th {\n",
       "        text-align: right;\n",
       "    }\n",
       "</style>\n",
       "<table border=\"1\" class=\"dataframe\">\n",
       "  <thead>\n",
       "    <tr style=\"text-align: right;\">\n",
       "      <th></th>\n",
       "      <th>score</th>\n",
       "      <th>score</th>\n",
       "      <th>score</th>\n",
       "      <th>score</th>\n",
       "      <th>score</th>\n",
       "    </tr>\n",
       "    <tr>\n",
       "      <th>number of experiments</th>\n",
       "      <th></th>\n",
       "      <th></th>\n",
       "      <th></th>\n",
       "      <th></th>\n",
       "      <th></th>\n",
       "    </tr>\n",
       "  </thead>\n",
       "  <tbody>\n",
       "    <tr>\n",
       "      <th>1</th>\n",
       "      <td>0.999991</td>\n",
       "      <td>0.999973</td>\n",
       "      <td>0.999986</td>\n",
       "      <td>0.999981</td>\n",
       "      <td>0.999993</td>\n",
       "    </tr>\n",
       "    <tr>\n",
       "      <th>2</th>\n",
       "      <td>0.921006</td>\n",
       "      <td>0.917926</td>\n",
       "      <td>0.904877</td>\n",
       "      <td>0.913845</td>\n",
       "      <td>0.907764</td>\n",
       "    </tr>\n",
       "    <tr>\n",
       "      <th>50</th>\n",
       "      <td>0.511029</td>\n",
       "      <td>0.534279</td>\n",
       "      <td>0.469248</td>\n",
       "      <td>0.540915</td>\n",
       "      <td>0.503044</td>\n",
       "    </tr>\n",
       "    <tr>\n",
       "      <th>100</th>\n",
       "      <td>0.770170</td>\n",
       "      <td>0.736357</td>\n",
       "      <td>0.769561</td>\n",
       "      <td>0.794730</td>\n",
       "      <td>0.757895</td>\n",
       "    </tr>\n",
       "  </tbody>\n",
       "</table>\n",
       "</div>"
      ],
      "text/plain": [
       "                          score     score     score     score     score\n",
       "number of experiments                                                  \n",
       "1                      0.999991  0.999973  0.999986  0.999981  0.999993\n",
       "2                      0.921006  0.917926  0.904877  0.913845  0.907764\n",
       "50                     0.511029  0.534279  0.469248  0.540915  0.503044\n",
       "100                    0.770170  0.736357  0.769561  0.794730  0.757895"
      ]
     },
     "execution_count": 7,
     "metadata": {},
     "output_type": "execute_result"
    }
   ],
   "source": [
    "# Concatenate output dataframes\n",
    "all_svcca_scores = pd.DataFrame()\n",
    "\n",
    "for i in iterations:\n",
    "    all_svcca_scores = pd.concat([all_svcca_scores, results[i][1]], axis=1)\n",
    "\n",
    "all_svcca_scores"
   ]
  },
  {
   "cell_type": "code",
   "execution_count": 8,
   "metadata": {
    "scrolled": true
   },
   "outputs": [
    {
     "data": {
      "text/html": [
       "<div>\n",
       "<style scoped>\n",
       "    .dataframe tbody tr th:only-of-type {\n",
       "        vertical-align: middle;\n",
       "    }\n",
       "\n",
       "    .dataframe tbody tr th {\n",
       "        vertical-align: top;\n",
       "    }\n",
       "\n",
       "    .dataframe thead th {\n",
       "        text-align: right;\n",
       "    }\n",
       "</style>\n",
       "<table border=\"1\" class=\"dataframe\">\n",
       "  <thead>\n",
       "    <tr style=\"text-align: right;\">\n",
       "      <th></th>\n",
       "      <th>score</th>\n",
       "    </tr>\n",
       "    <tr>\n",
       "      <th>number of experiments</th>\n",
       "      <th></th>\n",
       "    </tr>\n",
       "  </thead>\n",
       "  <tbody>\n",
       "    <tr>\n",
       "      <th>1</th>\n",
       "      <td>0.999985</td>\n",
       "    </tr>\n",
       "    <tr>\n",
       "      <th>2</th>\n",
       "      <td>0.913084</td>\n",
       "    </tr>\n",
       "    <tr>\n",
       "      <th>50</th>\n",
       "      <td>0.511703</td>\n",
       "    </tr>\n",
       "    <tr>\n",
       "      <th>100</th>\n",
       "      <td>0.765743</td>\n",
       "    </tr>\n",
       "  </tbody>\n",
       "</table>\n",
       "</div>"
      ],
      "text/plain": [
       "                          score\n",
       "number of experiments          \n",
       "1                      0.999985\n",
       "2                      0.913084\n",
       "50                     0.511703\n",
       "100                    0.765743"
      ]
     },
     "execution_count": 8,
     "metadata": {},
     "output_type": "execute_result"
    }
   ],
   "source": [
    "# Get mean svcca score for each row (number of experiments)\n",
    "mean_scores = all_svcca_scores.mean(axis=1).to_frame()\n",
    "mean_scores.columns = ['score']\n",
    "mean_scores"
   ]
  },
  {
   "cell_type": "code",
   "execution_count": 9,
   "metadata": {},
   "outputs": [
    {
     "data": {
      "text/html": [
       "<div>\n",
       "<style scoped>\n",
       "    .dataframe tbody tr th:only-of-type {\n",
       "        vertical-align: middle;\n",
       "    }\n",
       "\n",
       "    .dataframe tbody tr th {\n",
       "        vertical-align: top;\n",
       "    }\n",
       "\n",
       "    .dataframe thead th {\n",
       "        text-align: right;\n",
       "    }\n",
       "</style>\n",
       "<table border=\"1\" class=\"dataframe\">\n",
       "  <thead>\n",
       "    <tr style=\"text-align: right;\">\n",
       "      <th></th>\n",
       "      <th>score</th>\n",
       "    </tr>\n",
       "    <tr>\n",
       "      <th>number of experiments</th>\n",
       "      <th></th>\n",
       "    </tr>\n",
       "  </thead>\n",
       "  <tbody>\n",
       "    <tr>\n",
       "      <th>1</th>\n",
       "      <td>0.000003</td>\n",
       "    </tr>\n",
       "    <tr>\n",
       "      <th>2</th>\n",
       "      <td>0.002136</td>\n",
       "    </tr>\n",
       "    <tr>\n",
       "      <th>50</th>\n",
       "      <td>0.009001</td>\n",
       "    </tr>\n",
       "    <tr>\n",
       "      <th>100</th>\n",
       "      <td>0.006707</td>\n",
       "    </tr>\n",
       "  </tbody>\n",
       "</table>\n",
       "</div>"
      ],
      "text/plain": [
       "                          score\n",
       "number of experiments          \n",
       "1                      0.000003\n",
       "2                      0.002136\n",
       "50                     0.009001\n",
       "100                    0.006707"
      ]
     },
     "execution_count": 9,
     "metadata": {},
     "output_type": "execute_result"
    }
   ],
   "source": [
    "# Get standard dev for each row (number of experiments)\n",
    "import math\n",
    "std_scores = (all_svcca_scores.std(axis=1)/math.sqrt(10)).to_frame()\n",
    "std_scores.columns = ['score']\n",
    "std_scores"
   ]
  },
  {
   "cell_type": "code",
   "execution_count": 10,
   "metadata": {},
   "outputs": [],
   "source": [
    "# Get confidence interval for each row (number of experiments)\n",
    "# z-score for 95% confidence interval \n",
    "err = std_scores*1.96"
   ]
  },
  {
   "cell_type": "code",
   "execution_count": 11,
   "metadata": {},
   "outputs": [
    {
     "data": {
      "text/html": [
       "<div>\n",
       "<style scoped>\n",
       "    .dataframe tbody tr th:only-of-type {\n",
       "        vertical-align: middle;\n",
       "    }\n",
       "\n",
       "    .dataframe tbody tr th {\n",
       "        vertical-align: top;\n",
       "    }\n",
       "\n",
       "    .dataframe thead th {\n",
       "        text-align: right;\n",
       "    }\n",
       "</style>\n",
       "<table border=\"1\" class=\"dataframe\">\n",
       "  <thead>\n",
       "    <tr style=\"text-align: right;\">\n",
       "      <th></th>\n",
       "      <th>ymin</th>\n",
       "      <th>ymax</th>\n",
       "    </tr>\n",
       "    <tr>\n",
       "      <th>number of experiments</th>\n",
       "      <th></th>\n",
       "      <th></th>\n",
       "    </tr>\n",
       "  </thead>\n",
       "  <tbody>\n",
       "    <tr>\n",
       "      <th>1</th>\n",
       "      <td>0.999980</td>\n",
       "      <td>0.999990</td>\n",
       "    </tr>\n",
       "    <tr>\n",
       "      <th>2</th>\n",
       "      <td>0.908898</td>\n",
       "      <td>0.917270</td>\n",
       "    </tr>\n",
       "    <tr>\n",
       "      <th>50</th>\n",
       "      <td>0.494060</td>\n",
       "      <td>0.529345</td>\n",
       "    </tr>\n",
       "    <tr>\n",
       "      <th>100</th>\n",
       "      <td>0.752596</td>\n",
       "      <td>0.778889</td>\n",
       "    </tr>\n",
       "  </tbody>\n",
       "</table>\n",
       "</div>"
      ],
      "text/plain": [
       "                           ymin      ymax\n",
       "number of experiments                    \n",
       "1                      0.999980  0.999990\n",
       "2                      0.908898  0.917270\n",
       "50                     0.494060  0.529345\n",
       "100                    0.752596  0.778889"
      ]
     },
     "execution_count": 11,
     "metadata": {},
     "output_type": "execute_result"
    }
   ],
   "source": [
    "# Get boundaries of confidence interval\n",
    "ymax = mean_scores + err\n",
    "ymin = mean_scores - err\n",
    "\n",
    "ci = pd.concat([ymin, ymax], axis=1)\n",
    "ci.columns = ['ymin', 'ymax']\n",
    "ci"
   ]
  },
  {
   "cell_type": "code",
   "execution_count": 12,
   "metadata": {},
   "outputs": [
    {
     "data": {
      "text/html": [
       "<div>\n",
       "<style scoped>\n",
       "    .dataframe tbody tr th:only-of-type {\n",
       "        vertical-align: middle;\n",
       "    }\n",
       "\n",
       "    .dataframe tbody tr th {\n",
       "        vertical-align: top;\n",
       "    }\n",
       "\n",
       "    .dataframe thead th {\n",
       "        text-align: right;\n",
       "    }\n",
       "</style>\n",
       "<table border=\"1\" class=\"dataframe\">\n",
       "  <thead>\n",
       "    <tr style=\"text-align: right;\">\n",
       "      <th></th>\n",
       "      <th>score</th>\n",
       "    </tr>\n",
       "    <tr>\n",
       "      <th>number of experiments</th>\n",
       "      <th></th>\n",
       "    </tr>\n",
       "  </thead>\n",
       "  <tbody>\n",
       "    <tr>\n",
       "      <th>1</th>\n",
       "      <td>0.999985</td>\n",
       "    </tr>\n",
       "    <tr>\n",
       "      <th>2</th>\n",
       "      <td>0.913084</td>\n",
       "    </tr>\n",
       "    <tr>\n",
       "      <th>50</th>\n",
       "      <td>0.511703</td>\n",
       "    </tr>\n",
       "    <tr>\n",
       "      <th>100</th>\n",
       "      <td>0.765743</td>\n",
       "    </tr>\n",
       "  </tbody>\n",
       "</table>\n",
       "</div>"
      ],
      "text/plain": [
       "                          score\n",
       "number of experiments          \n",
       "1                      0.999985\n",
       "2                      0.913084\n",
       "50                     0.511703\n",
       "100                    0.765743"
      ]
     },
     "execution_count": 12,
     "metadata": {},
     "output_type": "execute_result"
    }
   ],
   "source": [
    "mean_scores"
   ]
  },
  {
   "cell_type": "code",
   "execution_count": 13,
   "metadata": {},
   "outputs": [],
   "source": [
    "# Pickle dataframe of mean scores scores for first run, interval\n",
    "mean_scores.to_pickle(similarity_uncorrected_file)\n",
    "ci.to_pickle(ci_uncorrected_file)\n",
    "np.save(similarity_permuted_file, permuted_score)"
   ]
  }
 ],
 "metadata": {
  "kernelspec": {
   "display_name": "Python [conda env:batch_effects]",
   "language": "python",
   "name": "conda-env-batch_effects-py"
  },
  "language_info": {
   "codemirror_mode": {
    "name": "ipython",
    "version": 3
   },
   "file_extension": ".py",
   "mimetype": "text/x-python",
   "name": "python",
   "nbconvert_exporter": "python",
   "pygments_lexer": "ipython3",
   "version": "3.5.5"
  }
 },
 "nbformat": 4,
 "nbformat_minor": 2
}
