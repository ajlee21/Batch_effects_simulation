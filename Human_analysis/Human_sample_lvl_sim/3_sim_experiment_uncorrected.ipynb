{
 "cells": [
  {
   "cell_type": "markdown",
   "metadata": {},
   "source": [
    "# Simulation experiment using noisy data\n",
    "\n",
    "Run entire simulation experiment multiple times to generate confidence interval.  The simulation experiment can be found in ```functions/pipeline.py```"
   ]
  },
  {
   "cell_type": "code",
   "execution_count": 1,
   "metadata": {},
   "outputs": [
    {
     "name": "stderr",
     "output_type": "stream",
     "text": [
      "Using TensorFlow backend.\n"
     ]
    }
   ],
   "source": [
    "%load_ext autoreload\n",
    "%autoreload 2\n",
    "\n",
    "from joblib import Parallel, delayed\n",
    "import multiprocessing\n",
    "import sys\n",
    "import os\n",
    "import pandas as pd\n",
    "import numpy as np\n",
    "\n",
    "import warnings\n",
    "warnings.filterwarnings(action='ignore')\n",
    "\n",
    "sys.path.append(\"../../\")\n",
    "from functions import pipelines\n",
    "\n",
    "from numpy.random import seed\n",
    "randomState = 123\n",
    "seed(randomState)"
   ]
  },
  {
   "cell_type": "code",
   "execution_count": 2,
   "metadata": {},
   "outputs": [],
   "source": [
    "# Parameters\n",
    "dataset_name = \"Human_analysis\"\n",
    "analysis_name = 'Human_sample_lvl_sim'\n",
    "NN_architecture = 'NN_2500_30'\n",
    "file_prefix = \"Experiment\"\n",
    "num_simulated_samples = 500\n",
    "lst_num_experiments = [1, 2, 5, 10, 20,\n",
    "                     50, 100, 250, 500]\n",
    "\n",
    "corrected = False\n",
    "use_pca = True\n",
    "num_PCs = 10\n",
    "\n",
    "iterations = range(5) \n",
    "num_cores = 5"
   ]
  },
  {
   "cell_type": "code",
   "execution_count": 3,
   "metadata": {},
   "outputs": [],
   "source": [
    "# Input file\n",
    "base_dir = os.path.abspath(\n",
    "      os.path.join(\n",
    "          os.getcwd(), \"../..\"))\n",
    "\n",
    "normalized_data_file = os.path.join(\n",
    "    base_dir,\n",
    "    dataset_name,    \n",
    "    \"data\",\n",
    "    \"input\",\n",
    "    \"recount2_gene_normalized_data.tsv.xz\")"
   ]
  },
  {
   "cell_type": "code",
   "execution_count": 4,
   "metadata": {},
   "outputs": [],
   "source": [
    "# Output files\n",
    "similarity_uncorrected_file = os.path.join(\n",
    "    base_dir,\n",
    "    \"results\",\n",
    "    \"saved_variables\",\n",
    "    \"Human_sample_lvl_sim_similarity_uncorrected.pickle\")\n",
    "\n",
    "ci_uncorrected_file = os.path.join(\n",
    "    base_dir,\n",
    "    \"results\",\n",
    "    \"saved_variables\",\n",
    "    \"Human_sample_lvl_sim_ci_uncorrected.pickle\")\n",
    "\n",
    "similarity_permuted_file = os.path.join(\n",
    "    base_dir,\n",
    "    \"results\",\n",
    "    \"saved_variables\",\n",
    "    \"Human_sample_lvl_sim_permuted\")"
   ]
  },
  {
   "cell_type": "code",
   "execution_count": 5,
   "metadata": {
    "scrolled": false
   },
   "outputs": [
    {
     "name": "stdout",
     "output_type": "stream",
     "text": [
      "[Parallel(n_jobs=5)]: Using backend LokyBackend with 5 concurrent workers.\n",
      "[Parallel(n_jobs=5)]: Done   1 tasks      | elapsed:  1.7min\n",
      "[Parallel(n_jobs=5)]: Done   2 out of   5 | elapsed:  1.7min remaining:  2.6min\n",
      "[Parallel(n_jobs=5)]: Done   3 out of   5 | elapsed:  1.7min remaining:  1.2min\n",
      "[Parallel(n_jobs=5)]: Done   5 out of   5 | elapsed:  1.8min remaining:    0.0s\n",
      "[Parallel(n_jobs=5)]: Done   5 out of   5 | elapsed:  1.8min finished\n"
     ]
    }
   ],
   "source": [
    "# Run multiple simulations - corrected\n",
    "results = Parallel(n_jobs=num_cores, verbose=100)(\n",
    "    delayed(\n",
    "        pipelines.sample_level_simulation_uncorrected)(i,\n",
    "                                                       NN_architecture,\n",
    "                                                       dataset_name,\n",
    "                                                       analysis_name,\n",
    "                                                       num_simulated_samples,\n",
    "                                                       lst_num_experiments,\n",
    "                                                       corrected,\n",
    "                                                       use_pca,\n",
    "                                                       num_PCs,\n",
    "                                                       file_prefix,\n",
    "                                                       normalized_data_file) for i in iterations)"
   ]
  },
  {
   "cell_type": "code",
   "execution_count": 6,
   "metadata": {},
   "outputs": [],
   "source": [
    "# permuted score\n",
    "permuted_score = results[0][0]"
   ]
  },
  {
   "cell_type": "code",
   "execution_count": 7,
   "metadata": {
    "scrolled": true
   },
   "outputs": [
    {
     "data": {
      "text/html": [
       "<div>\n",
       "<style scoped>\n",
       "    .dataframe tbody tr th:only-of-type {\n",
       "        vertical-align: middle;\n",
       "    }\n",
       "\n",
       "    .dataframe tbody tr th {\n",
       "        vertical-align: top;\n",
       "    }\n",
       "\n",
       "    .dataframe thead th {\n",
       "        text-align: right;\n",
       "    }\n",
       "</style>\n",
       "<table border=\"1\" class=\"dataframe\">\n",
       "  <thead>\n",
       "    <tr style=\"text-align: right;\">\n",
       "      <th></th>\n",
       "      <th>score</th>\n",
       "      <th>score</th>\n",
       "      <th>score</th>\n",
       "      <th>score</th>\n",
       "      <th>score</th>\n",
       "    </tr>\n",
       "    <tr>\n",
       "      <th>number of experiments</th>\n",
       "      <th></th>\n",
       "      <th></th>\n",
       "      <th></th>\n",
       "      <th></th>\n",
       "      <th></th>\n",
       "    </tr>\n",
       "  </thead>\n",
       "  <tbody>\n",
       "    <tr>\n",
       "      <th>1</th>\n",
       "      <td>0.999990</td>\n",
       "      <td>0.999995</td>\n",
       "      <td>0.999993</td>\n",
       "      <td>0.999983</td>\n",
       "      <td>0.999986</td>\n",
       "    </tr>\n",
       "    <tr>\n",
       "      <th>2</th>\n",
       "      <td>0.902519</td>\n",
       "      <td>0.948825</td>\n",
       "      <td>0.920047</td>\n",
       "      <td>0.987229</td>\n",
       "      <td>0.920472</td>\n",
       "    </tr>\n",
       "    <tr>\n",
       "      <th>10</th>\n",
       "      <td>0.664780</td>\n",
       "      <td>0.703740</td>\n",
       "      <td>0.723849</td>\n",
       "      <td>0.678883</td>\n",
       "      <td>0.620101</td>\n",
       "    </tr>\n",
       "    <tr>\n",
       "      <th>20</th>\n",
       "      <td>0.795800</td>\n",
       "      <td>0.817030</td>\n",
       "      <td>0.812186</td>\n",
       "      <td>0.783932</td>\n",
       "      <td>0.801150</td>\n",
       "    </tr>\n",
       "  </tbody>\n",
       "</table>\n",
       "</div>"
      ],
      "text/plain": [
       "                          score     score     score     score     score\n",
       "number of experiments                                                  \n",
       "1                      0.999990  0.999995  0.999993  0.999983  0.999986\n",
       "2                      0.902519  0.948825  0.920047  0.987229  0.920472\n",
       "10                     0.664780  0.703740  0.723849  0.678883  0.620101\n",
       "20                     0.795800  0.817030  0.812186  0.783932  0.801150"
      ]
     },
     "execution_count": 7,
     "metadata": {},
     "output_type": "execute_result"
    }
   ],
   "source": [
    "# Concatenate output dataframes\n",
    "all_svcca_scores = pd.DataFrame()\n",
    "\n",
    "for i in iterations:\n",
    "    all_svcca_scores = pd.concat([all_svcca_scores, results[i][1]], axis=1)\n",
    "\n",
    "all_svcca_scores"
   ]
  },
  {
   "cell_type": "code",
   "execution_count": 8,
   "metadata": {},
   "outputs": [
    {
     "data": {
      "text/html": [
       "<div>\n",
       "<style scoped>\n",
       "    .dataframe tbody tr th:only-of-type {\n",
       "        vertical-align: middle;\n",
       "    }\n",
       "\n",
       "    .dataframe tbody tr th {\n",
       "        vertical-align: top;\n",
       "    }\n",
       "\n",
       "    .dataframe thead th {\n",
       "        text-align: right;\n",
       "    }\n",
       "</style>\n",
       "<table border=\"1\" class=\"dataframe\">\n",
       "  <thead>\n",
       "    <tr style=\"text-align: right;\">\n",
       "      <th></th>\n",
       "      <th>score</th>\n",
       "    </tr>\n",
       "    <tr>\n",
       "      <th>number of experiments</th>\n",
       "      <th></th>\n",
       "    </tr>\n",
       "  </thead>\n",
       "  <tbody>\n",
       "    <tr>\n",
       "      <th>1</th>\n",
       "      <td>0.999989</td>\n",
       "    </tr>\n",
       "    <tr>\n",
       "      <th>2</th>\n",
       "      <td>0.935818</td>\n",
       "    </tr>\n",
       "    <tr>\n",
       "      <th>10</th>\n",
       "      <td>0.678270</td>\n",
       "    </tr>\n",
       "    <tr>\n",
       "      <th>20</th>\n",
       "      <td>0.802019</td>\n",
       "    </tr>\n",
       "  </tbody>\n",
       "</table>\n",
       "</div>"
      ],
      "text/plain": [
       "                          score\n",
       "number of experiments          \n",
       "1                      0.999989\n",
       "2                      0.935818\n",
       "10                     0.678270\n",
       "20                     0.802019"
      ]
     },
     "execution_count": 8,
     "metadata": {},
     "output_type": "execute_result"
    }
   ],
   "source": [
    "# Get median for each row (number of experiments)\n",
    "mean_scores = all_svcca_scores.mean(axis=1).to_frame()\n",
    "mean_scores.columns = ['score']\n",
    "mean_scores"
   ]
  },
  {
   "cell_type": "code",
   "execution_count": 9,
   "metadata": {},
   "outputs": [
    {
     "data": {
      "text/html": [
       "<div>\n",
       "<style scoped>\n",
       "    .dataframe tbody tr th:only-of-type {\n",
       "        vertical-align: middle;\n",
       "    }\n",
       "\n",
       "    .dataframe tbody tr th {\n",
       "        vertical-align: top;\n",
       "    }\n",
       "\n",
       "    .dataframe thead th {\n",
       "        text-align: right;\n",
       "    }\n",
       "</style>\n",
       "<table border=\"1\" class=\"dataframe\">\n",
       "  <thead>\n",
       "    <tr style=\"text-align: right;\">\n",
       "      <th></th>\n",
       "      <th>score</th>\n",
       "    </tr>\n",
       "    <tr>\n",
       "      <th>number of experiments</th>\n",
       "      <th></th>\n",
       "    </tr>\n",
       "  </thead>\n",
       "  <tbody>\n",
       "    <tr>\n",
       "      <th>1</th>\n",
       "      <td>0.000002</td>\n",
       "    </tr>\n",
       "    <tr>\n",
       "      <th>2</th>\n",
       "      <td>0.010494</td>\n",
       "    </tr>\n",
       "    <tr>\n",
       "      <th>10</th>\n",
       "      <td>0.012542</td>\n",
       "    </tr>\n",
       "    <tr>\n",
       "      <th>20</th>\n",
       "      <td>0.004169</td>\n",
       "    </tr>\n",
       "  </tbody>\n",
       "</table>\n",
       "</div>"
      ],
      "text/plain": [
       "                          score\n",
       "number of experiments          \n",
       "1                      0.000002\n",
       "2                      0.010494\n",
       "10                     0.012542\n",
       "20                     0.004169"
      ]
     },
     "execution_count": 9,
     "metadata": {},
     "output_type": "execute_result"
    }
   ],
   "source": [
    "# Get standard dev for each row (number of experiments)\n",
    "import math\n",
    "std_scores = (all_svcca_scores.std(axis=1)/math.sqrt(10)).to_frame()\n",
    "std_scores.columns = ['score']\n",
    "std_scores"
   ]
  },
  {
   "cell_type": "code",
   "execution_count": 10,
   "metadata": {},
   "outputs": [],
   "source": [
    "# Get confidence interval for each row (number of experiments)\n",
    "err = std_scores*1.96"
   ]
  },
  {
   "cell_type": "code",
   "execution_count": 11,
   "metadata": {},
   "outputs": [
    {
     "data": {
      "text/html": [
       "<div>\n",
       "<style scoped>\n",
       "    .dataframe tbody tr th:only-of-type {\n",
       "        vertical-align: middle;\n",
       "    }\n",
       "\n",
       "    .dataframe tbody tr th {\n",
       "        vertical-align: top;\n",
       "    }\n",
       "\n",
       "    .dataframe thead th {\n",
       "        text-align: right;\n",
       "    }\n",
       "</style>\n",
       "<table border=\"1\" class=\"dataframe\">\n",
       "  <thead>\n",
       "    <tr style=\"text-align: right;\">\n",
       "      <th></th>\n",
       "      <th>ymin</th>\n",
       "      <th>ymax</th>\n",
       "    </tr>\n",
       "    <tr>\n",
       "      <th>number of experiments</th>\n",
       "      <th></th>\n",
       "      <th></th>\n",
       "    </tr>\n",
       "  </thead>\n",
       "  <tbody>\n",
       "    <tr>\n",
       "      <th>1</th>\n",
       "      <td>0.999986</td>\n",
       "      <td>0.999992</td>\n",
       "    </tr>\n",
       "    <tr>\n",
       "      <th>2</th>\n",
       "      <td>0.915250</td>\n",
       "      <td>0.956387</td>\n",
       "    </tr>\n",
       "    <tr>\n",
       "      <th>10</th>\n",
       "      <td>0.653688</td>\n",
       "      <td>0.702853</td>\n",
       "    </tr>\n",
       "    <tr>\n",
       "      <th>20</th>\n",
       "      <td>0.793848</td>\n",
       "      <td>0.810191</td>\n",
       "    </tr>\n",
       "  </tbody>\n",
       "</table>\n",
       "</div>"
      ],
      "text/plain": [
       "                           ymin      ymax\n",
       "number of experiments                    \n",
       "1                      0.999986  0.999992\n",
       "2                      0.915250  0.956387\n",
       "10                     0.653688  0.702853\n",
       "20                     0.793848  0.810191"
      ]
     },
     "execution_count": 11,
     "metadata": {},
     "output_type": "execute_result"
    }
   ],
   "source": [
    "# Get boundaries of confidence interval\n",
    "ymax = mean_scores + err\n",
    "ymin = mean_scores - err\n",
    "\n",
    "ci = pd.concat([ymin, ymax], axis=1)\n",
    "ci.columns = ['ymin', 'ymax']\n",
    "ci"
   ]
  },
  {
   "cell_type": "code",
   "execution_count": 12,
   "metadata": {},
   "outputs": [
    {
     "data": {
      "text/html": [
       "<div>\n",
       "<style scoped>\n",
       "    .dataframe tbody tr th:only-of-type {\n",
       "        vertical-align: middle;\n",
       "    }\n",
       "\n",
       "    .dataframe tbody tr th {\n",
       "        vertical-align: top;\n",
       "    }\n",
       "\n",
       "    .dataframe thead th {\n",
       "        text-align: right;\n",
       "    }\n",
       "</style>\n",
       "<table border=\"1\" class=\"dataframe\">\n",
       "  <thead>\n",
       "    <tr style=\"text-align: right;\">\n",
       "      <th></th>\n",
       "      <th>score</th>\n",
       "    </tr>\n",
       "    <tr>\n",
       "      <th>number of experiments</th>\n",
       "      <th></th>\n",
       "    </tr>\n",
       "  </thead>\n",
       "  <tbody>\n",
       "    <tr>\n",
       "      <th>1</th>\n",
       "      <td>0.999989</td>\n",
       "    </tr>\n",
       "    <tr>\n",
       "      <th>2</th>\n",
       "      <td>0.935818</td>\n",
       "    </tr>\n",
       "    <tr>\n",
       "      <th>10</th>\n",
       "      <td>0.678270</td>\n",
       "    </tr>\n",
       "    <tr>\n",
       "      <th>20</th>\n",
       "      <td>0.802019</td>\n",
       "    </tr>\n",
       "  </tbody>\n",
       "</table>\n",
       "</div>"
      ],
      "text/plain": [
       "                          score\n",
       "number of experiments          \n",
       "1                      0.999989\n",
       "2                      0.935818\n",
       "10                     0.678270\n",
       "20                     0.802019"
      ]
     },
     "execution_count": 12,
     "metadata": {},
     "output_type": "execute_result"
    }
   ],
   "source": [
    "mean_scores"
   ]
  },
  {
   "cell_type": "code",
   "execution_count": 13,
   "metadata": {},
   "outputs": [],
   "source": [
    "# Pickle dataframe of mean scores scores for first run, interval\n",
    "mean_scores.to_pickle(similarity_uncorrected_file)\n",
    "ci.to_pickle(ci_uncorrected_file)\n",
    "np.save(similarity_permuted_file, permuted_score)"
   ]
  }
 ],
 "metadata": {
  "kernelspec": {
   "display_name": "Python [conda env:batch_effects]",
   "language": "python",
   "name": "conda-env-batch_effects-py"
  },
  "language_info": {
   "codemirror_mode": {
    "name": "ipython",
    "version": 3
   },
   "file_extension": ".py",
   "mimetype": "text/x-python",
   "name": "python",
   "nbconvert_exporter": "python",
   "pygments_lexer": "ipython3",
   "version": "3.5.5"
  }
 },
 "nbformat": 4,
 "nbformat_minor": 2
}
