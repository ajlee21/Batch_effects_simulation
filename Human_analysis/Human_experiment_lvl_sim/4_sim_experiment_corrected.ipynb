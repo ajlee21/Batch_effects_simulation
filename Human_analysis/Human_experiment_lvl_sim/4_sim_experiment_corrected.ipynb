{
 "cells": [
  {
   "cell_type": "markdown",
   "metadata": {},
   "source": [
    "# Simulation experiment using noise-corrected data\n",
    "\n",
    "Run entire simulation experiment multiple times to generate confidence interval"
   ]
  },
  {
   "cell_type": "code",
   "execution_count": 1,
   "metadata": {},
   "outputs": [
    {
     "name": "stderr",
     "output_type": "stream",
     "text": [
      "Using TensorFlow backend.\n"
     ]
    }
   ],
   "source": [
    "%load_ext autoreload\n",
    "%autoreload 2\n",
    "\n",
    "from joblib import Parallel, delayed\n",
    "import multiprocessing\n",
    "import sys\n",
    "import os\n",
    "import pandas as pd\n",
    "\n",
    "import warnings\n",
    "warnings.filterwarnings(action='ignore')\n",
    "\n",
    "sys.path.append(\"../../\")\n",
    "from functions import pipelines\n",
    "\n",
    "from numpy.random import seed\n",
    "randomState = 123\n",
    "seed(randomState)"
   ]
  },
  {
   "cell_type": "code",
   "execution_count": 2,
   "metadata": {},
   "outputs": [],
   "source": [
    "# Parameters\n",
    "dataset_name = \"Human_analysis\"\n",
    "analysis_name = 'Human_experiment_lvl_sim'\n",
    "NN_architecture = 'NN_2500_30'\n",
    "file_prefix = 'Partition_corrected'\n",
    "num_simulated_experiments = 50\n",
    "lst_num_partitions = [1, 2, 3, 5, 10, 20,\n",
    "                    30, 50]\n",
    "\n",
    "corrected = True\n",
    "use_pca = True\n",
    "num_PCs = 10\n",
    "\n",
    "iterations = range(5) \n",
    "num_cores = 5"
   ]
  },
  {
   "cell_type": "code",
   "execution_count": 3,
   "metadata": {},
   "outputs": [],
   "source": [
    "# Input files\n",
    "base_dir = os.path.abspath(\n",
    "  os.path.join(\n",
    "      os.getcwd(), \"../..\"))    # base dir on repo\n",
    "\n",
    "normalized_data_file = os.path.join(\n",
    "    base_dir,\n",
    "    dataset_name,\n",
    "    \"data\",\n",
    "    \"input\",\n",
    "    \"recount2_gene_normalized_data.tsv.xz\")\n",
    "\n",
    "experiment_ids_file = os.path.join(\n",
    "    base_dir,\n",
    "    dataset_name,\n",
    "    \"data\",\n",
    "    \"metadata\",\n",
    "    \"recount2_experiment_ids.txt\")"
   ]
  },
  {
   "cell_type": "code",
   "execution_count": 4,
   "metadata": {},
   "outputs": [],
   "source": [
    "# Output files\n",
    "similarity_corrected_file = os.path.join(\n",
    "    base_dir,\n",
    "    \"results\",\n",
    "    \"saved_variables\",\n",
    "    \"Human_experiment_lvl_sim_similarity_corrected.pickle\")\n",
    "\n",
    "ci_corrected_file = os.path.join(\n",
    "    base_dir,\n",
    "    \"results\",\n",
    "    \"saved_variables\",\n",
    "    \"Human_experiment_lvl_sim_ci_corrected.pickle\")"
   ]
  },
  {
   "cell_type": "code",
   "execution_count": 5,
   "metadata": {
    "scrolled": false
   },
   "outputs": [
    {
     "name": "stdout",
     "output_type": "stream",
     "text": [
      "[Parallel(n_jobs=5)]: Using backend LokyBackend with 5 concurrent workers.\n",
      "[Parallel(n_jobs=5)]: Done   1 tasks      | elapsed: 27.4min\n",
      "[Parallel(n_jobs=5)]: Done   2 out of   5 | elapsed: 38.8min remaining: 58.2min\n",
      "[Parallel(n_jobs=5)]: Done   3 out of   5 | elapsed: 46.8min remaining: 31.2min\n",
      "[Parallel(n_jobs=5)]: Done   5 out of   5 | elapsed: 49.0min remaining:    0.0s\n",
      "[Parallel(n_jobs=5)]: Done   5 out of   5 | elapsed: 49.0min finished\n"
     ]
    }
   ],
   "source": [
    "# Run multiple simulations - corrected\n",
    "results = Parallel(n_jobs=num_cores, verbose=100)(\n",
    "    delayed(\n",
    "        pipelines.experiment_level_simulation_corrected)(i,\n",
    "                                                         NN_architecture,\n",
    "                                                         dataset_name,\n",
    "                                                         analysis_name,\n",
    "                                                         num_simulated_experiments,\n",
    "                                                         lst_num_partitions,\n",
    "                                                         corrected,\n",
    "                                                         use_pca,\n",
    "                                                         num_PCs,\n",
    "                                                         file_prefix,\n",
    "                                                         normalized_data_file,\n",
    "                                                         experiment_ids_file) for i in iterations)"
   ]
  },
  {
   "cell_type": "code",
   "execution_count": 6,
   "metadata": {
    "scrolled": true
   },
   "outputs": [
    {
     "data": {
      "text/html": [
       "<div>\n",
       "<style scoped>\n",
       "    .dataframe tbody tr th:only-of-type {\n",
       "        vertical-align: middle;\n",
       "    }\n",
       "\n",
       "    .dataframe tbody tr th {\n",
       "        vertical-align: top;\n",
       "    }\n",
       "\n",
       "    .dataframe thead th {\n",
       "        text-align: right;\n",
       "    }\n",
       "</style>\n",
       "<table border=\"1\" class=\"dataframe\">\n",
       "  <thead>\n",
       "    <tr style=\"text-align: right;\">\n",
       "      <th></th>\n",
       "      <th>score</th>\n",
       "      <th>score</th>\n",
       "      <th>score</th>\n",
       "      <th>score</th>\n",
       "      <th>score</th>\n",
       "    </tr>\n",
       "    <tr>\n",
       "      <th>number of partitions</th>\n",
       "      <th></th>\n",
       "      <th></th>\n",
       "      <th></th>\n",
       "      <th></th>\n",
       "      <th></th>\n",
       "    </tr>\n",
       "  </thead>\n",
       "  <tbody>\n",
       "    <tr>\n",
       "      <th>1</th>\n",
       "      <td>0.999940</td>\n",
       "      <td>0.999961</td>\n",
       "      <td>0.999982</td>\n",
       "      <td>0.999975</td>\n",
       "      <td>0.999974</td>\n",
       "    </tr>\n",
       "    <tr>\n",
       "      <th>2</th>\n",
       "      <td>0.953867</td>\n",
       "      <td>0.938211</td>\n",
       "      <td>0.960579</td>\n",
       "      <td>0.974499</td>\n",
       "      <td>0.942309</td>\n",
       "    </tr>\n",
       "    <tr>\n",
       "      <th>10</th>\n",
       "      <td>0.578971</td>\n",
       "      <td>0.705824</td>\n",
       "      <td>0.749049</td>\n",
       "      <td>0.697451</td>\n",
       "      <td>0.698681</td>\n",
       "    </tr>\n",
       "    <tr>\n",
       "      <th>20</th>\n",
       "      <td>0.297896</td>\n",
       "      <td>0.433579</td>\n",
       "      <td>0.491986</td>\n",
       "      <td>0.331867</td>\n",
       "      <td>0.440585</td>\n",
       "    </tr>\n",
       "  </tbody>\n",
       "</table>\n",
       "</div>"
      ],
      "text/plain": [
       "                         score     score     score     score     score\n",
       "number of partitions                                                  \n",
       "1                     0.999940  0.999961  0.999982  0.999975  0.999974\n",
       "2                     0.953867  0.938211  0.960579  0.974499  0.942309\n",
       "10                    0.578971  0.705824  0.749049  0.697451  0.698681\n",
       "20                    0.297896  0.433579  0.491986  0.331867  0.440585"
      ]
     },
     "execution_count": 6,
     "metadata": {},
     "output_type": "execute_result"
    }
   ],
   "source": [
    "# Concatenate output dataframes\n",
    "all_svcca_scores = pd.DataFrame()\n",
    "\n",
    "for i in iterations:\n",
    "    all_svcca_scores = pd.concat([all_svcca_scores, results[i][1]], axis=1)\n",
    "\n",
    "all_svcca_scores"
   ]
  },
  {
   "cell_type": "code",
   "execution_count": 7,
   "metadata": {},
   "outputs": [
    {
     "data": {
      "text/html": [
       "<div>\n",
       "<style scoped>\n",
       "    .dataframe tbody tr th:only-of-type {\n",
       "        vertical-align: middle;\n",
       "    }\n",
       "\n",
       "    .dataframe tbody tr th {\n",
       "        vertical-align: top;\n",
       "    }\n",
       "\n",
       "    .dataframe thead th {\n",
       "        text-align: right;\n",
       "    }\n",
       "</style>\n",
       "<table border=\"1\" class=\"dataframe\">\n",
       "  <thead>\n",
       "    <tr style=\"text-align: right;\">\n",
       "      <th></th>\n",
       "      <th>score</th>\n",
       "    </tr>\n",
       "    <tr>\n",
       "      <th>number of partitions</th>\n",
       "      <th></th>\n",
       "    </tr>\n",
       "  </thead>\n",
       "  <tbody>\n",
       "    <tr>\n",
       "      <th>1</th>\n",
       "      <td>0.999966</td>\n",
       "    </tr>\n",
       "    <tr>\n",
       "      <th>2</th>\n",
       "      <td>0.953893</td>\n",
       "    </tr>\n",
       "    <tr>\n",
       "      <th>10</th>\n",
       "      <td>0.685995</td>\n",
       "    </tr>\n",
       "    <tr>\n",
       "      <th>20</th>\n",
       "      <td>0.399182</td>\n",
       "    </tr>\n",
       "  </tbody>\n",
       "</table>\n",
       "</div>"
      ],
      "text/plain": [
       "                         score\n",
       "number of partitions          \n",
       "1                     0.999966\n",
       "2                     0.953893\n",
       "10                    0.685995\n",
       "20                    0.399182"
      ]
     },
     "execution_count": 7,
     "metadata": {},
     "output_type": "execute_result"
    }
   ],
   "source": [
    "# Get median for each row (number of experiments)\n",
    "mean_scores = all_svcca_scores.mean(axis=1).to_frame()\n",
    "mean_scores.columns = ['score']\n",
    "mean_scores"
   ]
  },
  {
   "cell_type": "code",
   "execution_count": 8,
   "metadata": {},
   "outputs": [
    {
     "data": {
      "text/html": [
       "<div>\n",
       "<style scoped>\n",
       "    .dataframe tbody tr th:only-of-type {\n",
       "        vertical-align: middle;\n",
       "    }\n",
       "\n",
       "    .dataframe tbody tr th {\n",
       "        vertical-align: top;\n",
       "    }\n",
       "\n",
       "    .dataframe thead th {\n",
       "        text-align: right;\n",
       "    }\n",
       "</style>\n",
       "<table border=\"1\" class=\"dataframe\">\n",
       "  <thead>\n",
       "    <tr style=\"text-align: right;\">\n",
       "      <th></th>\n",
       "      <th>score</th>\n",
       "    </tr>\n",
       "    <tr>\n",
       "      <th>number of partitions</th>\n",
       "      <th></th>\n",
       "    </tr>\n",
       "  </thead>\n",
       "  <tbody>\n",
       "    <tr>\n",
       "      <th>1</th>\n",
       "      <td>0.000005</td>\n",
       "    </tr>\n",
       "    <tr>\n",
       "      <th>2</th>\n",
       "      <td>0.004608</td>\n",
       "    </tr>\n",
       "    <tr>\n",
       "      <th>10</th>\n",
       "      <td>0.020072</td>\n",
       "    </tr>\n",
       "    <tr>\n",
       "      <th>20</th>\n",
       "      <td>0.025642</td>\n",
       "    </tr>\n",
       "  </tbody>\n",
       "</table>\n",
       "</div>"
      ],
      "text/plain": [
       "                         score\n",
       "number of partitions          \n",
       "1                     0.000005\n",
       "2                     0.004608\n",
       "10                    0.020072\n",
       "20                    0.025642"
      ]
     },
     "execution_count": 8,
     "metadata": {},
     "output_type": "execute_result"
    }
   ],
   "source": [
    "# Get standard dev for each row (number of experiments)\n",
    "import math\n",
    "std_scores = (all_svcca_scores.std(axis=1)/math.sqrt(10)).to_frame()\n",
    "std_scores.columns = ['score']\n",
    "std_scores"
   ]
  },
  {
   "cell_type": "code",
   "execution_count": 9,
   "metadata": {},
   "outputs": [],
   "source": [
    "# Get confidence interval for each row (number of experiments)\n",
    "err = std_scores*1.96"
   ]
  },
  {
   "cell_type": "code",
   "execution_count": 10,
   "metadata": {},
   "outputs": [
    {
     "data": {
      "text/html": [
       "<div>\n",
       "<style scoped>\n",
       "    .dataframe tbody tr th:only-of-type {\n",
       "        vertical-align: middle;\n",
       "    }\n",
       "\n",
       "    .dataframe tbody tr th {\n",
       "        vertical-align: top;\n",
       "    }\n",
       "\n",
       "    .dataframe thead th {\n",
       "        text-align: right;\n",
       "    }\n",
       "</style>\n",
       "<table border=\"1\" class=\"dataframe\">\n",
       "  <thead>\n",
       "    <tr style=\"text-align: right;\">\n",
       "      <th></th>\n",
       "      <th>ymin</th>\n",
       "      <th>ymax</th>\n",
       "    </tr>\n",
       "    <tr>\n",
       "      <th>number of partitions</th>\n",
       "      <th></th>\n",
       "      <th></th>\n",
       "    </tr>\n",
       "  </thead>\n",
       "  <tbody>\n",
       "    <tr>\n",
       "      <th>1</th>\n",
       "      <td>0.999956</td>\n",
       "      <td>0.999977</td>\n",
       "    </tr>\n",
       "    <tr>\n",
       "      <th>2</th>\n",
       "      <td>0.944861</td>\n",
       "      <td>0.962925</td>\n",
       "    </tr>\n",
       "    <tr>\n",
       "      <th>10</th>\n",
       "      <td>0.646654</td>\n",
       "      <td>0.725336</td>\n",
       "    </tr>\n",
       "    <tr>\n",
       "      <th>20</th>\n",
       "      <td>0.348924</td>\n",
       "      <td>0.449440</td>\n",
       "    </tr>\n",
       "  </tbody>\n",
       "</table>\n",
       "</div>"
      ],
      "text/plain": [
       "                          ymin      ymax\n",
       "number of partitions                    \n",
       "1                     0.999956  0.999977\n",
       "2                     0.944861  0.962925\n",
       "10                    0.646654  0.725336\n",
       "20                    0.348924  0.449440"
      ]
     },
     "execution_count": 10,
     "metadata": {},
     "output_type": "execute_result"
    }
   ],
   "source": [
    "# Get boundaries of confidence interval\n",
    "ymax = mean_scores + err\n",
    "ymin = mean_scores - err\n",
    "\n",
    "ci = pd.concat([ymin, ymax], axis=1)\n",
    "ci.columns = ['ymin', 'ymax']\n",
    "ci"
   ]
  },
  {
   "cell_type": "code",
   "execution_count": 11,
   "metadata": {},
   "outputs": [
    {
     "data": {
      "text/html": [
       "<div>\n",
       "<style scoped>\n",
       "    .dataframe tbody tr th:only-of-type {\n",
       "        vertical-align: middle;\n",
       "    }\n",
       "\n",
       "    .dataframe tbody tr th {\n",
       "        vertical-align: top;\n",
       "    }\n",
       "\n",
       "    .dataframe thead th {\n",
       "        text-align: right;\n",
       "    }\n",
       "</style>\n",
       "<table border=\"1\" class=\"dataframe\">\n",
       "  <thead>\n",
       "    <tr style=\"text-align: right;\">\n",
       "      <th></th>\n",
       "      <th>score</th>\n",
       "    </tr>\n",
       "    <tr>\n",
       "      <th>number of partitions</th>\n",
       "      <th></th>\n",
       "    </tr>\n",
       "  </thead>\n",
       "  <tbody>\n",
       "    <tr>\n",
       "      <th>1</th>\n",
       "      <td>0.999966</td>\n",
       "    </tr>\n",
       "    <tr>\n",
       "      <th>2</th>\n",
       "      <td>0.953893</td>\n",
       "    </tr>\n",
       "    <tr>\n",
       "      <th>10</th>\n",
       "      <td>0.685995</td>\n",
       "    </tr>\n",
       "    <tr>\n",
       "      <th>20</th>\n",
       "      <td>0.399182</td>\n",
       "    </tr>\n",
       "  </tbody>\n",
       "</table>\n",
       "</div>"
      ],
      "text/plain": [
       "                         score\n",
       "number of partitions          \n",
       "1                     0.999966\n",
       "2                     0.953893\n",
       "10                    0.685995\n",
       "20                    0.399182"
      ]
     },
     "execution_count": 11,
     "metadata": {},
     "output_type": "execute_result"
    }
   ],
   "source": [
    "mean_scores"
   ]
  },
  {
   "cell_type": "code",
   "execution_count": 12,
   "metadata": {},
   "outputs": [],
   "source": [
    "# Pickle dataframe of mean scores scores for first run, interval\n",
    "mean_scores.to_pickle(similarity_corrected_file)\n",
    "ci.to_pickle(ci_corrected_file)"
   ]
  }
 ],
 "metadata": {
  "kernelspec": {
   "display_name": "Python [conda env:batch_effects]",
   "language": "python",
   "name": "conda-env-batch_effects-py"
  },
  "language_info": {
   "codemirror_mode": {
    "name": "ipython",
    "version": 3
   },
   "file_extension": ".py",
   "mimetype": "text/x-python",
   "name": "python",
   "nbconvert_exporter": "python",
   "pygments_lexer": "ipython3",
   "version": "3.5.5"
  }
 },
 "nbformat": 4,
 "nbformat_minor": 2
}
