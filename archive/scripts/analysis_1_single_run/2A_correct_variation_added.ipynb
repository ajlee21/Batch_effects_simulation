{
 "cells": [
  {
   "cell_type": "markdown",
   "metadata": {},
   "source": [
    "# Correct for the technical variation added\n",
    "\n",
    "The goal of this notebook is to try to correct for the technical variation that was added by each experiment\n",
    "\n",
    "The approach is to,\n",
    "1. Import the simulated data representing varying experiments\n",
    "2. Use [removeBatchEffect](https://rdrr.io/bioc/limma/man/removeBatchEffect.html) package from the limma library in R.\n",
    "3. Calculate the similarity between the dataset with a single experiment and the dataset corrected for the variation introduced by having some number of experiments added."
   ]
  },
  {
   "cell_type": "code",
   "execution_count": 21,
   "metadata": {},
   "outputs": [
    {
     "name": "stdout",
     "output_type": "stream",
     "text": [
      "The autoreload extension is already loaded. To reload it, use:\n",
      "  %reload_ext autoreload\n",
      "The rpy2.ipython extension is already loaded. To reload it, use:\n",
      "  %reload_ext rpy2.ipython\n"
     ]
    }
   ],
   "source": [
    "%load_ext autoreload\n",
    "%autoreload 2\n",
    "%load_ext rpy2.ipython\n",
    "\n",
    "import rpy2\n",
    "from rpy2.robjects.packages import importr\n",
    "from rpy2.robjects import pandas2ri\n",
    "limma = importr('limma')\n",
    "\n",
    "import os\n",
    "import sys\n",
    "import glob\n",
    "import pandas as pd\n",
    "import numpy as np\n",
    "from plotnine import (ggplot, \n",
    "                      labs,  \n",
    "                      geom_line, \n",
    "                      aes, \n",
    "                      ggsave, \n",
    "                      theme_bw,\n",
    "                      theme,\n",
    "                      element_text,\n",
    "                      element_rect,\n",
    "                      element_line)\n",
    "import warnings\n",
    "warnings.filterwarnings(action='ignore')\n",
    "\n",
    "sys.path.append(\"../\")\n",
    "from functions import generate_data\n",
    "from functions import similarity_metric\n",
    "\n",
    "from numpy.random import seed\n",
    "randomState = 123\n",
    "seed(randomState)"
   ]
  },
  {
   "cell_type": "code",
   "execution_count": 2,
   "metadata": {},
   "outputs": [],
   "source": [
    "%%R\n",
    "# Run once to install needed R packages\n",
    "#install.packages(c(\"devtools\"))\n",
    "#source(\"http://www.bioconductor.org/biocLite.R\")\n",
    "#biocLite(c(\"limma\"))\n",
    "library(limma)"
   ]
  },
  {
   "cell_type": "code",
   "execution_count": 3,
   "metadata": {},
   "outputs": [],
   "source": [
    "# User parameters\n",
    "NN_architecture = 'NN_2500_30'\n",
    "analysis_name = 'analysis_1'\n",
    "lst_num_partitions =[1,2,3,5,10,20,30,50,70,100,200,300,400,500,600]\n",
    "use_pca = True\n",
    "num_PCs = 10"
   ]
  },
  {
   "cell_type": "code",
   "execution_count": 4,
   "metadata": {},
   "outputs": [],
   "source": [
    "# Input files\n",
    "base_dir = os.path.abspath(os.path.join(os.getcwd(),\"../..\"))    # base dir on repo\n",
    "local_dir = \"/home/alexandra/Documents/\"                         # base dir on local machine for data storage\n",
    "\n",
    "# Simulated data file \n",
    "simulated_data_file = os.path.join(\n",
    "    local_dir,\n",
    "    \"Data\",\n",
    "    \"Batch_effects\",\n",
    "    \"simulated\",\n",
    "    analysis_name,\n",
    "    \"simulated_data.txt.xz\")"
   ]
  },
  {
   "cell_type": "code",
   "execution_count": 25,
   "metadata": {},
   "outputs": [],
   "source": [
    "# Output file\n",
    "svcca_file = os.path.join(\n",
    "    local_dir,\n",
    "    \"Data\",\n",
    "    \"Batch_effects\",\n",
    "    \"output\",\n",
    "    \"analysis_1_svcca_correction.png\")\n",
    "\n",
    "svcca_blk_file = os.path.join(\n",
    "    local_dir,\n",
    "    \"Data\",\n",
    "    \"Batch_effects\",\n",
    "    \"output\",\n",
    "    \"analysis_1_svcca_correction_blk.png\")\n",
    "\n",
    "similarity_corrected_file = os.path.join(\n",
    "    local_dir,\n",
    "    \"Data\",\n",
    "    \"Batch_effects\",\n",
    "    \"output\",\n",
    "    \"analysis_1_similarity_corrected.pickle\")"
   ]
  },
  {
   "cell_type": "markdown",
   "metadata": {},
   "source": [
    "### Correct for added variation"
   ]
  },
  {
   "cell_type": "code",
   "execution_count": 6,
   "metadata": {},
   "outputs": [
    {
     "name": "stdout",
     "output_type": "stream",
     "text": [
      "Correcting for 1 partitions..\n",
      "Correcting for 2 partitions..\n",
      "Correcting for 3 partitions..\n",
      "Correcting for 5 partitions..\n",
      "Correcting for 10 partitions..\n",
      "Correcting for 20 partitions..\n",
      "Correcting for 30 partitions..\n",
      "Correcting for 50 partitions..\n",
      "Correcting for 70 partitions..\n",
      "Correcting for 100 partitions..\n",
      "Correcting for 200 partitions..\n",
      "Correcting for 300 partitions..\n",
      "Correcting for 400 partitions..\n",
      "Correcting for 500 partitions..\n",
      "Correcting for 600 partitions..\n"
     ]
    }
   ],
   "source": [
    "for i in lst_num_partitions:\n",
    "    print('Correcting for {} partitions..'.format(i))\n",
    "\n",
    "    # Simulated data with technical variation from partitions added\n",
    "    partition_file = os.path.join(\n",
    "        local_dir,\n",
    "        \"Data\",\n",
    "        \"Batch_effects\",\n",
    "        \"partition_simulated\",\n",
    "        analysis_name,\n",
    "        \"Partition_\" + str(i) + \".txt.xz\")\n",
    "    \n",
    "    # Read in data\n",
    "    # data transposed to form gene x sample for R package\n",
    "    partition_data = pd.read_table(\n",
    "        partition_file,\n",
    "        header=0,\n",
    "        index_col=0,\n",
    "        sep='\\t').T\n",
    "    \n",
    "    # Read in partition id mapping\n",
    "    partition_map_file = os.path.join(\n",
    "        local_dir,\n",
    "        \"Data\",\n",
    "        \"Batch_effects\",\n",
    "        \"partition_simulated\",\n",
    "        analysis_name,\n",
    "        \"Partition_map_\" + str(i) + \".txt.xz\")\n",
    "    \n",
    "    # Read in map\n",
    "    partition_map = pd.read_table(\n",
    "        partition_map_file,\n",
    "        header=0,\n",
    "        index_col=0,\n",
    "        sep='\\t')['partition']\n",
    "    \n",
    "    if i == 1:\n",
    "        corrected_partition_data_df = partition_data.copy()\n",
    "    \n",
    "    else:    \n",
    "        # Correct for technical variation\n",
    "        corrected_partition_data = limma.removeBatchEffect(partition_data, batch=partition_map)\n",
    "\n",
    "        # Convert R object to pandas df\n",
    "        corrected_partition_data_df = pandas2ri.ri2py_dataframe(corrected_partition_data)\n",
    "        \n",
    "        # Rename columns to be consistent with dataframe before correction\n",
    "        corrected_partition_data_df.index = partition_data.index\n",
    "    \n",
    "    # Write out corrected files\n",
    "    partition_corrected_file = os.path.join(\n",
    "        local_dir,\n",
    "        \"Data\",\n",
    "        \"Batch_effects\",\n",
    "        \"partition_simulated\",\n",
    "        analysis_name,\n",
    "        \"Partition_corrected_\" + str(i) + \".txt.xz\")\n",
    "    \n",
    "    corrected_partition_data_df.to_csv(\n",
    "        partition_corrected_file, float_format='%.3f', sep='\\t', compression='xz')"
   ]
  },
  {
   "cell_type": "markdown",
   "metadata": {},
   "source": [
    "### Calculate similarity"
   ]
  },
  {
   "cell_type": "code",
   "execution_count": 7,
   "metadata": {},
   "outputs": [],
   "source": [
    "# Permuted simulated data file \n",
    "permuted_simulated_data_file = os.path.join(\n",
    "    local_dir,\n",
    "    \"Data\",\n",
    "    \"Batch_effects\",\n",
    "    \"simulated\",\n",
    "    analysis_name,\n",
    "    \"permuted_simulated_data.txt.xz\")"
   ]
  },
  {
   "cell_type": "code",
   "execution_count": 8,
   "metadata": {},
   "outputs": [
    {
     "name": "stdout",
     "output_type": "stream",
     "text": [
      "Calculating SVCCA score for 1 partition vs 1 partitions..\n",
      "Calculating SVCCA score for 1 partition vs 2 partitions..\n",
      "Calculating SVCCA score for 1 partition vs 3 partitions..\n",
      "Calculating SVCCA score for 1 partition vs 5 partitions..\n",
      "Calculating SVCCA score for 1 partition vs 10 partitions..\n",
      "Calculating SVCCA score for 1 partition vs 20 partitions..\n",
      "Calculating SVCCA score for 1 partition vs 30 partitions..\n",
      "Calculating SVCCA score for 1 partition vs 50 partitions..\n",
      "Calculating SVCCA score for 1 partition vs 70 partitions..\n",
      "Calculating SVCCA score for 1 partition vs 100 partitions..\n",
      "Calculating SVCCA score for 1 partition vs 200 partitions..\n",
      "Calculating SVCCA score for 1 partition vs 300 partitions..\n",
      "Calculating SVCCA score for 1 partition vs 400 partitions..\n",
      "Calculating SVCCA score for 1 partition vs 500 partitions..\n",
      "Calculating SVCCA score for 1 partition vs 600 partitions..\n"
     ]
    }
   ],
   "source": [
    "# Calculate similarity\n",
    "similarity_scores, permuted_score = similarity_metric.sim_svcca(simulated_data_file,\n",
    "                                                           permuted_simulated_data_file,\n",
    "                                                           \"Partition_corrected\",\n",
    "                                                           lst_num_partitions,\n",
    "                                                           use_pca,\n",
    "                                                           num_PCs,\n",
    "                                                           local_dir,\n",
    "                                                           analysis_name)"
   ]
  },
  {
   "cell_type": "code",
   "execution_count": 9,
   "metadata": {},
   "outputs": [
    {
     "data": {
      "text/html": [
       "<div>\n",
       "<style scoped>\n",
       "    .dataframe tbody tr th:only-of-type {\n",
       "        vertical-align: middle;\n",
       "    }\n",
       "\n",
       "    .dataframe tbody tr th {\n",
       "        vertical-align: top;\n",
       "    }\n",
       "\n",
       "    .dataframe thead th {\n",
       "        text-align: right;\n",
       "    }\n",
       "</style>\n",
       "<table border=\"1\" class=\"dataframe\">\n",
       "  <thead>\n",
       "    <tr style=\"text-align: right;\">\n",
       "      <th></th>\n",
       "      <th>score</th>\n",
       "    </tr>\n",
       "    <tr>\n",
       "      <th>number of partitions</th>\n",
       "      <th></th>\n",
       "    </tr>\n",
       "  </thead>\n",
       "  <tbody>\n",
       "    <tr>\n",
       "      <th>1</th>\n",
       "      <td>0.999994</td>\n",
       "    </tr>\n",
       "    <tr>\n",
       "      <th>2</th>\n",
       "      <td>0.998682</td>\n",
       "    </tr>\n",
       "    <tr>\n",
       "      <th>3</th>\n",
       "      <td>0.996184</td>\n",
       "    </tr>\n",
       "    <tr>\n",
       "      <th>5</th>\n",
       "      <td>0.995955</td>\n",
       "    </tr>\n",
       "    <tr>\n",
       "      <th>10</th>\n",
       "      <td>0.985756</td>\n",
       "    </tr>\n",
       "    <tr>\n",
       "      <th>20</th>\n",
       "      <td>0.975576</td>\n",
       "    </tr>\n",
       "    <tr>\n",
       "      <th>30</th>\n",
       "      <td>0.951873</td>\n",
       "    </tr>\n",
       "    <tr>\n",
       "      <th>50</th>\n",
       "      <td>0.942219</td>\n",
       "    </tr>\n",
       "    <tr>\n",
       "      <th>70</th>\n",
       "      <td>0.906548</td>\n",
       "    </tr>\n",
       "    <tr>\n",
       "      <th>100</th>\n",
       "      <td>0.881288</td>\n",
       "    </tr>\n",
       "    <tr>\n",
       "      <th>200</th>\n",
       "      <td>0.738212</td>\n",
       "    </tr>\n",
       "    <tr>\n",
       "      <th>300</th>\n",
       "      <td>0.748334</td>\n",
       "    </tr>\n",
       "    <tr>\n",
       "      <th>400</th>\n",
       "      <td>0.659782</td>\n",
       "    </tr>\n",
       "    <tr>\n",
       "      <th>500</th>\n",
       "      <td>0.584979</td>\n",
       "    </tr>\n",
       "    <tr>\n",
       "      <th>600</th>\n",
       "      <td>0.516289</td>\n",
       "    </tr>\n",
       "  </tbody>\n",
       "</table>\n",
       "</div>"
      ],
      "text/plain": [
       "                         score\n",
       "number of partitions          \n",
       "1                     0.999994\n",
       "2                     0.998682\n",
       "3                     0.996184\n",
       "5                     0.995955\n",
       "10                    0.985756\n",
       "20                    0.975576\n",
       "30                    0.951873\n",
       "50                    0.942219\n",
       "70                    0.906548\n",
       "100                   0.881288\n",
       "200                   0.738212\n",
       "300                   0.748334\n",
       "400                   0.659782\n",
       "500                   0.584979\n",
       "600                   0.516289"
      ]
     },
     "execution_count": 9,
     "metadata": {},
     "output_type": "execute_result"
    }
   ],
   "source": [
    "# Convert similarity scores to pandas dataframe\n",
    "similarity_score_df = pd.DataFrame(data={'score': similarity_scores},\n",
    "                                     index=lst_num_partitions,\n",
    "                                    columns=['score'])\n",
    "similarity_score_df.index.name = 'number of partitions'\n",
    "similarity_score_df"
   ]
  },
  {
   "cell_type": "code",
   "execution_count": 10,
   "metadata": {},
   "outputs": [
    {
     "name": "stdout",
     "output_type": "stream",
     "text": [
      "Similarity between input vs permuted data is 0.12339763210579076\n"
     ]
    }
   ],
   "source": [
    "print(\"Similarity between input vs permuted data is {}\".format(permuted_score))"
   ]
  },
  {
   "cell_type": "code",
   "execution_count": 17,
   "metadata": {},
   "outputs": [
    {
     "data": {
      "image/png": "[encoded data removed]",
      "text/plain": [
       "<Figure size 640x480 with 1 Axes>"
      ]
     },
     "metadata": {},
     "output_type": "display_data"
    },
    {
     "name": "stdout",
     "output_type": "stream",
     "text": [
      "<ggplot: (-9223363276562037216)>\n"
     ]
    }
   ],
   "source": [
    "# Plot\n",
    "threshold = pd.DataFrame(\n",
    "    pd.np.tile(\n",
    "        permuted_score,\n",
    "        (len(lst_num_partitions), 1)),\n",
    "    index=lst_num_partitions,\n",
    "    columns=['score'])\n",
    "\n",
    "g = ggplot(similarity_score_df, aes(x=lst_num_partitions, y='score')) \\\n",
    "    + geom_line() \\\n",
    "    + geom_line(aes(x=lst_num_partitions, y='score'), threshold, linetype='dashed') \\\n",
    "    + labs(x = \"Number of Partitions\", \n",
    "           y = \"Similarity score (SVCCA)\", \n",
    "           title = \"Similarity after correcting for partition variation\") \\\n",
    "    + theme_bw() \\\n",
    "    + theme(plot_title=element_text(weight='bold'))\n",
    "\n",
    "print(g)\n",
    "ggsave(plot=g, filename=svcca_file, dpi=300)"
   ]
  },
  {
   "cell_type": "code",
   "execution_count": 24,
   "metadata": {},
   "outputs": [
    {
     "data": {
      "image/png": "[encoded data removed]",
      "text/plain": [
       "<Figure size 640x480 with 1 Axes>"
      ]
     },
     "metadata": {},
     "output_type": "display_data"
    },
    {
     "name": "stdout",
     "output_type": "stream",
     "text": [
      "<ggplot: (-9223363276562956628)>\n"
     ]
    }
   ],
   "source": [
    "# Plot - black\n",
    "threshold = pd.DataFrame(\n",
    "    pd.np.tile(\n",
    "        permuted_score,\n",
    "        (len(lst_num_partitions), 1)),\n",
    "    index=lst_num_partitions,\n",
    "    columns=['score'])\n",
    "\n",
    "g = ggplot(similarity_score_df, aes(x=lst_num_partitions, y='score')) \\\n",
    "    + geom_line(colour=\"white\") \\\n",
    "    + geom_line(aes(x=lst_num_partitions, y='score'), threshold, colour=\"white\", linetype='dashed') \\\n",
    "    + labs(x = \"Number of Partitions\", \n",
    "           y = \"Similarity score (SVCCA)\", \n",
    "           title = \"Similarity after correcting for partition variation\") \\\n",
    "    + theme(plot_title=element_text(weight='bold', colour=\"white\"),\n",
    "            plot_background=element_rect(fill=\"black\"),\n",
    "            panel_background=element_rect(fill=\"black\"),\n",
    "            axis_title_x=element_text(colour=\"white\"),\n",
    "            axis_title_y=element_text(colour=\"white\"),\n",
    "            axis_line=element_line(color=\"white\"),\n",
    "            axis_text=element_text(color=\"white\")\n",
    "           )\n",
    "\n",
    "print(g)\n",
    "ggsave(plot=g, filename=svcca_blk_file, dpi=300)"
   ]
  },
  {
   "cell_type": "code",
   "execution_count": 26,
   "metadata": {},
   "outputs": [],
   "source": [
    "# Pickle similarity scores to overlay uncorrected and corrected svcca curves\n",
    "similarity_score_df.to_pickle(similarity_corrected_file)"
   ]
  }
 ],
 "metadata": {
  "kernelspec": {
   "display_name": "Python [conda env:batch_effects]",
   "language": "python",
   "name": "conda-env-batch_effects-py"
  },
  "language_info": {
   "codemirror_mode": {
    "name": "ipython",
    "version": 3
   },
   "file_extension": ".py",
   "mimetype": "text/x-python",
   "name": "python",
   "nbconvert_exporter": "python",
   "pygments_lexer": "ipython3",
   "version": "3.5.5"
  }
 },
 "nbformat": 4,
 "nbformat_minor": 2
}
