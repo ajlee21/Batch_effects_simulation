{
 "cells": [
  {
   "cell_type": "markdown",
   "metadata": {},
   "source": [
    "# Train VAE"
   ]
  },
  {
   "cell_type": "code",
   "execution_count": 1,
   "metadata": {},
   "outputs": [
    {
     "name": "stderr",
     "output_type": "stream",
     "text": [
      "Using TensorFlow backend.\n"
     ]
    }
   ],
   "source": [
    "%load_ext autoreload\n",
    "%autoreload 2\n",
    "\n",
    "import os\n",
    "import sys\n",
    "import ast\n",
    "import pandas as pd\n",
    "import numpy as np\n",
    "import random\n",
    "import warnings\n",
    "warnings.filterwarnings(action='ignore')\n",
    "\n",
    "sys.path.append(\"../../\")\n",
    "from functions import vae, utils\n",
    "\n",
    "from numpy.random import seed\n",
    "randomState = 123\n",
    "seed(randomState)"
   ]
  },
  {
   "cell_type": "code",
   "execution_count": null,
   "metadata": {},
   "outputs": [],
   "source": [
    "# Read in config variables\n",
    "config_file = os.path.abspath(os.path.join(os.getcwd(),\"../../configs\", \"config_Human_experiment.tsv\"))\n",
    "params = utils.read_config(config_file)"
   ]
  },
  {
   "cell_type": "code",
   "execution_count": null,
   "metadata": {},
   "outputs": [],
   "source": [
    "# Load parameters\n",
    "dataset_name = params['dataset_name']"
   ]
  },
  {
   "cell_type": "code",
   "execution_count": 2,
   "metadata": {},
   "outputs": [
    {
     "name": "stdout",
     "output_type": "stream",
     "text": [
      "directory already exists: /home/alexandra/Documents/Repos/Batch_effects_simulation/data\n",
      "directory already exists: /home/alexandra/Documents/Repos/Batch_effects_simulation/models\n",
      "directory already exists: /home/alexandra/Documents/Repos/Batch_effects_simulation/output\n",
      "directory already exists: /home/alexandra/Documents/Repos/Batch_effects_simulation/data/encoded\n",
      "directory already exists: /home/alexandra/Documents/Repos/Batch_effects_simulation/output/stats\n",
      "directory already exists: /home/alexandra/Documents/Repos/Batch_effects_simulation/output/viz\n"
     ]
    }
   ],
   "source": [
    "# Load arguments\n",
    "base_dir = os.path.abspath(os.path.join(os.getcwd(),\"../..\"))\n",
    "\n",
    "normalized_data_file = os.path.join(\n",
    "    base_dir,\n",
    "    dataset_name,\n",
    "    \"data\",\n",
    "    \"input\",\n",
    "    \"recount2_gene_normalized_data.tsv.xz\")"
   ]
  },
  {
   "cell_type": "code",
   "execution_count": 4,
   "metadata": {},
   "outputs": [
    {
     "name": "stdout",
     "output_type": "stream",
     "text": [
      "(896, 58037)\n"
     ]
    }
   ],
   "source": [
    "# Read data\n",
    "normalized_data = pd.read_table(\n",
    "    normalized_data_file,\n",
    "    header=0,\n",
    "    sep='\\t',\n",
    "    index_col=0).T\n",
    "\n",
    "print(normalized_data.shape)"
   ]
  },
  {
   "cell_type": "code",
   "execution_count": 5,
   "metadata": {},
   "outputs": [],
   "source": [
    "# VAE Parameters \n",
    "learning_rate = 0.001\n",
    "batch_size = 100\n",
    "epochs = 40\n",
    "kappa = 0.01\n",
    "intermediate_dim = 2500\n",
    "latent_dim = 30\n",
    "epsilon_std = 1.0\n",
    "train_architecture = \"NN_{}_{}\".format(intermediate_dim, latent_dim)"
   ]
  },
  {
   "cell_type": "code",
   "execution_count": 6,
   "metadata": {},
   "outputs": [
    {
     "name": "stdout",
     "output_type": "stream",
     "text": [
      "directory already exists: /home/alexandra/Documents/Repos/Batch_effects_simulation/data/encoded/NN_2500_30\n",
      "directory already exists: /home/alexandra/Documents/Repos/Batch_effects_simulation/models/NN_2500_30\n",
      "directory already exists: /home/alexandra/Documents/Repos/Batch_effects_simulation/output/stats/NN_2500_30\n",
      "directory already exists: /home/alexandra/Documents/Repos/Batch_effects_simulation/output/viz/NN_2500_30\n"
     ]
    }
   ],
   "source": [
    "# Create analysis output directories\n",
    "output_dirs = [os.path.join(base_dir, dataset_name, \"models\"),\n",
    "             os.path.join(base_dir, dataset_name, \"logs\")\n",
    "             ]\n",
    "\n",
    "# Check if analysis output directory exist otherwise create\n",
    "for each_dir in output_dirs:\n",
    "    if os.path.exists(each_dir):\n",
    "        print('directory already exists: {}'.format(each_dir))\n",
    "    else:\n",
    "        print('creating new directory: {}'.format(each_dir))\n",
    "    os.makedirs(each_dir, exist_ok=True)\n",
    "    \n",
    "\n",
    "# Check if NN architecture directory exist otherwise create\n",
    "for each_dir in output_dirs:\n",
    "    new_dir = os.path.join(each_dir, train_architecture)\n",
    "    \n",
    "    if os.path.exists(new_dir):\n",
    "        print('directory already exists: {}'.format(new_dir))\n",
    "    else:\n",
    "        print('creating new directory: {}'.format(new_dir))\n",
    "    os.makedirs(new_dir, exist_ok=True)"
   ]
  },
  {
   "cell_type": "code",
   "execution_count": 7,
   "metadata": {
    "scrolled": true
   },
   "outputs": [
    {
     "name": "stdout",
     "output_type": "stream",
     "text": [
      "Train on 806 samples, validate on 90 samples\n",
      "Epoch 1/20\n",
      "806/806 [==============================] - 65s 80ms/step - loss: 22944.5645 - val_loss: 8588.9424\n",
      "Epoch 2/20\n",
      "806/806 [==============================] - 53s 66ms/step - loss: 7798.0927 - val_loss: 7594.9141\n",
      "Epoch 3/20\n",
      "806/806 [==============================] - 55s 68ms/step - loss: 7387.7928 - val_loss: 6647.7827\n",
      "Epoch 4/20\n",
      "806/806 [==============================] - 56s 70ms/step - loss: 6940.6688 - val_loss: 6044.8779\n",
      "Epoch 5/20\n",
      "806/806 [==============================] - 53s 66ms/step - loss: 6643.5032 - val_loss: 5841.0771\n",
      "Epoch 6/20\n",
      "806/806 [==============================] - 54s 67ms/step - loss: 6153.9287 - val_loss: 5806.5327\n",
      "Epoch 7/20\n",
      "806/806 [==============================] - 56s 70ms/step - loss: 5938.6911 - val_loss: 5689.1904\n",
      "Epoch 8/20\n",
      "806/806 [==============================] - 57s 70ms/step - loss: 5812.0207 - val_loss: 5642.5015\n",
      "Epoch 9/20\n",
      "806/806 [==============================] - 55s 68ms/step - loss: 5732.7445 - val_loss: 5516.9639\n",
      "Epoch 10/20\n",
      "806/806 [==============================] - 57s 71ms/step - loss: 5695.0348 - val_loss: 5464.5171\n",
      "Epoch 11/20\n",
      "806/806 [==============================] - 56s 70ms/step - loss: 5673.9751 - val_loss: 5446.5596\n",
      "Epoch 12/20\n",
      "806/806 [==============================] - 57s 71ms/step - loss: 5593.9197 - val_loss: 5424.2974\n",
      "Epoch 13/20\n",
      "806/806 [==============================] - 56s 69ms/step - loss: 5584.0584 - val_loss: 5414.0176\n",
      "Epoch 14/20\n",
      "806/806 [==============================] - 58s 72ms/step - loss: 5571.5809 - val_loss: 5386.4790\n",
      "Epoch 15/20\n",
      "806/806 [==============================] - 59s 73ms/step - loss: 5525.6188 - val_loss: 5344.8906\n",
      "Epoch 16/20\n",
      "806/806 [==============================] - 55s 68ms/step - loss: 5518.7931 - val_loss: 5326.2725\n",
      "Epoch 17/20\n",
      "806/806 [==============================] - 56s 69ms/step - loss: 5533.9862 - val_loss: 5294.4766\n",
      "Epoch 18/20\n",
      "806/806 [==============================] - 58s 72ms/step - loss: 5479.2444 - val_loss: 5391.5308\n",
      "Epoch 19/20\n",
      "806/806 [==============================] - 55s 69ms/step - loss: 5486.6275 - val_loss: 5266.3755\n",
      "Epoch 20/20\n",
      "806/806 [==============================] - 57s 70ms/step - loss: 5469.1239 - val_loss: 5245.7383\n"
     ]
    },
    {
     "data": {
      "image/png": "[encoded data removed]",
      "text/plain": [
       "<Figure size 432x288 with 1 Axes>"
      ]
     },
     "metadata": {},
     "output_type": "display_data"
    }
   ],
   "source": [
    "# Train (VAE)\n",
    "vae.tybalt_2layer_model(learning_rate,\n",
    "                        batch_size,\n",
    "                        epochs, \n",
    "                        kappa, \n",
    "                        intermediate_dim,\n",
    "                        latent_dim, \n",
    "                        epsilon_std,\n",
    "                        normalized_data,\n",
    "                        base_dir, \n",
    "                        dataset_name,\n",
    "                        train_architecture)"
   ]
  }
 ],
 "metadata": {
  "kernelspec": {
   "display_name": "Python [conda env:batch_effects]",
   "language": "python",
   "name": "conda-env-batch_effects-py"
  },
  "language_info": {
   "codemirror_mode": {
    "name": "ipython",
    "version": 3
   },
   "file_extension": ".py",
   "mimetype": "text/x-python",
   "name": "python",
   "nbconvert_exporter": "python",
   "pygments_lexer": "ipython3",
   "version": "3.5.5"
  }
 },
 "nbformat": 4,
 "nbformat_minor": 2
}
